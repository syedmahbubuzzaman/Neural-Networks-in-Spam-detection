{
  "nbformat": 4,
  "nbformat_minor": 0,
  "metadata": {
    "kernelspec": {
      "display_name": "Python 3",
      "language": "python",
      "name": "python3"
    },
    "language_info": {
      "codemirror_mode": {
        "name": "ipython",
        "version": 3
      },
      "file_extension": ".py",
      "mimetype": "text/x-python",
      "name": "python",
      "nbconvert_exporter": "python",
      "pygments_lexer": "ipython3",
      "version": "3.7.6"
    },
    "colab": {
      "name": "Adam_LSTM,BiLSTM,GRU.ipynb",
      "provenance": [],
      "collapsed_sections": [
        "_wtlTSmaI9ej",
        "aUeSIUGoIyuT",
        "sOgIC9vgIyx5",
        "W5cfcZhuIyyF",
        "NQnP3LyeIyyN",
        "wYBAvFS-IyyT",
        "cNJGhByLIyyZ"
      ],
      "machine_shape": "hm"
    },
    "accelerator": "GPU"
  },
  "cells": [
    {
      "cell_type": "markdown",
      "metadata": {
        "id": "_wtlTSmaI9ej"
      },
      "source": [
        "# Necessary Libraries\n"
      ]
    },
    {
      "cell_type": "code",
      "metadata": {
        "id": "UBGPH0VtIyxr",
        "colab": {
          "base_uri": "https://localhost:8080/"
        },
        "outputId": "4c25bb83-3ba9-4615-8595-f9e205aac454"
      },
      "source": [
        "import pandas as pd\n",
        "import re\n",
        "import string\n",
        "import numpy as np\n",
        "import tensorflow as tf\n",
        "import seaborn as sns\n",
        "import matplotlib.pyplot as plt  \n",
        "import io\n",
        "import warnings\n",
        "warnings.filterwarnings(\"ignore\", category=np.VisibleDeprecationWarning)\n",
        "from google.colab import files \n",
        "from sklearn.feature_extraction.stop_words import ENGLISH_STOP_WORDS\n",
        "from sklearn.model_selection import train_test_split\n",
        "from sklearn.preprocessing import LabelEncoder\n",
        "from keras.preprocessing.text import Tokenizer\n",
        "from keras.preprocessing.sequence import pad_sequences\n",
        "from keras.layers import Dense, Input, LSTM, GRU, Embedding, Dropout, Activation\n",
        "from keras.layers import Bidirectional\n",
        "from keras.models import Model\n",
        "# from  matplotlib import pyplot as plt\n",
        "from keras.utils.vis_utils import plot_model\n",
        "from sklearn.metrics import confusion_matrix,f1_score, precision_score,recall_score\n",
        "from sklearn.metrics import roc_curve, auc,accuracy_score\n",
        "# Time and counters\n",
        "from time import perf_counter"
      ],
      "execution_count": 1,
      "outputs": [
        {
          "output_type": "stream",
          "name": "stderr",
          "text": [
            "/usr/local/lib/python3.7/dist-packages/sklearn/utils/deprecation.py:144: FutureWarning: The sklearn.feature_extraction.stop_words module is  deprecated in version 0.22 and will be removed in version 0.24. The corresponding classes / functions should instead be imported from sklearn.feature_extraction.text. Anything that cannot be imported from sklearn.feature_extraction.text is now part of the private API.\n",
            "  warnings.warn(message, FutureWarning)\n"
          ]
        }
      ]
    },
    {
      "cell_type": "code",
      "metadata": {
        "colab": {
          "base_uri": "https://localhost:8080/"
        },
        "id": "wTy7v6OufS6g",
        "outputId": "25382d6f-4af8-46a7-e748-197cb98985fc"
      },
      "source": [
        "from google.colab import drive\n",
        "drive.mount('/content/drive')"
      ],
      "execution_count": 2,
      "outputs": [
        {
          "output_type": "stream",
          "name": "stdout",
          "text": [
            "Drive already mounted at /content/drive; to attempt to forcibly remount, call drive.mount(\"/content/drive\", force_remount=True).\n"
          ]
        }
      ]
    },
    {
      "cell_type": "markdown",
      "metadata": {
        "id": "aUeSIUGoIyuT"
      },
      "source": [
        "# Reading DataSet"
      ]
    },
    {
      "cell_type": "code",
      "metadata": {
        "id": "wB9EGf7fIyxw"
      },
      "source": [
        "#uploaded = files.upload()\n",
        "dataPath   = \"drive/MyDrive/Mahboob/Dataset/\" \n",
        "heatmaps   = \"drive/MyDrive/Mahboob/Heatmaps/\"\n",
        "Visuals    = \"drive/MyDrive/Mahboob/Visuals/\"\n",
        "Comparison = \"drive/MyDrive/Mahboob/Comparison/\"\n",
        "Model      = \"drive/MyDrive/Mahboob/Models/\"\n",
        "\n",
        "def plot_graphs(history, metric):\n",
        "    plt.plot(history.history[metric])\n",
        "    plt.plot(history.history['val_'+metric], '')\n",
        "    plt.xlabel(\"Epochs\")\n",
        "    plt.ylabel(metric)\n",
        "    plt.legend([metric, 'val_'+metric])\n",
        "\n",
        "\n",
        "def ROC_AUC(y_test, y_pred, fname):\n",
        "    # evluate true positive rate and false positive rate using sklearn builtin function\n",
        "    lr_fpr, lr_tpr, _ = roc_curve(y_test, y_pred)\n",
        "    # find area under curve score\n",
        "    lr_auc = auc(lr_fpr, lr_tpr)\n",
        "\n",
        "    # display auc score\n",
        "    print(\"AUC:\", lr_auc)\n",
        "    # plot linear line with no learning\n",
        "    plt.plot([0, 1], [0, 1], 'k--')\n",
        "    # plot tpr and fpr ratio\n",
        "    plt.plot(lr_fpr, lr_tpr, marker='.', label='lr (auc = %0.3f)' % lr_auc)\n",
        "    # assign labels\n",
        "    plt.xlabel('False positive rate')\n",
        "    plt.ylabel('True positive rate')\n",
        "    plt.title('Receiver Operating Characterisics')\n",
        "    plt.legend(loc='lower right')\n",
        "    plt.savefig(f\"{Visuals}{fname}\")\n",
        "    # plt.savefig(f\"{fname}.jpeg\")\n",
        "    return lr_auc\n",
        "\n",
        "def get_Metrics(y_test, y_pred, average=\"macro\"):\n",
        "    \n",
        "    lr_fpr, lr_tpr, _ = roc_curve(y_test, y_pred)\n",
        "    # find area under curve score\n",
        "    lr_auc = auc(lr_fpr, lr_tpr)\n",
        "    precision = precision_score(y_test, y_pred, average = average)\n",
        "    recall = recall_score(y_test, y_pred, average = average)\n",
        "    f1_score_ = f1_score(y_test, y_pred, average = average)\n",
        "    accuracy = accuracy_score(y_test, y_pred)\n",
        "    #print(f\"precision : {precision} recall : {recall} f1_score : {f1_score_} accuracy : {accuracy}\")\n",
        "    return precision, recall, f1_score_, accuracy, lr_auc\n"
      ],
      "execution_count": 3,
      "outputs": []
    },
    {
      "cell_type": "code",
      "metadata": {
        "id": "zWG8DrwIIyxy",
        "colab": {
          "base_uri": "https://localhost:8080/",
          "height": 204
        },
        "outputId": "026915e8-c1ed-4e7c-e144-03d7d5629862"
      },
      "source": [
        "data = pd.read_csv(f\"{dataPath}spam(madeof).csv\")\n",
        "data.head()"
      ],
      "execution_count": 4,
      "outputs": [
        {
          "output_type": "execute_result",
          "data": {
            "text/html": [
              "<div>\n",
              "<style scoped>\n",
              "    .dataframe tbody tr th:only-of-type {\n",
              "        vertical-align: middle;\n",
              "    }\n",
              "\n",
              "    .dataframe tbody tr th {\n",
              "        vertical-align: top;\n",
              "    }\n",
              "\n",
              "    .dataframe thead th {\n",
              "        text-align: right;\n",
              "    }\n",
              "</style>\n",
              "<table border=\"1\" class=\"dataframe\">\n",
              "  <thead>\n",
              "    <tr style=\"text-align: right;\">\n",
              "      <th></th>\n",
              "      <th>v1</th>\n",
              "      <th>v2</th>\n",
              "    </tr>\n",
              "  </thead>\n",
              "  <tbody>\n",
              "    <tr>\n",
              "      <th>0</th>\n",
              "      <td>ham</td>\n",
              "      <td>Subject: enron methanol ; meter # : 988291\\nth...</td>\n",
              "    </tr>\n",
              "    <tr>\n",
              "      <th>1</th>\n",
              "      <td>ham</td>\n",
              "      <td>Subject: hpl nom for january 9 , 2001\\r\\n( see...</td>\n",
              "    </tr>\n",
              "    <tr>\n",
              "      <th>2</th>\n",
              "      <td>ham</td>\n",
              "      <td>Subject: neon retreat\\r\\nho ho ho , we ' re ar...</td>\n",
              "    </tr>\n",
              "    <tr>\n",
              "      <th>3</th>\n",
              "      <td>spam</td>\n",
              "      <td>Subject: photoshop , windows , office . cheap ...</td>\n",
              "    </tr>\n",
              "    <tr>\n",
              "      <th>4</th>\n",
              "      <td>ham</td>\n",
              "      <td>Subject: re : indian springs\\r\\nthis deal is t...</td>\n",
              "    </tr>\n",
              "  </tbody>\n",
              "</table>\n",
              "</div>"
            ],
            "text/plain": [
              "     v1                                                 v2\n",
              "0   ham  Subject: enron methanol ; meter # : 988291\\nth...\n",
              "1   ham  Subject: hpl nom for january 9 , 2001\\r\\n( see...\n",
              "2   ham  Subject: neon retreat\\r\\nho ho ho , we ' re ar...\n",
              "3  spam  Subject: photoshop , windows , office . cheap ...\n",
              "4   ham  Subject: re : indian springs\\r\\nthis deal is t..."
            ]
          },
          "metadata": {},
          "execution_count": 4
        }
      ]
    },
    {
      "cell_type": "code",
      "metadata": {
        "id": "XDo-2eunIyx2"
      },
      "source": [
        "data[\"spam\"] = data.v1\n",
        "data[\"text\"] = data.v2"
      ],
      "execution_count": 5,
      "outputs": []
    },
    {
      "cell_type": "markdown",
      "metadata": {
        "id": "sOgIC9vgIyx5"
      },
      "source": [
        "# Splitting data"
      ]
    },
    {
      "cell_type": "code",
      "metadata": {
        "id": "CKqqW3y0Iyx5"
      },
      "source": [
        "emails_train, emails_test, target_train, target_test = train_test_split(data.text, data.spam, test_size = 0.2) "
      ],
      "execution_count": 6,
      "outputs": []
    },
    {
      "cell_type": "code",
      "metadata": {
        "id": "FhaVY-xSIyx8",
        "colab": {
          "base_uri": "https://localhost:8080/"
        },
        "outputId": "fe6a60e2-a769-4881-c234-57ff5d32f0c9"
      },
      "source": [
        "data.info"
      ],
      "execution_count": 7,
      "outputs": [
        {
          "output_type": "execute_result",
          "data": {
            "text/plain": [
              "<bound method DataFrame.info of         v1  ...                                               text\n",
              "0      ham  ...  Subject: enron methanol ; meter # : 988291\\nth...\n",
              "1      ham  ...  Subject: hpl nom for january 9 , 2001\\r\\n( see...\n",
              "2      ham  ...  Subject: neon retreat\\r\\nho ho ho , we ' re ar...\n",
              "3     spam  ...  Subject: photoshop , windows , office . cheap ...\n",
              "4      ham  ...  Subject: re : indian springs\\r\\nthis deal is t...\n",
              "...    ...  ...                                                ...\n",
              "5166   ham  ...  Subject: put the 10 on the ft\\r\\nthe transport...\n",
              "5167   ham  ...  Subject: 3 / 4 / 2000 and following noms\\r\\nhp...\n",
              "5168   ham  ...  Subject: calpine daily gas nomination\\r\\n>\\r\\n...\n",
              "5169   ham  ...  Subject: industrial worksheets for august 2000...\n",
              "5170  spam  ...  Subject: important online banking alert\\r\\ndea...\n",
              "\n",
              "[5171 rows x 4 columns]>"
            ]
          },
          "metadata": {},
          "execution_count": 7
        }
      ]
    },
    {
      "cell_type": "code",
      "metadata": {
        "id": "u_7DJm1kIyx-",
        "colab": {
          "base_uri": "https://localhost:8080/"
        },
        "outputId": "5174b3e5-ad4b-4828-f069-4dff2207ba0e"
      },
      "source": [
        "emails_train.shape"
      ],
      "execution_count": 8,
      "outputs": [
        {
          "output_type": "execute_result",
          "data": {
            "text/plain": [
              "(4136,)"
            ]
          },
          "metadata": {},
          "execution_count": 8
        }
      ]
    },
    {
      "cell_type": "code",
      "metadata": {
        "colab": {
          "base_uri": "https://localhost:8080/",
          "height": 173
        },
        "id": "63xgS10UhEkX",
        "outputId": "8231b61a-0ed5-4474-8bb1-4daf677b1ec4"
      },
      "source": [
        "data.describe()\n"
      ],
      "execution_count": 9,
      "outputs": [
        {
          "output_type": "execute_result",
          "data": {
            "text/html": [
              "<div>\n",
              "<style scoped>\n",
              "    .dataframe tbody tr th:only-of-type {\n",
              "        vertical-align: middle;\n",
              "    }\n",
              "\n",
              "    .dataframe tbody tr th {\n",
              "        vertical-align: top;\n",
              "    }\n",
              "\n",
              "    .dataframe thead th {\n",
              "        text-align: right;\n",
              "    }\n",
              "</style>\n",
              "<table border=\"1\" class=\"dataframe\">\n",
              "  <thead>\n",
              "    <tr style=\"text-align: right;\">\n",
              "      <th></th>\n",
              "      <th>v1</th>\n",
              "      <th>v2</th>\n",
              "      <th>spam</th>\n",
              "      <th>text</th>\n",
              "    </tr>\n",
              "  </thead>\n",
              "  <tbody>\n",
              "    <tr>\n",
              "      <th>count</th>\n",
              "      <td>5171</td>\n",
              "      <td>5171</td>\n",
              "      <td>5171</td>\n",
              "      <td>5171</td>\n",
              "    </tr>\n",
              "    <tr>\n",
              "      <th>unique</th>\n",
              "      <td>2</td>\n",
              "      <td>4993</td>\n",
              "      <td>2</td>\n",
              "      <td>4993</td>\n",
              "    </tr>\n",
              "    <tr>\n",
              "      <th>top</th>\n",
              "      <td>ham</td>\n",
              "      <td>Subject: calpine daily gas nomination\\r\\n&gt;\\r\\n...</td>\n",
              "      <td>ham</td>\n",
              "      <td>Subject: calpine daily gas nomination\\r\\n&gt;\\r\\n...</td>\n",
              "    </tr>\n",
              "    <tr>\n",
              "      <th>freq</th>\n",
              "      <td>3672</td>\n",
              "      <td>20</td>\n",
              "      <td>3672</td>\n",
              "      <td>20</td>\n",
              "    </tr>\n",
              "  </tbody>\n",
              "</table>\n",
              "</div>"
            ],
            "text/plain": [
              "          v1  ...                                               text\n",
              "count   5171  ...                                               5171\n",
              "unique     2  ...                                               4993\n",
              "top      ham  ...  Subject: calpine daily gas nomination\\r\\n>\\r\\n...\n",
              "freq    3672  ...                                                 20\n",
              "\n",
              "[4 rows x 4 columns]"
            ]
          },
          "metadata": {},
          "execution_count": 9
        }
      ]
    },
    {
      "cell_type": "code",
      "metadata": {
        "id": "CxUkV9h1hwJG",
        "colab": {
          "base_uri": "https://localhost:8080/",
          "height": 32
        },
        "outputId": "58b4897c-f8fb-4b16-ed2b-91858a85dd1c"
      },
      "source": [
        "data.corr()\n"
      ],
      "execution_count": 10,
      "outputs": [
        {
          "output_type": "execute_result",
          "data": {
            "text/html": [
              "<div>\n",
              "<style scoped>\n",
              "    .dataframe tbody tr th:only-of-type {\n",
              "        vertical-align: middle;\n",
              "    }\n",
              "\n",
              "    .dataframe tbody tr th {\n",
              "        vertical-align: top;\n",
              "    }\n",
              "\n",
              "    .dataframe thead th {\n",
              "        text-align: right;\n",
              "    }\n",
              "</style>\n",
              "<table border=\"1\" class=\"dataframe\">\n",
              "  <thead>\n",
              "    <tr style=\"text-align: right;\">\n",
              "      <th></th>\n",
              "    </tr>\n",
              "  </thead>\n",
              "  <tbody>\n",
              "  </tbody>\n",
              "</table>\n",
              "</div>"
            ],
            "text/plain": [
              "Empty DataFrame\n",
              "Columns: []\n",
              "Index: []"
            ]
          },
          "metadata": {},
          "execution_count": 10
        }
      ]
    },
    {
      "cell_type": "markdown",
      "metadata": {
        "id": "W5cfcZhuIyyF"
      },
      "source": [
        "# Preprocessing"
      ]
    },
    {
      "cell_type": "code",
      "metadata": {
        "id": "UVDFx5cIIyyF"
      },
      "source": [
        "def remove_hyperlink(word):\n",
        "    return  re.sub(r'http\\S+', '', word)\n",
        "\n",
        "def to_lower(word):\n",
        "    result = word.lower()\n",
        "    return result\n",
        "\n",
        "def remove_number(word):\n",
        "    result = re.sub(r'\\d+', '', word)\n",
        "    return result\n",
        "\n",
        "def remove_punctuation(word):\n",
        "    result = word.translate(str.maketrans(dict.fromkeys(string.punctuation)))\n",
        "    return result\n",
        "\n",
        "def remove_whitespace(word):\n",
        "    result = word.strip()\n",
        "    return result\n",
        "\n",
        "def replace_newline(word):\n",
        "    return word.replace('\\n','')\n",
        "\n",
        "\n",
        "\n",
        "def clean_up_pipeline(sentence):\n",
        "    cleaning_utils = [remove_hyperlink,\n",
        "                      replace_newline,\n",
        "                      to_lower,\n",
        "                      remove_number,\n",
        "                      remove_punctuation,\n",
        "                      remove_whitespace]\n",
        "    for o in cleaning_utils:\n",
        "        sentence = o(sentence)\n",
        "    return sentence\n",
        "\n",
        "x_train = [clean_up_pipeline(o) for o in emails_train]\n",
        "x_test = [clean_up_pipeline(o) for o in emails_test]\n",
        "\n",
        "#x_train[0]"
      ],
      "execution_count": 11,
      "outputs": []
    },
    {
      "cell_type": "code",
      "metadata": {
        "id": "J6m0KYITIyyI"
      },
      "source": [
        "le = LabelEncoder()\n",
        "train_y = le.fit_transform(target_train.values)\n",
        "test_y = le.transform(target_test.values)"
      ],
      "execution_count": 12,
      "outputs": []
    },
    {
      "cell_type": "code",
      "metadata": {
        "id": "p8nTaChYIyyK",
        "colab": {
          "base_uri": "https://localhost:8080/"
        },
        "outputId": "1bb6b099-1aa5-41ae-a152-3e07a33e2257"
      },
      "source": [
        "train_y\n"
      ],
      "execution_count": 13,
      "outputs": [
        {
          "output_type": "execute_result",
          "data": {
            "text/plain": [
              "array([0, 0, 0, ..., 0, 0, 0])"
            ]
          },
          "metadata": {},
          "execution_count": 13
        }
      ]
    },
    {
      "cell_type": "markdown",
      "metadata": {
        "id": "NQnP3LyeIyyN"
      },
      "source": [
        "# Tokenize"
      ]
    },
    {
      "cell_type": "code",
      "metadata": {
        "id": "hRfyW-pHIyyN"
      },
      "source": [
        "## some config values \n",
        "embed_size = 100 # how big is each word vector\n",
        "max_feature = 50000 # how many unique words to use (i.e num rows in embedding vector)\n",
        "max_len = 2000 # max number of words in a question to use"
      ],
      "execution_count": 14,
      "outputs": []
    },
    {
      "cell_type": "code",
      "metadata": {
        "id": "4pU9YkDwIyyQ"
      },
      "source": [
        "tokenizer = Tokenizer(num_words=max_feature)\n",
        "\n",
        "tokenizer.fit_on_texts(x_train)\n",
        "\n",
        "x_train_features = np.array(tokenizer.texts_to_sequences(x_train))\n",
        "x_test_features = np.array(tokenizer.texts_to_sequences(x_test))\n",
        "\n",
        "#x_train_features[0]"
      ],
      "execution_count": 15,
      "outputs": []
    },
    {
      "cell_type": "markdown",
      "metadata": {
        "id": "wYBAvFS-IyyT"
      },
      "source": [
        "# Padding"
      ]
    },
    {
      "cell_type": "code",
      "metadata": {
        "id": "J9qrzRgtIyyU",
        "colab": {
          "base_uri": "https://localhost:8080/"
        },
        "outputId": "75ca679a-63b8-449c-c2ca-92c303f716e2"
      },
      "source": [
        "x_train_features = pad_sequences(x_train_features,maxlen=max_len)\n",
        "x_test_features = pad_sequences(x_test_features,maxlen=max_len)\n",
        "x_train_features[0]"
      ],
      "execution_count": 16,
      "outputs": [
        {
          "output_type": "execute_result",
          "data": {
            "text/plain": [
              "array([   0,    0,    0, ..., 1160, 7274,  483], dtype=int32)"
            ]
          },
          "metadata": {},
          "execution_count": 16
        }
      ]
    },
    {
      "cell_type": "markdown",
      "metadata": {
        "id": "cNJGhByLIyyZ"
      },
      "source": [
        "# Model"
      ]
    },
    {
      "cell_type": "code",
      "metadata": {
        "id": "2ppV2YhHIyyZ"
      },
      "source": [
        "embedding_vecor_length = 32"
      ],
      "execution_count": 17,
      "outputs": []
    },
    {
      "cell_type": "markdown",
      "metadata": {
        "id": "EGKQnWl1H5BT"
      },
      "source": [
        "#**LSTM** "
      ]
    },
    {
      "cell_type": "code",
      "metadata": {
        "colab": {
          "base_uri": "https://localhost:8080/"
        },
        "id": "TF3nPL7lEjhE",
        "outputId": "a8c06e67-4d3d-449a-9252-6451b35cb88d"
      },
      "source": [
        "# LSTM\n",
        "model = tf.keras.Sequential()\n",
        "model.add(Embedding(max_feature, embedding_vecor_length, input_length=max_len))\n",
        "model.add(tf.keras.layers.LSTM(64))\n",
        "model.add(Dense(16, activation='relu'))\n",
        "model.add(Dropout(0.1))\n",
        "model.add(Dense(1, activation='sigmoid'))\n",
        "model.compile(loss='binary_crossentropy', optimizer='adam', metrics=['accuracy'])\n",
        "print(model.summary())"
      ],
      "execution_count": 18,
      "outputs": [
        {
          "output_type": "stream",
          "name": "stdout",
          "text": [
            "Model: \"sequential\"\n",
            "_________________________________________________________________\n",
            "Layer (type)                 Output Shape              Param #   \n",
            "=================================================================\n",
            "embedding (Embedding)        (None, 2000, 32)          1600000   \n",
            "_________________________________________________________________\n",
            "lstm (LSTM)                  (None, 64)                24832     \n",
            "_________________________________________________________________\n",
            "dense (Dense)                (None, 16)                1040      \n",
            "_________________________________________________________________\n",
            "dropout (Dropout)            (None, 16)                0         \n",
            "_________________________________________________________________\n",
            "dense_1 (Dense)              (None, 1)                 17        \n",
            "=================================================================\n",
            "Total params: 1,625,889\n",
            "Trainable params: 1,625,889\n",
            "Non-trainable params: 0\n",
            "_________________________________________________________________\n",
            "None\n"
          ]
        }
      ]
    },
    {
      "cell_type": "code",
      "metadata": {
        "colab": {
          "base_uri": "https://localhost:8080/"
        },
        "id": "ztrrJ4CMEqg8",
        "outputId": "8126488c-9ff1-4a8a-f681-3733b3829903"
      },
      "source": [
        "# LSTM\n",
        "start = perf_counter()\n",
        "history = model.fit(x_train_features, train_y, batch_size=512, epochs=10, validation_split=0.2)\n",
        "duration_lstm = perf_counter() - start\n",
        "duration_lstm = round(duration_lstm,2)\n",
        "lstm_history = history "
      ],
      "execution_count": 19,
      "outputs": [
        {
          "output_type": "stream",
          "name": "stdout",
          "text": [
            "Epoch 1/10\n",
            "7/7 [==============================] - 4s 242ms/step - loss: 0.6831 - accuracy: 0.6753 - val_loss: 0.6635 - val_accuracy: 0.6981\n",
            "Epoch 2/10\n",
            "7/7 [==============================] - 1s 178ms/step - loss: 0.6322 - accuracy: 0.7125 - val_loss: 0.5794 - val_accuracy: 0.6981\n",
            "Epoch 3/10\n",
            "7/7 [==============================] - 1s 177ms/step - loss: 0.5486 - accuracy: 0.7125 - val_loss: 0.5347 - val_accuracy: 0.6981\n",
            "Epoch 4/10\n",
            "7/7 [==============================] - 1s 177ms/step - loss: 0.4689 - accuracy: 0.7125 - val_loss: 0.4484 - val_accuracy: 0.7005\n",
            "Epoch 5/10\n",
            "7/7 [==============================] - 1s 178ms/step - loss: 0.3377 - accuracy: 0.7709 - val_loss: 0.3487 - val_accuracy: 0.8140\n",
            "Epoch 6/10\n",
            "7/7 [==============================] - 1s 177ms/step - loss: 0.2426 - accuracy: 0.9453 - val_loss: 0.2344 - val_accuracy: 0.9094\n",
            "Epoch 7/10\n",
            "7/7 [==============================] - 1s 178ms/step - loss: 0.1702 - accuracy: 0.9791 - val_loss: 0.1840 - val_accuracy: 0.9517\n",
            "Epoch 8/10\n",
            "7/7 [==============================] - 1s 178ms/step - loss: 0.1150 - accuracy: 0.9933 - val_loss: 0.1404 - val_accuracy: 0.9722\n",
            "Epoch 9/10\n",
            "7/7 [==============================] - 1s 178ms/step - loss: 0.1125 - accuracy: 0.9810 - val_loss: 0.1328 - val_accuracy: 0.9541\n",
            "Epoch 10/10\n",
            "7/7 [==============================] - 1s 177ms/step - loss: 0.0863 - accuracy: 0.9855 - val_loss: 0.1257 - val_accuracy: 0.9626\n"
          ]
        }
      ]
    },
    {
      "cell_type": "code",
      "metadata": {
        "id": "UVGEuvoUF3mO",
        "colab": {
          "base_uri": "https://localhost:8080/",
          "height": 312
        },
        "outputId": "edfbaa48-0c3f-4c04-c5b6-d634a4a77d1f"
      },
      "source": [
        "plt.plot(history.history['accuracy'])\n",
        "plt.plot(history.history['val_accuracy'])\n",
        "plt.title('Model Accuracy of LSTM_Adam')\n",
        "plt.ylabel('accuracy')\n",
        "plt.xlabel('epoch')\n",
        "plt.legend(['train', 'test'], loc='upper left')\n",
        "plt.grid()\n",
        "plt.show()\n",
        "plt.savefig(f\"{Visuals}LSTM-acc-loss.jpeg\")"
      ],
      "execution_count": 20,
      "outputs": [
        {
          "output_type": "display_data",
          "data": {
            "image/png": "[encoded data removed]",
            "text/plain": [
              "<Figure size 432x288 with 1 Axes>"
            ]
          },
          "metadata": {
            "needs_background": "light"
          }
        },
        {
          "output_type": "display_data",
          "data": {
            "text/plain": [
              "<Figure size 432x288 with 0 Axes>"
            ]
          },
          "metadata": {}
        }
      ]
    },
    {
      "cell_type": "markdown",
      "metadata": {
        "id": "UK4HggdMSN0k"
      },
      "source": [
        "#Confusion Matrix"
      ]
    },
    {
      "cell_type": "code",
      "metadata": {
        "id": "wkPCZtzCSN0l"
      },
      "source": [
        "y_predict  = [1 if o>0.5 else 0 for o in model.predict(x_test_features)]"
      ],
      "execution_count": 21,
      "outputs": []
    },
    {
      "cell_type": "code",
      "metadata": {
        "id": "nat5MWCLSN0l"
      },
      "source": [
        "cf_matrix =confusion_matrix(test_y,y_predict)"
      ],
      "execution_count": 22,
      "outputs": []
    },
    {
      "cell_type": "code",
      "metadata": {
        "id": "j1yJD0g-SN0l",
        "colab": {
          "base_uri": "https://localhost:8080/",
          "height": 295
        },
        "outputId": "7d405a6e-1ee6-405a-bc08-26e7513778a9"
      },
      "source": [
        "ax= plt.subplot()\n",
        "sns.heatmap(cf_matrix, annot=True, ax = ax,cmap='Blues',fmt=''); #annot=True to annotate cells\n",
        "\n",
        "# labels, title and ticks\n",
        "ax.set_xlabel('Predicted labels');\n",
        "ax.set_ylabel('True labels');\n",
        "ax.set_title('Confusion Matrix of LSTM_Adam'); \n",
        "ax.xaxis.set_ticklabels(['Not Spam', 'Spam']); ax.yaxis.set_ticklabels(['Not Spam', 'Spam']);\n",
        "plt.savefig(f\"{heatmaps}LSTM-heatmap.jpeg\")"
      ],
      "execution_count": 23,
      "outputs": [
        {
          "output_type": "display_data",
          "data": {
            "image/png": "[encoded data removed]",
            "text/plain": [
              "<Figure size 432x288 with 2 Axes>"
            ]
          },
          "metadata": {
            "needs_background": "light"
          }
        }
      ]
    },
    {
      "cell_type": "code",
      "metadata": {
        "id": "c1r63-vBSN0m"
      },
      "source": [
        "tn, fp, fn, tp = confusion_matrix(test_y,y_predict).ravel()"
      ],
      "execution_count": 24,
      "outputs": []
    },
    {
      "cell_type": "code",
      "metadata": {
        "id": "2_DNkSELSN0m",
        "colab": {
          "base_uri": "https://localhost:8080/"
        },
        "outputId": "ba5c0f96-34ad-431e-de38-57e0196eb591"
      },
      "source": [
        "print(\"Precision: {:.2f}%\".format(100 * precision_score(test_y, y_predict)))\n",
        "print(\"Recall: {:.2f}%\".format(100 * recall_score(test_y, y_predict)))\n",
        "print(\"F1 Score: {:.2f}%\".format(100 * f1_score(test_y,y_predict)))"
      ],
      "execution_count": 25,
      "outputs": [
        {
          "output_type": "stream",
          "name": "stdout",
          "text": [
            "Precision: 91.25%\n",
            "Recall: 97.99%\n",
            "F1 Score: 94.50%\n"
          ]
        }
      ]
    },
    {
      "cell_type": "code",
      "metadata": {
        "id": "HjkQwf8USN0m",
        "colab": {
          "base_uri": "https://localhost:8080/"
        },
        "outputId": "2e27e0ab-fb34-4d30-c807-36f14225a164"
      },
      "source": [
        "f1_score(test_y,y_predict)"
      ],
      "execution_count": 26,
      "outputs": [
        {
          "output_type": "execute_result",
          "data": {
            "text/plain": [
              "0.9449838187702266"
            ]
          },
          "metadata": {},
          "execution_count": 26
        }
      ]
    },
    {
      "cell_type": "code",
      "metadata": {
        "colab": {
          "base_uri": "https://localhost:8080/",
          "height": 312
        },
        "id": "PITJtCMMuhB-",
        "outputId": "0475bf48-42dc-47a7-d110-ff470f1f9983"
      },
      "source": [
        "#AUC\n",
        "auc_lstm = ROC_AUC(test_y, y_predict, \"LSTM_AUC.jpeg\")"
      ],
      "execution_count": 27,
      "outputs": [
        {
          "output_type": "stream",
          "name": "stdout",
          "text": [
            "AUC: 0.9709369564623497\n"
          ]
        },
        {
          "output_type": "display_data",
          "data": {
            "image/png": "[encoded data removed]",
            "text/plain": [
              "<Figure size 432x288 with 1 Axes>"
            ]
          },
          "metadata": {
            "needs_background": "light"
          }
        }
      ]
    },
    {
      "cell_type": "code",
      "metadata": {
        "id": "-ajQ0RxktA9n"
      },
      "source": [
        "lstm = {\n",
        "    \"train-acc\" : history.history[\"accuracy\"][len(history.history[\"accuracy\"])-1],\n",
        "    \"test-acc\" : accuracy_score(test_y,y_predict),\n",
        "    \"precision\" : precision_score(test_y, y_predict),\n",
        "    \"recall\" : recall_score(test_y, y_predict),\n",
        "    \"f1-score\" : f1_score(test_y,y_predict),\n",
        "    \"AUC\" : auc_lstm,\n",
        "    \"duration\" : duration_lstm\n",
        "\n",
        "}"
      ],
      "execution_count": 28,
      "outputs": []
    },
    {
      "cell_type": "code",
      "metadata": {
        "colab": {
          "base_uri": "https://localhost:8080/"
        },
        "id": "Zm_FkJKstBJq",
        "outputId": "a53764f5-794f-4b1e-ad40-ab9738e3a707"
      },
      "source": [
        "!ls\n",
        "model.save(\"drive/MyDrive/Mahboob/Models/LSTM.h5\")"
      ],
      "execution_count": 29,
      "outputs": [
        {
          "output_type": "stream",
          "name": "stdout",
          "text": [
            "drive  sample_data\n"
          ]
        }
      ]
    },
    {
      "cell_type": "code",
      "metadata": {
        "colab": {
          "base_uri": "https://localhost:8080/"
        },
        "id": "tliUrJvHvbcH",
        "outputId": "d11ca3a3-8467-42d6-8aa0-f4292027a254"
      },
      "source": [
        "lstm"
      ],
      "execution_count": 30,
      "outputs": [
        {
          "output_type": "execute_result",
          "data": {
            "text/plain": [
              "{'AUC': 0.9709369564623497,\n",
              " 'duration': 15.05,\n",
              " 'f1-score': 0.9449838187702266,\n",
              " 'precision': 0.9125,\n",
              " 'recall': 0.9798657718120806,\n",
              " 'test-acc': 0.9671497584541063,\n",
              " 'train-acc': 0.9854897260665894}"
            ]
          },
          "metadata": {},
          "execution_count": 30
        }
      ]
    },
    {
      "cell_type": "markdown",
      "metadata": {
        "id": "7HIDKUA1IV46"
      },
      "source": [
        "#**Bi-LSTM**"
      ]
    },
    {
      "cell_type": "code",
      "metadata": {
        "colab": {
          "base_uri": "https://localhost:8080/"
        },
        "id": "_ndWlmktHei7",
        "outputId": "176d76b1-592a-4ad2-87e7-b3ca58d850bc"
      },
      "source": [
        "# Bilstm\n",
        "model = tf.keras.Sequential()\n",
        "model.add(Embedding(max_feature, embedding_vecor_length, input_length=max_len))\n",
        "model.add(Bidirectional(tf.keras.layers.LSTM(64)))\n",
        "model.add(Dense(16, activation='relu'))\n",
        "model.add(Dropout(0.1))\n",
        "model.add(Dense(1, activation='sigmoid'))\n",
        "model.compile(loss='binary_crossentropy', optimizer='adam', metrics=['accuracy'])\n",
        "print(model.summary())"
      ],
      "execution_count": 31,
      "outputs": [
        {
          "output_type": "stream",
          "name": "stdout",
          "text": [
            "Model: \"sequential_1\"\n",
            "_________________________________________________________________\n",
            "Layer (type)                 Output Shape              Param #   \n",
            "=================================================================\n",
            "embedding_1 (Embedding)      (None, 2000, 32)          1600000   \n",
            "_________________________________________________________________\n",
            "bidirectional (Bidirectional (None, 128)               49664     \n",
            "_________________________________________________________________\n",
            "dense_2 (Dense)              (None, 16)                2064      \n",
            "_________________________________________________________________\n",
            "dropout_1 (Dropout)          (None, 16)                0         \n",
            "_________________________________________________________________\n",
            "dense_3 (Dense)              (None, 1)                 17        \n",
            "=================================================================\n",
            "Total params: 1,651,745\n",
            "Trainable params: 1,651,745\n",
            "Non-trainable params: 0\n",
            "_________________________________________________________________\n",
            "None\n"
          ]
        }
      ]
    },
    {
      "cell_type": "code",
      "metadata": {
        "colab": {
          "base_uri": "https://localhost:8080/"
        },
        "id": "Q2DY1Ga1Hj1L",
        "outputId": "7ab73d5d-ba0d-4d72-a100-78df3089bc0a"
      },
      "source": [
        "# BiLSTM\n",
        "start = perf_counter()\n",
        "history = model.fit(x_train_features, train_y, batch_size=512, epochs=15, validation_split=0.2)\n",
        "duration_bi_lstm = perf_counter() - start\n",
        "duration_bi_lstm = round(duration_bi_lstm,2)\n",
        "bi_lstm_history = history \n"
      ],
      "execution_count": 32,
      "outputs": [
        {
          "output_type": "stream",
          "name": "stdout",
          "text": [
            "Epoch 1/15\n",
            "7/7 [==============================] - 6s 446ms/step - loss: 0.6793 - accuracy: 0.6971 - val_loss: 0.6549 - val_accuracy: 0.6981\n",
            "Epoch 2/15\n",
            "7/7 [==============================] - 2s 339ms/step - loss: 0.6196 - accuracy: 0.7125 - val_loss: 0.6345 - val_accuracy: 0.6981\n",
            "Epoch 3/15\n",
            "7/7 [==============================] - 2s 335ms/step - loss: 0.5815 - accuracy: 0.7125 - val_loss: 0.5748 - val_accuracy: 0.6981\n",
            "Epoch 4/15\n",
            "7/7 [==============================] - 2s 336ms/step - loss: 0.5402 - accuracy: 0.7125 - val_loss: 0.5169 - val_accuracy: 0.6981\n",
            "Epoch 5/15\n",
            "7/7 [==============================] - 2s 335ms/step - loss: 0.4328 - accuracy: 0.7240 - val_loss: 0.3618 - val_accuracy: 0.7874\n",
            "Epoch 6/15\n",
            "7/7 [==============================] - 2s 337ms/step - loss: 0.2411 - accuracy: 0.9495 - val_loss: 0.1911 - val_accuracy: 0.9469\n",
            "Epoch 7/15\n",
            "7/7 [==============================] - 2s 336ms/step - loss: 0.2101 - accuracy: 0.9371 - val_loss: 0.2572 - val_accuracy: 0.8998\n",
            "Epoch 8/15\n",
            "7/7 [==============================] - 2s 335ms/step - loss: 0.1292 - accuracy: 0.9616 - val_loss: 0.1920 - val_accuracy: 0.9300\n",
            "Epoch 9/15\n",
            "7/7 [==============================] - 2s 335ms/step - loss: 0.0739 - accuracy: 0.9825 - val_loss: 0.1391 - val_accuracy: 0.9517\n",
            "Epoch 10/15\n",
            "7/7 [==============================] - 2s 336ms/step - loss: 0.0513 - accuracy: 0.9852 - val_loss: 0.0959 - val_accuracy: 0.9650\n",
            "Epoch 11/15\n",
            "7/7 [==============================] - 2s 335ms/step - loss: 0.0378 - accuracy: 0.9906 - val_loss: 0.0869 - val_accuracy: 0.9698\n",
            "Epoch 12/15\n",
            "7/7 [==============================] - 2s 335ms/step - loss: 0.0267 - accuracy: 0.9961 - val_loss: 0.0896 - val_accuracy: 0.9686\n",
            "Epoch 13/15\n",
            "7/7 [==============================] - 2s 336ms/step - loss: 0.0189 - accuracy: 0.9979 - val_loss: 0.0964 - val_accuracy: 0.9638\n",
            "Epoch 14/15\n",
            "7/7 [==============================] - 2s 336ms/step - loss: 0.0154 - accuracy: 0.9982 - val_loss: 0.0994 - val_accuracy: 0.9626\n",
            "Epoch 15/15\n",
            "7/7 [==============================] - 2s 334ms/step - loss: 0.0114 - accuracy: 0.9988 - val_loss: 0.0980 - val_accuracy: 0.9650\n"
          ]
        }
      ]
    },
    {
      "cell_type": "code",
      "metadata": {
        "id": "SfC1t4hNq8VZ",
        "colab": {
          "base_uri": "https://localhost:8080/",
          "height": 312
        },
        "outputId": "a5151289-e40c-4ed4-c4d4-74d5129a768f"
      },
      "source": [
        "plt.plot(history.history['accuracy'])\n",
        "plt.plot(history.history['val_accuracy'])\n",
        "plt.title('Model Accuracy of BiLSTM_Adam')\n",
        "plt.ylabel('accuracy')\n",
        "plt.xlabel('epoch')\n",
        "plt.legend(['train', 'test'], loc='upper left')\n",
        "plt.grid()\n",
        "plt.show()\n",
        "plt.savefig(f\"{Visuals}Bi-LSTM-acc-loss.jpeg\")"
      ],
      "execution_count": 33,
      "outputs": [
        {
          "output_type": "display_data",
          "data": {
            "image/png": "[encoded data removed]",
            "text/plain": [
              "<Figure size 432x288 with 1 Axes>"
            ]
          },
          "metadata": {
            "needs_background": "light"
          }
        },
        {
          "output_type": "display_data",
          "data": {
            "text/plain": [
              "<Figure size 432x288 with 0 Axes>"
            ]
          },
          "metadata": {}
        }
      ]
    },
    {
      "cell_type": "markdown",
      "metadata": {
        "id": "ZFaJsMleSCIs"
      },
      "source": [
        "#Confusion Matrix BiLSTM\n"
      ]
    },
    {
      "cell_type": "code",
      "metadata": {
        "id": "3LuS3-WZSCI0"
      },
      "source": [
        "y_predict  = [1 if o>0.5 else 0 for o in model.predict(x_test_features)]"
      ],
      "execution_count": 34,
      "outputs": []
    },
    {
      "cell_type": "code",
      "metadata": {
        "id": "TLUX-7XQSCI0"
      },
      "source": [
        "cf_matrix =confusion_matrix(test_y,y_predict)"
      ],
      "execution_count": 35,
      "outputs": []
    },
    {
      "cell_type": "code",
      "metadata": {
        "colab": {
          "base_uri": "https://localhost:8080/",
          "height": 295
        },
        "id": "8R-JuHugSCI0",
        "outputId": "2235919b-467b-4c09-c921-f1bc11548c1d"
      },
      "source": [
        "ax= plt.subplot()\n",
        "sns.heatmap(cf_matrix, annot=True, ax = ax,cmap='Blues',fmt='') #annot=True to annotate cells\n",
        "\n",
        "# labels, title and ticks\n",
        "ax.set_xlabel('Predicted labels')\n",
        "ax.set_ylabel('True labels')\n",
        "ax.set_title('Confusion Matrix of BiLSTM_Adam')\n",
        "ax.xaxis.set_ticklabels(['Not Spam', 'Spam'])\n",
        "ax.yaxis.set_ticklabels(['Not Spam', 'Spam'])\n",
        "plt.savefig(f\"{heatmaps}Bi-LSTM-heatmap.jpeg\")"
      ],
      "execution_count": 36,
      "outputs": [
        {
          "output_type": "display_data",
          "data": {
            "image/png": "[encoded data removed]",
            "text/plain": [
              "<Figure size 432x288 with 2 Axes>"
            ]
          },
          "metadata": {
            "needs_background": "light"
          }
        }
      ]
    },
    {
      "cell_type": "code",
      "metadata": {
        "id": "QJRNLaFhSCI1"
      },
      "source": [
        "tn, fp, fn, tp = confusion_matrix(test_y,y_predict).ravel()"
      ],
      "execution_count": 37,
      "outputs": []
    },
    {
      "cell_type": "code",
      "metadata": {
        "colab": {
          "base_uri": "https://localhost:8080/"
        },
        "id": "pz1xUVAMSCI1",
        "outputId": "b74d1cbf-219b-4256-c01c-292d1db680a0"
      },
      "source": [
        "print(\"Precision: {:.2f}%\".format(100 * precision_score(test_y, y_predict)))\n",
        "print(\"Recall: {:.2f}%\".format(100 * recall_score(test_y, y_predict)))\n",
        "print(\"F1 Score: {:.2f}%\".format(100 * f1_score(test_y,y_predict)))"
      ],
      "execution_count": 38,
      "outputs": [
        {
          "output_type": "stream",
          "name": "stdout",
          "text": [
            "Precision: 97.18%\n",
            "Recall: 92.62%\n",
            "F1 Score: 94.85%\n"
          ]
        }
      ]
    },
    {
      "cell_type": "code",
      "metadata": {
        "colab": {
          "base_uri": "https://localhost:8080/"
        },
        "id": "Jxk_14FPSCI1",
        "outputId": "b2e23c95-d428-46a9-86be-3ef039d333e9"
      },
      "source": [
        "f1_score(test_y,y_predict)"
      ],
      "execution_count": 39,
      "outputs": [
        {
          "output_type": "execute_result",
          "data": {
            "text/plain": [
              "0.9484536082474226"
            ]
          },
          "metadata": {},
          "execution_count": 39
        }
      ]
    },
    {
      "cell_type": "code",
      "metadata": {
        "colab": {
          "base_uri": "https://localhost:8080/",
          "height": 312
        },
        "id": "PQteFQPiw5o6",
        "outputId": "76b9fbf4-4987-4ea7-e1b0-12b273ee92a7"
      },
      "source": [
        "#AUC\n",
        "auc_bi_lstm = ROC_AUC(test_y, y_predict, \"Bi-LSTM_AUC.jpeg\")"
      ],
      "execution_count": 40,
      "outputs": [
        {
          "output_type": "stream",
          "name": "stdout",
          "text": [
            "AUC: 0.9576598399096646\n"
          ]
        },
        {
          "output_type": "display_data",
          "data": {
            "image/png": "[encoded data removed]",
            "text/plain": [
              "<Figure size 432x288 with 1 Axes>"
            ]
          },
          "metadata": {
            "needs_background": "light"
          }
        }
      ]
    },
    {
      "cell_type": "code",
      "metadata": {
        "id": "6ErH-QUZw5o-"
      },
      "source": [
        "Bi_lstm = {\n",
        "    \"train-acc\" : history.history[\"accuracy\"][len(history.history[\"accuracy\"])-1],\n",
        "    \"test-acc\" : accuracy_score(test_y,y_predict),\n",
        "    \"precision\" : precision_score(test_y, y_predict),\n",
        "    \"recall\" : recall_score(test_y, y_predict),\n",
        "    \"f1-score\" : f1_score(test_y,y_predict),\n",
        "    \"AUC\" : auc_bi_lstm,\n",
        "    \"duration\" : duration_bi_lstm\n",
        "\n",
        "}"
      ],
      "execution_count": 41,
      "outputs": []
    },
    {
      "cell_type": "code",
      "metadata": {
        "colab": {
          "base_uri": "https://localhost:8080/"
        },
        "id": "LMs5jC_Qw5o-",
        "outputId": "d354f3ee-3d26-41e2-ee50-75a3caa68741"
      },
      "source": [
        "!ls\n",
        "model.save(\"drive/MyDrive/Mahboob/Models/Bi_LSTM.h5\")"
      ],
      "execution_count": 42,
      "outputs": [
        {
          "output_type": "stream",
          "name": "stdout",
          "text": [
            "drive  sample_data\n"
          ]
        }
      ]
    },
    {
      "cell_type": "code",
      "metadata": {
        "colab": {
          "base_uri": "https://localhost:8080/"
        },
        "id": "D0B4R6wKw5o-",
        "outputId": "07483bad-3e6f-4e3d-e221-476887c0a376"
      },
      "source": [
        "Bi_lstm"
      ],
      "execution_count": 43,
      "outputs": [
        {
          "output_type": "execute_result",
          "data": {
            "text/plain": [
              "{'AUC': 0.9576598399096646,\n",
              " 'duration': 38.17,\n",
              " 'f1-score': 0.9484536082474226,\n",
              " 'precision': 0.971830985915493,\n",
              " 'recall': 0.9261744966442953,\n",
              " 'test-acc': 0.9710144927536232,\n",
              " 'train-acc': 0.9987908005714417}"
            ]
          },
          "metadata": {},
          "execution_count": 43
        }
      ]
    },
    {
      "cell_type": "markdown",
      "metadata": {
        "id": "zDyi3yCvIcXq"
      },
      "source": [
        "#**GRU**"
      ]
    },
    {
      "cell_type": "code",
      "metadata": {
        "colab": {
          "base_uri": "https://localhost:8080/"
        },
        "id": "63n6evOJFIjU",
        "outputId": "97aaec37-f2c1-4ffa-f15b-a584043d16d0"
      },
      "source": [
        "#GRU\n",
        "model = tf.keras.Sequential()\n",
        "model.add(Embedding(max_feature, embedding_vecor_length, input_length=max_len))\n",
        "# model.add(GRU(units=64, dropout=0.1,recurrent_dropout=0.1))\n",
        "model.add(tf.keras.layers.GRU(64))\n",
        "model.add(Dense(16, activation='relu'))\n",
        "model.add(Dropout(0.1))\n",
        "model.add(Dense(1, activation='sigmoid'))\n",
        "model.compile(loss='binary_crossentropy', optimizer='adam', metrics=['accuracy'])\n",
        "print(model.summary())\n"
      ],
      "execution_count": 44,
      "outputs": [
        {
          "output_type": "stream",
          "name": "stdout",
          "text": [
            "Model: \"sequential_2\"\n",
            "_________________________________________________________________\n",
            "Layer (type)                 Output Shape              Param #   \n",
            "=================================================================\n",
            "embedding_2 (Embedding)      (None, 2000, 32)          1600000   \n",
            "_________________________________________________________________\n",
            "gru (GRU)                    (None, 64)                18816     \n",
            "_________________________________________________________________\n",
            "dense_4 (Dense)              (None, 16)                1040      \n",
            "_________________________________________________________________\n",
            "dropout_2 (Dropout)          (None, 16)                0         \n",
            "_________________________________________________________________\n",
            "dense_5 (Dense)              (None, 1)                 17        \n",
            "=================================================================\n",
            "Total params: 1,619,873\n",
            "Trainable params: 1,619,873\n",
            "Non-trainable params: 0\n",
            "_________________________________________________________________\n",
            "None\n"
          ]
        }
      ]
    },
    {
      "cell_type": "code",
      "metadata": {
        "id": "n_oFHNH6Iyye",
        "colab": {
          "base_uri": "https://localhost:8080/"
        },
        "outputId": "e426e778-a30e-430f-bf52-9f78bbef2ef3"
      },
      "source": [
        "# GRU\n",
        "start = perf_counter()\n",
        "history = model.fit(x_train_features, train_y, batch_size=512, epochs=15, validation_split=0.2)\n",
        "duration_gru = perf_counter() - start\n",
        "duration_gru = round(duration_gru,2)\n",
        "gru_history = history "
      ],
      "execution_count": 45,
      "outputs": [
        {
          "output_type": "stream",
          "name": "stdout",
          "text": [
            "Epoch 1/15\n",
            "7/7 [==============================] - 3s 232ms/step - loss: 0.6794 - accuracy: 0.6808 - val_loss: 0.6574 - val_accuracy: 0.6981\n",
            "Epoch 2/15\n",
            "7/7 [==============================] - 1s 182ms/step - loss: 0.6318 - accuracy: 0.7125 - val_loss: 0.6038 - val_accuracy: 0.6981\n",
            "Epoch 3/15\n",
            "7/7 [==============================] - 1s 181ms/step - loss: 0.5594 - accuracy: 0.7125 - val_loss: 0.5612 - val_accuracy: 0.6981\n",
            "Epoch 4/15\n",
            "7/7 [==============================] - 1s 181ms/step - loss: 0.5070 - accuracy: 0.7125 - val_loss: 0.4990 - val_accuracy: 0.6981\n",
            "Epoch 5/15\n",
            "7/7 [==============================] - 1s 181ms/step - loss: 0.4138 - accuracy: 0.7237 - val_loss: 0.4089 - val_accuracy: 0.7560\n",
            "Epoch 6/15\n",
            "7/7 [==============================] - 1s 182ms/step - loss: 0.2950 - accuracy: 0.8697 - val_loss: 0.3275 - val_accuracy: 0.8273\n",
            "Epoch 7/15\n",
            "7/7 [==============================] - 1s 182ms/step - loss: 0.2028 - accuracy: 0.9601 - val_loss: 0.2316 - val_accuracy: 0.9251\n",
            "Epoch 8/15\n",
            "7/7 [==============================] - 1s 181ms/step - loss: 0.1566 - accuracy: 0.9882 - val_loss: 0.1802 - val_accuracy: 0.9601\n",
            "Epoch 9/15\n",
            "7/7 [==============================] - 1s 181ms/step - loss: 0.1103 - accuracy: 0.9897 - val_loss: 0.1423 - val_accuracy: 0.9601\n",
            "Epoch 10/15\n",
            "7/7 [==============================] - 1s 181ms/step - loss: 0.0703 - accuracy: 0.9915 - val_loss: 0.1293 - val_accuracy: 0.9589\n",
            "Epoch 11/15\n",
            "7/7 [==============================] - 1s 181ms/step - loss: 0.0406 - accuracy: 0.9952 - val_loss: 0.1118 - val_accuracy: 0.9614\n",
            "Epoch 12/15\n",
            "7/7 [==============================] - 1s 182ms/step - loss: 0.0234 - accuracy: 0.9976 - val_loss: 0.0972 - val_accuracy: 0.9650\n",
            "Epoch 13/15\n",
            "7/7 [==============================] - 1s 182ms/step - loss: 0.0156 - accuracy: 0.9973 - val_loss: 0.0799 - val_accuracy: 0.9686\n",
            "Epoch 14/15\n",
            "7/7 [==============================] - 1s 181ms/step - loss: 0.0214 - accuracy: 0.9940 - val_loss: 0.0988 - val_accuracy: 0.9589\n",
            "Epoch 15/15\n",
            "7/7 [==============================] - 1s 181ms/step - loss: 0.0185 - accuracy: 0.9952 - val_loss: 0.1023 - val_accuracy: 0.9601\n"
          ]
        }
      ]
    },
    {
      "cell_type": "code",
      "metadata": {
        "id": "VOdg_pHMq-0A",
        "colab": {
          "base_uri": "https://localhost:8080/",
          "height": 312
        },
        "outputId": "63c74159-3f23-4040-a46e-4adbb863db93"
      },
      "source": [
        "plt.plot(history.history['accuracy'])\n",
        "plt.plot(history.history['val_accuracy'])\n",
        "plt.title('Model Accuracy of GRU_Adam')\n",
        "plt.ylabel('accuracy')\n",
        "plt.xlabel('epoch')\n",
        "plt.legend(['train', 'test'], loc='upper left')\n",
        "plt.grid()\n",
        "plt.show()\n",
        "plt.savefig(f\"{Visuals}gru-acc-loss.jpeg\")"
      ],
      "execution_count": 46,
      "outputs": [
        {
          "output_type": "display_data",
          "data": {
            "image/png": "[encoded data removed]",
            "text/plain": [
              "<Figure size 432x288 with 1 Axes>"
            ]
          },
          "metadata": {
            "needs_background": "light"
          }
        },
        {
          "output_type": "display_data",
          "data": {
            "text/plain": [
              "<Figure size 432x288 with 0 Axes>"
            ]
          },
          "metadata": {}
        }
      ]
    },
    {
      "cell_type": "markdown",
      "metadata": {
        "id": "rhNLRfN9IhfF"
      },
      "source": [
        "#Confusion Matrix GRU\n"
      ]
    },
    {
      "cell_type": "code",
      "metadata": {
        "id": "gkJQ-yURJg3n"
      },
      "source": [
        "y_predict  = [1 if o>0.5 else 0 for o in model.predict(x_test_features)]"
      ],
      "execution_count": 47,
      "outputs": []
    },
    {
      "cell_type": "code",
      "metadata": {
        "id": "gB21196PJg3o"
      },
      "source": [
        "cf_matrix =confusion_matrix(test_y,y_predict)"
      ],
      "execution_count": 48,
      "outputs": []
    },
    {
      "cell_type": "code",
      "metadata": {
        "id": "47vMs8s-maLQ",
        "colab": {
          "base_uri": "https://localhost:8080/",
          "height": 295
        },
        "outputId": "ee1095d0-79dd-49ed-e8c2-f3baa9ae64cd"
      },
      "source": [
        "ax= plt.subplot()\n",
        "sns.heatmap(cf_matrix, annot=True, ax = ax,cmap='Blues',fmt='') #annot=True to annotate cells\n",
        "\n",
        "# labels, title and ticks\n",
        "ax.set_xlabel('Predicted labels')\n",
        "ax.set_ylabel('True labels')\n",
        "ax.set_title('Confusion Matrix of GRU_Adam') \n",
        "ax.xaxis.set_ticklabels(['Not Spam', 'Spam']) \n",
        "ax.yaxis.set_ticklabels(['Not Spam', 'Spam'])\n",
        "plt.savefig(f\"{heatmaps}gru-heatmap.jpeg\")"
      ],
      "execution_count": 49,
      "outputs": [
        {
          "output_type": "display_data",
          "data": {
            "image/png": "[encoded data removed]",
            "text/plain": [
              "<Figure size 432x288 with 2 Axes>"
            ]
          },
          "metadata": {
            "needs_background": "light"
          }
        }
      ]
    },
    {
      "cell_type": "code",
      "metadata": {
        "id": "kberNYWIJg3r"
      },
      "source": [
        "tn, fp, fn, tp = confusion_matrix(test_y,y_predict).ravel()"
      ],
      "execution_count": 50,
      "outputs": []
    },
    {
      "cell_type": "code",
      "metadata": {
        "id": "kshhXwFAJg3s",
        "colab": {
          "base_uri": "https://localhost:8080/"
        },
        "outputId": "96b1eb5e-76a0-4a40-a7ed-621f400f31bc"
      },
      "source": [
        "print(\"Precision: {:.2f}%\".format(100 * precision_score(test_y, y_predict)))\n",
        "print(\"Recall: {:.2f}%\".format(100 * recall_score(test_y, y_predict)))\n",
        "print(\"F1 Score: {:.2f}%\".format(100 * f1_score(test_y,y_predict)))"
      ],
      "execution_count": 51,
      "outputs": [
        {
          "output_type": "stream",
          "name": "stdout",
          "text": [
            "Precision: 91.67%\n",
            "Recall: 92.28%\n",
            "F1 Score: 91.97%\n"
          ]
        }
      ]
    },
    {
      "cell_type": "code",
      "metadata": {
        "id": "x8pacWZkJg3v",
        "colab": {
          "base_uri": "https://localhost:8080/"
        },
        "outputId": "9b282f9b-7e38-41bb-84c9-45fac41a4e40"
      },
      "source": [
        "f1_score(test_y,y_predict)"
      ],
      "execution_count": 52,
      "outputs": [
        {
          "output_type": "execute_result",
          "data": {
            "text/plain": [
              "0.9197324414715717"
            ]
          },
          "metadata": {},
          "execution_count": 52
        }
      ]
    },
    {
      "cell_type": "code",
      "metadata": {
        "colab": {
          "base_uri": "https://localhost:8080/",
          "height": 312
        },
        "id": "xi8tTt93ywmO",
        "outputId": "ce65a588-2224-4cc3-8583-58ea4c36207f"
      },
      "source": [
        "#AUC\n",
        "auc_gru = ROC_AUC(test_y, y_predict, \"gru_AUC.jpeg\")"
      ],
      "execution_count": 53,
      "outputs": [
        {
          "output_type": "stream",
          "name": "stdout",
          "text": [
            "AUC: 0.9444487446841449\n"
          ]
        },
        {
          "output_type": "display_data",
          "data": {
            "image/png": "[encoded data removed]",
            "text/plain": [
              "<Figure size 432x288 with 1 Axes>"
            ]
          },
          "metadata": {
            "needs_background": "light"
          }
        }
      ]
    },
    {
      "cell_type": "code",
      "metadata": {
        "id": "WILjUhSwywmP"
      },
      "source": [
        "gru = {\n",
        "    \"train-acc\" : history.history[\"accuracy\"][len(history.history[\"accuracy\"])-1],\n",
        "    \"test-acc\" : accuracy_score(test_y,y_predict),\n",
        "    \"precision\" : precision_score(test_y, y_predict),\n",
        "    \"recall\" : recall_score(test_y, y_predict),\n",
        "    \"f1-score\" : f1_score(test_y,y_predict),\n",
        "    \"AUC\" : auc_gru,\n",
        "    \"duration\" : duration_gru\n",
        "\n",
        "}"
      ],
      "execution_count": 54,
      "outputs": []
    },
    {
      "cell_type": "code",
      "metadata": {
        "colab": {
          "base_uri": "https://localhost:8080/"
        },
        "id": "6IgwC8TaywmP",
        "outputId": "c6aebc62-c826-4cf5-cb00-f993389df009"
      },
      "source": [
        "!ls\n",
        "model.save(\"drive/MyDrive/Mahboob/Models/GRU.h5\")"
      ],
      "execution_count": 55,
      "outputs": [
        {
          "output_type": "stream",
          "name": "stdout",
          "text": [
            "drive  sample_data\n"
          ]
        }
      ]
    },
    {
      "cell_type": "code",
      "metadata": {
        "colab": {
          "base_uri": "https://localhost:8080/"
        },
        "id": "bU05FDFSywmQ",
        "outputId": "9b831fa4-c219-4a23-b709-e6263d6f411e"
      },
      "source": [
        "gru"
      ],
      "execution_count": 56,
      "outputs": [
        {
          "output_type": "execute_result",
          "data": {
            "text/plain": [
              "{'AUC': 0.9444487446841449,\n",
              " 'duration': 20.68,\n",
              " 'f1-score': 0.9197324414715717,\n",
              " 'precision': 0.9166666666666666,\n",
              " 'recall': 0.9228187919463087,\n",
              " 'test-acc': 0.9536231884057971,\n",
              " 'train-acc': 0.9951632618904114}"
            ]
          },
          "metadata": {},
          "execution_count": 56
        }
      ]
    },
    {
      "cell_type": "code",
      "metadata": {
        "colab": {
          "base_uri": "https://localhost:8080/"
        },
        "id": "FahRtIEHzH5U",
        "outputId": "37c246e8-9254-4ccf-9f10-59798e3496f2"
      },
      "source": [
        "models_metrics = []\n",
        "Adam = {\n",
        "    \"lstm-adam\" : {\n",
        "        \"train-acc\" : 0,\n",
        "        \"test-acc\" : 0,\n",
        "        \"precision\" : 0,\n",
        "        \"recall\" : 0,\n",
        "        \"f1-score\" : 0,\n",
        "        \"AUC\" : 0,\n",
        "        \"duration\" : 0\n",
        "    },\n",
        "    \"Bi_lstm-adam\" : {\n",
        "        \"train-acc\" : 0,\n",
        "        \"test-acc\" : 0,\n",
        "        \"precision\" : 0,\n",
        "        \"recall\" : 0,\n",
        "        \"f1-score\" : 0,\n",
        "        \"AUC\" : 0,\n",
        "        \"duration\" : 0\n",
        "    },\n",
        "    \"gru-adam\" : {\n",
        "        \"train-acc\" : 0,\n",
        "        \"test-acc\" : 0,\n",
        "        \"precision\" : 0,\n",
        "        \"recall\" : 0,\n",
        "        \"f1-score\" : 0,\n",
        "        \"AUC\" : 0,\n",
        "        \"duration\" : 0\n",
        "    }\n",
        "}\n",
        "for (l,b,g) in zip(lstm,Bi_lstm,gru):\n",
        "  Adam[\"lstm-adam\"][l] = lstm[l]\n",
        "  Adam[\"Bi_lstm-adam\"][b] = Bi_lstm[b]\n",
        "  Adam[\"gru-adam\"][g] = gru[g]   \n",
        "\n",
        "Adam \n",
        "\n"
      ],
      "execution_count": 57,
      "outputs": [
        {
          "output_type": "execute_result",
          "data": {
            "text/plain": [
              "{'Bi_lstm-adam': {'AUC': 0.9576598399096646,\n",
              "  'duration': 38.17,\n",
              "  'f1-score': 0.9484536082474226,\n",
              "  'precision': 0.971830985915493,\n",
              "  'recall': 0.9261744966442953,\n",
              "  'test-acc': 0.9710144927536232,\n",
              "  'train-acc': 0.9987908005714417},\n",
              " 'gru-adam': {'AUC': 0.9444487446841449,\n",
              "  'duration': 20.68,\n",
              "  'f1-score': 0.9197324414715717,\n",
              "  'precision': 0.9166666666666666,\n",
              "  'recall': 0.9228187919463087,\n",
              "  'test-acc': 0.9536231884057971,\n",
              "  'train-acc': 0.9951632618904114},\n",
              " 'lstm-adam': {'AUC': 0.9709369564623497,\n",
              "  'duration': 15.05,\n",
              "  'f1-score': 0.9449838187702266,\n",
              "  'precision': 0.9125,\n",
              "  'recall': 0.9798657718120806,\n",
              "  'test-acc': 0.9671497584541063,\n",
              "  'train-acc': 0.9854897260665894}}"
            ]
          },
          "metadata": {},
          "execution_count": 57
        }
      ]
    },
    {
      "cell_type": "code",
      "metadata": {
        "id": "Q-pgZ38Z_K_a"
      },
      "source": [
        "models_metrics= []\n",
        "for name, model in Adam.items():\n",
        "  # print(name,model)\n",
        "  #print(model[\"y_pred\"].shape)\n",
        "  precision, recall, f1_score_,  = model[\"precision\"], model[\"recall\"], model[\"f1-score\"]\n",
        "  accuracy, lr_auc = model[\"test-acc\"], model[\"AUC\"]\n",
        "  Train_acc, duration = model[\"train-acc\"], model[\"duration\"]\n",
        "  #print(f\"precision : {precision} recall : {recall} f1_score : {f1_score_} accuracy : {accuracy}\")\n",
        "  models_metrics.append([name, precision, recall, f1_score_, Train_acc, accuracy, lr_auc, duration])\n",
        "\n",
        "df_metrics = pd.DataFrame(models_metrics)\n",
        "df_metrics.columns = ['Model', 'Precision', 'Recall', 'f1 score', \"Train Accuracy\", 'Test Accuracy', 'ROC-AUC', 'Train Time (s)']\n",
        "df_metrics.sort_values(by = 'Test Accuracy', ascending = False, inplace=True)\n",
        "df_metrics.reset_index(drop = True, inplace=True)\n",
        "df_metrics.to_csv(f\"{Comparison}Adam_comparison.csv\") "
      ],
      "execution_count": 58,
      "outputs": []
    },
    {
      "cell_type": "code",
      "metadata": {
        "colab": {
          "base_uri": "https://localhost:8080/",
          "height": 142
        },
        "id": "DXxiakh-AU17",
        "outputId": "1eb79d18-a54f-4ca2-fa15-4501bb9589ad"
      },
      "source": [
        "df_metrics"
      ],
      "execution_count": 59,
      "outputs": [
        {
          "output_type": "execute_result",
          "data": {
            "text/html": [
              "<div>\n",
              "<style scoped>\n",
              "    .dataframe tbody tr th:only-of-type {\n",
              "        vertical-align: middle;\n",
              "    }\n",
              "\n",
              "    .dataframe tbody tr th {\n",
              "        vertical-align: top;\n",
              "    }\n",
              "\n",
              "    .dataframe thead th {\n",
              "        text-align: right;\n",
              "    }\n",
              "</style>\n",
              "<table border=\"1\" class=\"dataframe\">\n",
              "  <thead>\n",
              "    <tr style=\"text-align: right;\">\n",
              "      <th></th>\n",
              "      <th>Model</th>\n",
              "      <th>Precision</th>\n",
              "      <th>Recall</th>\n",
              "      <th>f1 score</th>\n",
              "      <th>Train Accuracy</th>\n",
              "      <th>Test Accuracy</th>\n",
              "      <th>ROC-AUC</th>\n",
              "      <th>Train Time (s)</th>\n",
              "    </tr>\n",
              "  </thead>\n",
              "  <tbody>\n",
              "    <tr>\n",
              "      <th>0</th>\n",
              "      <td>Bi_lstm-adam</td>\n",
              "      <td>0.971831</td>\n",
              "      <td>0.926174</td>\n",
              "      <td>0.948454</td>\n",
              "      <td>0.998791</td>\n",
              "      <td>0.971014</td>\n",
              "      <td>0.957660</td>\n",
              "      <td>38.17</td>\n",
              "    </tr>\n",
              "    <tr>\n",
              "      <th>1</th>\n",
              "      <td>lstm-adam</td>\n",
              "      <td>0.912500</td>\n",
              "      <td>0.979866</td>\n",
              "      <td>0.944984</td>\n",
              "      <td>0.985490</td>\n",
              "      <td>0.967150</td>\n",
              "      <td>0.970937</td>\n",
              "      <td>15.05</td>\n",
              "    </tr>\n",
              "    <tr>\n",
              "      <th>2</th>\n",
              "      <td>gru-adam</td>\n",
              "      <td>0.916667</td>\n",
              "      <td>0.922819</td>\n",
              "      <td>0.919732</td>\n",
              "      <td>0.995163</td>\n",
              "      <td>0.953623</td>\n",
              "      <td>0.944449</td>\n",
              "      <td>20.68</td>\n",
              "    </tr>\n",
              "  </tbody>\n",
              "</table>\n",
              "</div>"
            ],
            "text/plain": [
              "          Model  Precision    Recall  ...  Test Accuracy   ROC-AUC  Train Time (s)\n",
              "0  Bi_lstm-adam   0.971831  0.926174  ...       0.971014  0.957660           38.17\n",
              "1     lstm-adam   0.912500  0.979866  ...       0.967150  0.970937           15.05\n",
              "2      gru-adam   0.916667  0.922819  ...       0.953623  0.944449           20.68\n",
              "\n",
              "[3 rows x 8 columns]"
            ]
          },
          "metadata": {},
          "execution_count": 59
        }
      ]
    }
  ]
}
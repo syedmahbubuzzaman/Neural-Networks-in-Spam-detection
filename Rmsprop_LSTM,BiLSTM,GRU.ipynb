{
  "nbformat": 4,
  "nbformat_minor": 0,
  "metadata": {
    "kernelspec": {
      "display_name": "Python 3",
      "language": "python",
      "name": "python3"
    },
    "language_info": {
      "codemirror_mode": {
        "name": "ipython",
        "version": 3
      },
      "file_extension": ".py",
      "mimetype": "text/x-python",
      "name": "python",
      "nbconvert_exporter": "python",
      "pygments_lexer": "ipython3",
      "version": "3.7.6"
    },
    "colab": {
      "name": "Rmsprop_LSTM,BiLSTM,GRU.ipynb",
      "provenance": [],
      "collapsed_sections": [
        "zDyi3yCvIcXq",
        "rhNLRfN9IhfF"
      ],
      "machine_shape": "hm"
    },
    "accelerator": "GPU"
  },
  "cells": [
    {
      "cell_type": "markdown",
      "metadata": {
        "id": "_wtlTSmaI9ej"
      },
      "source": [
        "# Necessary Libraries\n"
      ]
    },
    {
      "cell_type": "code",
      "metadata": {
        "id": "UBGPH0VtIyxr",
        "colab": {
          "base_uri": "https://localhost:8080/"
        },
        "outputId": "c5290cd3-1cce-4ca7-c5f8-d901d8d65301"
      },
      "source": [
        "import pandas as pd\n",
        "import re\n",
        "import string\n",
        "import numpy as np\n",
        "import tensorflow as tf\n",
        "import seaborn as sns\n",
        "import matplotlib.pyplot as plt\n",
        "import io\n",
        "import warnings\n",
        "warnings.filterwarnings(\"ignore\", category=np.VisibleDeprecationWarning)\n",
        "from google.colab import files\n",
        "from sklearn.feature_extraction.stop_words import ENGLISH_STOP_WORDS\n",
        "from sklearn.model_selection import train_test_split\n",
        "from sklearn.preprocessing import LabelEncoder\n",
        "from keras.preprocessing.text import Tokenizer\n",
        "from keras.preprocessing.sequence import pad_sequences\n",
        "from keras.layers import Dense, Input, LSTM, GRU, Embedding, Dropout, Activation\n",
        "from keras.layers import Bidirectional\n",
        "from keras.models import Model\n",
        "\n",
        "# from  matplotlib import pyplot as plt\n",
        "from keras.utils.vis_utils import plot_model\n",
        "from sklearn.metrics import confusion_matrix,f1_score, precision_score,recall_score\n",
        "from sklearn.metrics import roc_curve, auc,accuracy_score\n",
        "# Time and counters\n",
        "from time import perf_counter"
      ],
      "execution_count": 1,
      "outputs": [
        {
          "output_type": "stream",
          "name": "stderr",
          "text": [
            "/usr/local/lib/python3.7/dist-packages/sklearn/utils/deprecation.py:144: FutureWarning: The sklearn.feature_extraction.stop_words module is  deprecated in version 0.22 and will be removed in version 0.24. The corresponding classes / functions should instead be imported from sklearn.feature_extraction.text. Anything that cannot be imported from sklearn.feature_extraction.text is now part of the private API.\n",
            "  warnings.warn(message, FutureWarning)\n"
          ]
        }
      ]
    },
    {
      "cell_type": "markdown",
      "metadata": {
        "id": "aUeSIUGoIyuT"
      },
      "source": [
        "# Reading DataSet"
      ]
    },
    {
      "cell_type": "code",
      "metadata": {
        "id": "iTPo_Vuz4dY0",
        "colab": {
          "base_uri": "https://localhost:8080/"
        },
        "outputId": "275ceabb-baee-450e-c18e-1e93382dab5c"
      },
      "source": [
        "from google.colab import drive\n",
        "drive.mount('/content/drive')"
      ],
      "execution_count": 2,
      "outputs": [
        {
          "output_type": "stream",
          "name": "stdout",
          "text": [
            "Mounted at /content/drive\n"
          ]
        }
      ]
    },
    {
      "cell_type": "code",
      "metadata": {
        "id": "wB9EGf7fIyxw"
      },
      "source": [
        "#uploaded = files.upload()"
      ],
      "execution_count": null,
      "outputs": []
    },
    {
      "cell_type": "code",
      "metadata": {
        "id": "ooRDfvExEkz3"
      },
      "source": [
        "#uploaded = files.upload()\n",
        "dataPath   = \"drive/MyDrive/Mahboob/Dataset/\" \n",
        "heatmaps   = \"drive/MyDrive/Mahboob/Heatmaps/\"\n",
        "Visuals    = \"drive/MyDrive/Mahboob/Visuals/\"\n",
        "Comparison = \"drive/MyDrive/Mahboob/Comparison/\"\n",
        "Model      = \"drive/MyDrive/Mahboob/Models/\"\n",
        "\n",
        "def plot_graphs(history, metric):\n",
        "    plt.plot(history.history[metric])\n",
        "    plt.plot(history.history['val_'+metric], '')\n",
        "    plt.xlabel(\"Epochs\")\n",
        "    plt.ylabel(metric)\n",
        "    plt.legend([metric, 'val_'+metric])\n",
        "\n",
        "\n",
        "def ROC_AUC(y_test, y_pred, fname):\n",
        "    # evluate true positive rate and false positive rate using sklearn builtin function\n",
        "    lr_fpr, lr_tpr, _ = roc_curve(y_test, y_pred)\n",
        "    # find area under curve score\n",
        "    lr_auc = auc(lr_fpr, lr_tpr)\n",
        "\n",
        "    # display auc score\n",
        "    print(\"AUC:\", lr_auc)\n",
        "    # plot linear line with no learning\n",
        "    plt.plot([0, 1], [0, 1], 'k--')\n",
        "    # plot tpr and fpr ratio\n",
        "    plt.plot(lr_fpr, lr_tpr, marker='.', label='lr (auc = %0.3f)' % lr_auc)\n",
        "    # assign labels\n",
        "    plt.xlabel('False positive rate')\n",
        "    plt.ylabel('True positive rate')\n",
        "    plt.title('Receiver Operating Characterisics')\n",
        "    plt.legend(loc='lower right')\n",
        "    plt.savefig(f\"{Visuals}{fname}\")\n",
        "    # plt.savefig(f\"{fname}.jpeg\")\n",
        "    return lr_auc\n",
        "\n",
        "def get_Metrics(y_test, y_pred, average=\"macro\"):\n",
        "    \n",
        "    lr_fpr, lr_tpr, _ = roc_curve(y_test, y_pred)\n",
        "    # find area under curve score\n",
        "    lr_auc = auc(lr_fpr, lr_tpr)\n",
        "    precision = precision_score(y_test, y_pred, average = average)\n",
        "    recall = recall_score(y_test, y_pred, average = average)\n",
        "    f1_score_ = f1_score(y_test, y_pred, average = average)\n",
        "    accuracy = accuracy_score(y_test, y_pred)\n",
        "    #print(f\"precision : {precision} recall : {recall} f1_score : {f1_score_} accuracy : {accuracy}\")\n",
        "    return precision, recall, f1_score_, accuracy, lr_auc\n"
      ],
      "execution_count": 3,
      "outputs": []
    },
    {
      "cell_type": "code",
      "metadata": {
        "id": "zWG8DrwIIyxy",
        "colab": {
          "base_uri": "https://localhost:8080/",
          "height": 204
        },
        "outputId": "5b569953-d9a0-4a55-b876-59f1dd1ad931"
      },
      "source": [
        "data = pd.read_csv(f\"{dataPath}spam(madeof).csv\")\n",
        "data.head()"
      ],
      "execution_count": 4,
      "outputs": [
        {
          "output_type": "execute_result",
          "data": {
            "text/html": [
              "<div>\n",
              "<style scoped>\n",
              "    .dataframe tbody tr th:only-of-type {\n",
              "        vertical-align: middle;\n",
              "    }\n",
              "\n",
              "    .dataframe tbody tr th {\n",
              "        vertical-align: top;\n",
              "    }\n",
              "\n",
              "    .dataframe thead th {\n",
              "        text-align: right;\n",
              "    }\n",
              "</style>\n",
              "<table border=\"1\" class=\"dataframe\">\n",
              "  <thead>\n",
              "    <tr style=\"text-align: right;\">\n",
              "      <th></th>\n",
              "      <th>v1</th>\n",
              "      <th>v2</th>\n",
              "    </tr>\n",
              "  </thead>\n",
              "  <tbody>\n",
              "    <tr>\n",
              "      <th>0</th>\n",
              "      <td>ham</td>\n",
              "      <td>Subject: enron methanol ; meter # : 988291\\nth...</td>\n",
              "    </tr>\n",
              "    <tr>\n",
              "      <th>1</th>\n",
              "      <td>ham</td>\n",
              "      <td>Subject: hpl nom for january 9 , 2001\\r\\n( see...</td>\n",
              "    </tr>\n",
              "    <tr>\n",
              "      <th>2</th>\n",
              "      <td>ham</td>\n",
              "      <td>Subject: neon retreat\\r\\nho ho ho , we ' re ar...</td>\n",
              "    </tr>\n",
              "    <tr>\n",
              "      <th>3</th>\n",
              "      <td>spam</td>\n",
              "      <td>Subject: photoshop , windows , office . cheap ...</td>\n",
              "    </tr>\n",
              "    <tr>\n",
              "      <th>4</th>\n",
              "      <td>ham</td>\n",
              "      <td>Subject: re : indian springs\\r\\nthis deal is t...</td>\n",
              "    </tr>\n",
              "  </tbody>\n",
              "</table>\n",
              "</div>"
            ],
            "text/plain": [
              "     v1                                                 v2\n",
              "0   ham  Subject: enron methanol ; meter # : 988291\\nth...\n",
              "1   ham  Subject: hpl nom for january 9 , 2001\\r\\n( see...\n",
              "2   ham  Subject: neon retreat\\r\\nho ho ho , we ' re ar...\n",
              "3  spam  Subject: photoshop , windows , office . cheap ...\n",
              "4   ham  Subject: re : indian springs\\r\\nthis deal is t..."
            ]
          },
          "metadata": {},
          "execution_count": 4
        }
      ]
    },
    {
      "cell_type": "code",
      "metadata": {
        "id": "XDo-2eunIyx2"
      },
      "source": [
        "data[\"spam\"] = data.v1\n",
        "data[\"text\"] = data.v2"
      ],
      "execution_count": 5,
      "outputs": []
    },
    {
      "cell_type": "markdown",
      "metadata": {
        "id": "sOgIC9vgIyx5"
      },
      "source": [
        "# Splitting data"
      ]
    },
    {
      "cell_type": "code",
      "metadata": {
        "id": "CKqqW3y0Iyx5"
      },
      "source": [
        "emails_train, emails_test, target_train, target_test = train_test_split(data.text, data.spam, test_size = 0.2) "
      ],
      "execution_count": 6,
      "outputs": []
    },
    {
      "cell_type": "code",
      "metadata": {
        "id": "FhaVY-xSIyx8",
        "colab": {
          "base_uri": "https://localhost:8080/"
        },
        "outputId": "02c85391-86af-4f7b-e7a1-5ba29fc1e2fd"
      },
      "source": [
        "data.info"
      ],
      "execution_count": 7,
      "outputs": [
        {
          "output_type": "execute_result",
          "data": {
            "text/plain": [
              "<bound method DataFrame.info of         v1  ...                                               text\n",
              "0      ham  ...  Subject: enron methanol ; meter # : 988291\\nth...\n",
              "1      ham  ...  Subject: hpl nom for january 9 , 2001\\r\\n( see...\n",
              "2      ham  ...  Subject: neon retreat\\r\\nho ho ho , we ' re ar...\n",
              "3     spam  ...  Subject: photoshop , windows , office . cheap ...\n",
              "4      ham  ...  Subject: re : indian springs\\r\\nthis deal is t...\n",
              "...    ...  ...                                                ...\n",
              "5166   ham  ...  Subject: put the 10 on the ft\\r\\nthe transport...\n",
              "5167   ham  ...  Subject: 3 / 4 / 2000 and following noms\\r\\nhp...\n",
              "5168   ham  ...  Subject: calpine daily gas nomination\\r\\n>\\r\\n...\n",
              "5169   ham  ...  Subject: industrial worksheets for august 2000...\n",
              "5170  spam  ...  Subject: important online banking alert\\r\\ndea...\n",
              "\n",
              "[5171 rows x 4 columns]>"
            ]
          },
          "metadata": {},
          "execution_count": 7
        }
      ]
    },
    {
      "cell_type": "code",
      "metadata": {
        "id": "u_7DJm1kIyx-",
        "colab": {
          "base_uri": "https://localhost:8080/"
        },
        "outputId": "f462b91d-311b-45fb-c6b7-38b225aecb2a"
      },
      "source": [
        "emails_train.shape"
      ],
      "execution_count": 8,
      "outputs": [
        {
          "output_type": "execute_result",
          "data": {
            "text/plain": [
              "(4136,)"
            ]
          },
          "metadata": {},
          "execution_count": 8
        }
      ]
    },
    {
      "cell_type": "markdown",
      "metadata": {
        "id": "W5cfcZhuIyyF"
      },
      "source": [
        "# Preprocessing"
      ]
    },
    {
      "cell_type": "code",
      "metadata": {
        "id": "UVDFx5cIIyyF"
      },
      "source": [
        "def remove_hyperlink(word):\n",
        "    return  re.sub(r'http\\S+', '', word)\n",
        "\n",
        "def to_lower(word):\n",
        "    result = word.lower()\n",
        "    return result\n",
        "\n",
        "def remove_number(word):\n",
        "    result = re.sub(r'\\d+', '', word)\n",
        "    return result\n",
        "\n",
        "def remove_punctuation(word):\n",
        "    result = word.translate(str.maketrans(dict.fromkeys(string.punctuation)))\n",
        "    return result\n",
        "\n",
        "def remove_whitespace(word):\n",
        "    result = word.strip()\n",
        "    return result\n",
        "\n",
        "def replace_newline(word):\n",
        "    return word.replace('\\n','')\n",
        "\n",
        "\n",
        "\n",
        "def clean_up_pipeline(sentence):\n",
        "    cleaning_utils = [remove_hyperlink,\n",
        "                      replace_newline,\n",
        "                      to_lower,\n",
        "                      remove_number,\n",
        "                      remove_punctuation,\n",
        "                      remove_whitespace]\n",
        "    for o in cleaning_utils:\n",
        "        sentence = o(sentence)\n",
        "    return sentence\n",
        "\n",
        "x_train = [clean_up_pipeline(o) for o in emails_train]\n",
        "x_test = [clean_up_pipeline(o) for o in emails_test]\n",
        "\n",
        "#x_train[0]"
      ],
      "execution_count": 9,
      "outputs": []
    },
    {
      "cell_type": "code",
      "metadata": {
        "id": "J6m0KYITIyyI"
      },
      "source": [
        "le = LabelEncoder()\n",
        "train_y = le.fit_transform(target_train.values)\n",
        "test_y = le.transform(target_test.values)"
      ],
      "execution_count": 10,
      "outputs": []
    },
    {
      "cell_type": "code",
      "metadata": {
        "id": "p8nTaChYIyyK",
        "colab": {
          "base_uri": "https://localhost:8080/"
        },
        "outputId": "a7dfe70d-03e8-4fcd-d9c6-668eaf16cf23"
      },
      "source": [
        "train_y\n"
      ],
      "execution_count": 11,
      "outputs": [
        {
          "output_type": "execute_result",
          "data": {
            "text/plain": [
              "array([0, 1, 0, ..., 1, 0, 1])"
            ]
          },
          "metadata": {},
          "execution_count": 11
        }
      ]
    },
    {
      "cell_type": "markdown",
      "metadata": {
        "id": "NQnP3LyeIyyN"
      },
      "source": [
        "# Tokenize"
      ]
    },
    {
      "cell_type": "code",
      "metadata": {
        "id": "hRfyW-pHIyyN"
      },
      "source": [
        "## some config values \n",
        "embed_size = 100 # how big is each word vector\n",
        "max_feature = 50000 # how many unique words to use (i.e num rows in embedding vector)\n",
        "max_len = 2000 # max number of words in a question to use"
      ],
      "execution_count": 12,
      "outputs": []
    },
    {
      "cell_type": "code",
      "metadata": {
        "id": "4pU9YkDwIyyQ"
      },
      "source": [
        "tokenizer = Tokenizer(num_words=max_feature)\n",
        "\n",
        "tokenizer.fit_on_texts(x_train)\n",
        "\n",
        "x_train_features = np.array(tokenizer.texts_to_sequences(x_train))\n",
        "x_test_features = np.array(tokenizer.texts_to_sequences(x_test))\n",
        "\n",
        "#x_train_features[0]"
      ],
      "execution_count": 13,
      "outputs": []
    },
    {
      "cell_type": "markdown",
      "metadata": {
        "id": "wYBAvFS-IyyT"
      },
      "source": [
        "# Padding"
      ]
    },
    {
      "cell_type": "code",
      "metadata": {
        "id": "J9qrzRgtIyyU",
        "colab": {
          "base_uri": "https://localhost:8080/"
        },
        "outputId": "c13e78ea-e567-492f-ead3-b0560fa9be28"
      },
      "source": [
        "x_train_features = pad_sequences(x_train_features,maxlen=max_len)\n",
        "x_test_features = pad_sequences(x_test_features,maxlen=max_len)\n",
        "x_train_features[0]"
      ],
      "execution_count": 14,
      "outputs": [
        {
          "output_type": "execute_result",
          "data": {
            "text/plain": [
              "array([  0,   0,   0, ...,   8, 748,  87], dtype=int32)"
            ]
          },
          "metadata": {},
          "execution_count": 14
        }
      ]
    },
    {
      "cell_type": "markdown",
      "metadata": {
        "id": "cNJGhByLIyyZ"
      },
      "source": [
        "# Model"
      ]
    },
    {
      "cell_type": "code",
      "metadata": {
        "id": "2ppV2YhHIyyZ"
      },
      "source": [
        "embedding_vecor_length = 32"
      ],
      "execution_count": 15,
      "outputs": []
    },
    {
      "cell_type": "markdown",
      "metadata": {
        "id": "EGKQnWl1H5BT"
      },
      "source": [
        "#**LSTM** "
      ]
    },
    {
      "cell_type": "code",
      "metadata": {
        "id": "TF3nPL7lEjhE",
        "colab": {
          "base_uri": "https://localhost:8080/"
        },
        "outputId": "7ec348d5-ba6c-499d-83ca-31948934346d"
      },
      "source": [
        "# LSTM\n",
        "model = tf.keras.Sequential()\n",
        "model.add(Embedding(max_feature, embedding_vecor_length, input_length=max_len))\n",
        "model.add(tf.keras.layers.LSTM(64))\n",
        "model.add(Dense(16, activation='relu'))\n",
        "model.add(Dropout(0.1))\n",
        "model.add(Dense(1, activation='sigmoid'))\n",
        "model.compile(loss='binary_crossentropy', optimizer='rmsprop', metrics=['accuracy'])\n",
        "print(model.summary())"
      ],
      "execution_count": 16,
      "outputs": [
        {
          "output_type": "stream",
          "name": "stdout",
          "text": [
            "Model: \"sequential\"\n",
            "_________________________________________________________________\n",
            "Layer (type)                 Output Shape              Param #   \n",
            "=================================================================\n",
            "embedding (Embedding)        (None, 2000, 32)          1600000   \n",
            "_________________________________________________________________\n",
            "lstm (LSTM)                  (None, 64)                24832     \n",
            "_________________________________________________________________\n",
            "dense (Dense)                (None, 16)                1040      \n",
            "_________________________________________________________________\n",
            "dropout (Dropout)            (None, 16)                0         \n",
            "_________________________________________________________________\n",
            "dense_1 (Dense)              (None, 1)                 17        \n",
            "=================================================================\n",
            "Total params: 1,625,889\n",
            "Trainable params: 1,625,889\n",
            "Non-trainable params: 0\n",
            "_________________________________________________________________\n",
            "None\n"
          ]
        }
      ]
    },
    {
      "cell_type": "code",
      "metadata": {
        "id": "ztrrJ4CMEqg8",
        "colab": {
          "base_uri": "https://localhost:8080/"
        },
        "outputId": "1e0de2c5-7808-4196-a7da-da73d6d6c25b"
      },
      "source": [
        "# LSTM\n",
        "start = perf_counter()\n",
        "history = model.fit(x_train_features, train_y, batch_size=512, epochs=15, validation_split=0.2)\n",
        "duration_lstm = perf_counter() - start\n",
        "duration_lstm = round(duration_lstm,2)\n",
        "lstm_history = history "
      ],
      "execution_count": 17,
      "outputs": [
        {
          "output_type": "stream",
          "name": "stdout",
          "text": [
            "Epoch 1/15\n",
            "7/7 [==============================] - 7s 264ms/step - loss: 0.6691 - accuracy: 0.6681 - val_loss: 0.6315 - val_accuracy: 0.7162\n",
            "Epoch 2/15\n",
            "7/7 [==============================] - 1s 184ms/step - loss: 0.5723 - accuracy: 0.7101 - val_loss: 0.5625 - val_accuracy: 0.7162\n",
            "Epoch 3/15\n",
            "7/7 [==============================] - 1s 184ms/step - loss: 0.4867 - accuracy: 0.7192 - val_loss: 0.3849 - val_accuracy: 0.7307\n",
            "Epoch 4/15\n",
            "7/7 [==============================] - 1s 184ms/step - loss: 0.3348 - accuracy: 0.8226 - val_loss: 0.3101 - val_accuracy: 0.8575\n",
            "Epoch 5/15\n",
            "7/7 [==============================] - 1s 183ms/step - loss: 0.2612 - accuracy: 0.9359 - val_loss: 0.2398 - val_accuracy: 0.9022\n",
            "Epoch 6/15\n",
            "7/7 [==============================] - 1s 184ms/step - loss: 0.1967 - accuracy: 0.9710 - val_loss: 0.2734 - val_accuracy: 0.9626\n",
            "Epoch 7/15\n",
            "7/7 [==============================] - 1s 184ms/step - loss: 0.1587 - accuracy: 0.9906 - val_loss: 0.1374 - val_accuracy: 0.9746\n",
            "Epoch 8/15\n",
            "7/7 [==============================] - 1s 184ms/step - loss: 0.1619 - accuracy: 0.9692 - val_loss: 0.1178 - val_accuracy: 0.9734\n",
            "Epoch 9/15\n",
            "7/7 [==============================] - 1s 183ms/step - loss: 0.0810 - accuracy: 0.9864 - val_loss: 0.0941 - val_accuracy: 0.9710\n",
            "Epoch 10/15\n",
            "7/7 [==============================] - 1s 184ms/step - loss: 0.0479 - accuracy: 0.9930 - val_loss: 0.0935 - val_accuracy: 0.9734\n",
            "Epoch 11/15\n",
            "7/7 [==============================] - 1s 182ms/step - loss: 0.0423 - accuracy: 0.9937 - val_loss: 0.0740 - val_accuracy: 0.9734\n",
            "Epoch 12/15\n",
            "7/7 [==============================] - 1s 182ms/step - loss: 0.0245 - accuracy: 0.9976 - val_loss: 0.0666 - val_accuracy: 0.9758\n",
            "Epoch 13/15\n",
            "7/7 [==============================] - 1s 182ms/step - loss: 0.0215 - accuracy: 0.9961 - val_loss: 0.0610 - val_accuracy: 0.9795\n",
            "Epoch 14/15\n",
            "7/7 [==============================] - 1s 183ms/step - loss: 0.0147 - accuracy: 0.9964 - val_loss: 0.0610 - val_accuracy: 0.9771\n",
            "Epoch 15/15\n",
            "7/7 [==============================] - 1s 181ms/step - loss: 0.0099 - accuracy: 0.9988 - val_loss: 0.1014 - val_accuracy: 0.9589\n"
          ]
        }
      ]
    },
    {
      "cell_type": "code",
      "metadata": {
        "id": "UVGEuvoUF3mO",
        "colab": {
          "base_uri": "https://localhost:8080/",
          "height": 312
        },
        "outputId": "c2ba0487-45c9-4b9f-dc92-d26a3248831b"
      },
      "source": [
        "plt.plot(history.history['accuracy'])\n",
        "plt.plot(history.history['val_accuracy'])\n",
        "plt.title('Model Accuracy of LSTM_Rmsprop')\n",
        "plt.ylabel('accuracy')\n",
        "plt.xlabel('epoch')\n",
        "plt.legend(['train', 'test'], loc='upper left')\n",
        "plt.grid()\n",
        "plt.show()\n",
        "plt.savefig(f\"{Visuals}LSTM-rms-acc-loss.jpeg\")"
      ],
      "execution_count": 18,
      "outputs": [
        {
          "output_type": "display_data",
          "data": {
            "image/png": "[encoded data removed]",
            "text/plain": [
              "<Figure size 432x288 with 1 Axes>"
            ]
          },
          "metadata": {
            "needs_background": "light"
          }
        },
        {
          "output_type": "display_data",
          "data": {
            "text/plain": [
              "<Figure size 432x288 with 0 Axes>"
            ]
          },
          "metadata": {}
        }
      ]
    },
    {
      "cell_type": "markdown",
      "metadata": {
        "id": "UK4HggdMSN0k"
      },
      "source": [
        "#Confusion Matrix"
      ]
    },
    {
      "cell_type": "code",
      "metadata": {
        "id": "wkPCZtzCSN0l"
      },
      "source": [
        "y_predict  = [1 if o>0.5 else 0 for o in model.predict(x_test_features)]"
      ],
      "execution_count": 19,
      "outputs": []
    },
    {
      "cell_type": "code",
      "metadata": {
        "id": "nat5MWCLSN0l"
      },
      "source": [
        "cf_matrix =confusion_matrix(test_y,y_predict)"
      ],
      "execution_count": 20,
      "outputs": []
    },
    {
      "cell_type": "code",
      "metadata": {
        "id": "j1yJD0g-SN0l",
        "colab": {
          "base_uri": "https://localhost:8080/",
          "height": 295
        },
        "outputId": "9c771165-7cc2-4e90-ee45-746b712380dd"
      },
      "source": [
        "ax= plt.subplot()\n",
        "sns.heatmap(cf_matrix, annot=True, ax = ax,cmap='Blues',fmt='') #annot=True to annotate cells\n",
        "\n",
        "# labels, title and ticks\n",
        "ax.set_xlabel('Predicted labels')\n",
        "ax.set_ylabel('True labels')\n",
        "ax.set_title('Confusion Matrix of LSTM_Rmsprop')\n",
        "ax.xaxis.set_ticklabels(['Not Spam', 'Spam']) \n",
        "ax.yaxis.set_ticklabels(['Not Spam', 'Spam'])\n",
        "plt.savefig(f\"{heatmaps}LSTM-rms-heatmap.jpeg\")"
      ],
      "execution_count": 21,
      "outputs": [
        {
          "output_type": "display_data",
          "data": {
            "image/png": "[encoded data removed]",
            "text/plain": [
              "<Figure size 432x288 with 2 Axes>"
            ]
          },
          "metadata": {
            "needs_background": "light"
          }
        }
      ]
    },
    {
      "cell_type": "code",
      "metadata": {
        "id": "c1r63-vBSN0m"
      },
      "source": [
        "tn, fp, fn, tp = confusion_matrix(test_y,y_predict).ravel()"
      ],
      "execution_count": 22,
      "outputs": []
    },
    {
      "cell_type": "code",
      "metadata": {
        "id": "2_DNkSELSN0m",
        "colab": {
          "base_uri": "https://localhost:8080/"
        },
        "outputId": "1d2897a4-c395-4a6e-9d65-21976ab3b9d6"
      },
      "source": [
        "print(\"Precision: {:.2f}%\".format(100 * precision_score(test_y, y_predict)))\n",
        "print(\"Recall: {:.2f}%\".format(100 * recall_score(test_y, y_predict)))\n",
        "print(\"F1 Score: {:.2f}%\".format(100 * f1_score(test_y,y_predict)))"
      ],
      "execution_count": 23,
      "outputs": [
        {
          "output_type": "stream",
          "name": "stdout",
          "text": [
            "Precision: 89.81%\n",
            "Recall: 95.41%\n",
            "F1 Score: 92.53%\n"
          ]
        }
      ]
    },
    {
      "cell_type": "code",
      "metadata": {
        "id": "HjkQwf8USN0m",
        "colab": {
          "base_uri": "https://localhost:8080/"
        },
        "outputId": "5d9a81a4-7005-450b-8e87-7ba313d0dce1"
      },
      "source": [
        "f1_score(test_y,y_predict)"
      ],
      "execution_count": 24,
      "outputs": [
        {
          "output_type": "execute_result",
          "data": {
            "text/plain": [
              "0.9252782193958665"
            ]
          },
          "metadata": {},
          "execution_count": 24
        }
      ]
    },
    {
      "cell_type": "code",
      "metadata": {
        "colab": {
          "base_uri": "https://localhost:8080/",
          "height": 312
        },
        "id": "PITJtCMMuhB-",
        "outputId": "f0e0522c-cc1b-4399-ace1-5bf72e2c2443"
      },
      "source": [
        "#AUC\n",
        "auc_lstm = ROC_AUC(test_y, y_predict, \"LSTM_rms_AUC.jpeg\")"
      ],
      "execution_count": 25,
      "outputs": [
        {
          "output_type": "stream",
          "name": "stdout",
          "text": [
            "AUC: 0.9544464406018416\n"
          ]
        },
        {
          "output_type": "display_data",
          "data": {
            "image/png": "[encoded data removed]",
            "text/plain": [
              "<Figure size 432x288 with 1 Axes>"
            ]
          },
          "metadata": {
            "needs_background": "light"
          }
        }
      ]
    },
    {
      "cell_type": "code",
      "metadata": {
        "id": "-ajQ0RxktA9n"
      },
      "source": [
        "lstm = {\n",
        "    \"train-acc\" : history.history[\"accuracy\"][len(history.history[\"accuracy\"])-1],\n",
        "    \"test-acc\" : accuracy_score(test_y,y_predict),\n",
        "    \"precision\" : precision_score(test_y, y_predict),\n",
        "    \"recall\" : recall_score(test_y, y_predict),\n",
        "    \"f1-score\" : f1_score(test_y,y_predict),\n",
        "    \"AUC\" : auc_lstm,\n",
        "    \"duration\" : duration_lstm\n",
        "\n",
        "}"
      ],
      "execution_count": 26,
      "outputs": []
    },
    {
      "cell_type": "code",
      "metadata": {
        "colab": {
          "base_uri": "https://localhost:8080/"
        },
        "id": "Zm_FkJKstBJq",
        "outputId": "123dbee0-e896-4adf-b3d9-37ead56749d6"
      },
      "source": [
        "!ls\n",
        "model.save(\"drive/MyDrive/Mahboob/Models/LSTM_rms.h5\")"
      ],
      "execution_count": 27,
      "outputs": [
        {
          "output_type": "stream",
          "name": "stdout",
          "text": [
            "drive  sample_data\n"
          ]
        }
      ]
    },
    {
      "cell_type": "code",
      "metadata": {
        "colab": {
          "base_uri": "https://localhost:8080/"
        },
        "id": "tliUrJvHvbcH",
        "outputId": "baeca5db-6d3a-4fe5-d5e6-7c2134f5e2ac"
      },
      "source": [
        "lstm"
      ],
      "execution_count": 28,
      "outputs": [
        {
          "output_type": "execute_result",
          "data": {
            "text/plain": [
              "{'AUC': 0.9544464406018416,\n",
              " 'duration': 43.25,\n",
              " 'f1-score': 0.9252782193958665,\n",
              " 'precision': 0.8981481481481481,\n",
              " 'recall': 0.9540983606557377,\n",
              " 'test-acc': 0.9545893719806763,\n",
              " 'train-acc': 0.9987908005714417}"
            ]
          },
          "metadata": {},
          "execution_count": 28
        }
      ]
    },
    {
      "cell_type": "markdown",
      "metadata": {
        "id": "7HIDKUA1IV46"
      },
      "source": [
        "#**Bi-LSTM**"
      ]
    },
    {
      "cell_type": "code",
      "metadata": {
        "id": "_ndWlmktHei7",
        "colab": {
          "base_uri": "https://localhost:8080/"
        },
        "outputId": "7614c3cb-ad77-4397-a015-aaecf2e6d161"
      },
      "source": [
        "# Bilstm\n",
        "model = tf.keras.Sequential()\n",
        "model.add(Embedding(max_feature, embedding_vecor_length, input_length=max_len))\n",
        "model.add(Bidirectional(tf.keras.layers.LSTM(64)))\n",
        "model.add(Dense(16, activation='relu'))\n",
        "model.add(Dropout(0.1))\n",
        "model.add(Dense(1, activation='sigmoid'))\n",
        "model.compile(loss='binary_crossentropy', optimizer='rmsprop', metrics=['accuracy'])\n",
        "print(model.summary())"
      ],
      "execution_count": 29,
      "outputs": [
        {
          "output_type": "stream",
          "name": "stdout",
          "text": [
            "Model: \"sequential_1\"\n",
            "_________________________________________________________________\n",
            "Layer (type)                 Output Shape              Param #   \n",
            "=================================================================\n",
            "embedding_1 (Embedding)      (None, 2000, 32)          1600000   \n",
            "_________________________________________________________________\n",
            "bidirectional (Bidirectional (None, 128)               49664     \n",
            "_________________________________________________________________\n",
            "dense_2 (Dense)              (None, 16)                2064      \n",
            "_________________________________________________________________\n",
            "dropout_1 (Dropout)          (None, 16)                0         \n",
            "_________________________________________________________________\n",
            "dense_3 (Dense)              (None, 1)                 17        \n",
            "=================================================================\n",
            "Total params: 1,651,745\n",
            "Trainable params: 1,651,745\n",
            "Non-trainable params: 0\n",
            "_________________________________________________________________\n",
            "None\n"
          ]
        }
      ]
    },
    {
      "cell_type": "code",
      "metadata": {
        "id": "Q2DY1Ga1Hj1L",
        "colab": {
          "base_uri": "https://localhost:8080/"
        },
        "outputId": "4be96bac-1271-444b-cdd0-1714ba5dca2d"
      },
      "source": [
        "# BiLSTM\n",
        "start = perf_counter()\n",
        "history = model.fit(x_train_features, train_y, batch_size=512, epochs=20, validation_split=0.2)\n",
        "duration_bi_lstm = perf_counter() - start\n",
        "duration_bi_lstm = round(duration_bi_lstm,2)\n",
        "bi_lstm_history = history "
      ],
      "execution_count": 30,
      "outputs": [
        {
          "output_type": "stream",
          "name": "stdout",
          "text": [
            "Epoch 1/20\n",
            "7/7 [==============================] - 7s 476ms/step - loss: 0.6465 - accuracy: 0.6578 - val_loss: 0.5639 - val_accuracy: 0.7162\n",
            "Epoch 2/20\n",
            "7/7 [==============================] - 2s 341ms/step - loss: 0.6080 - accuracy: 0.7104 - val_loss: 0.4848 - val_accuracy: 0.7162\n",
            "Epoch 3/20\n",
            "7/7 [==============================] - 2s 344ms/step - loss: 0.4497 - accuracy: 0.7391 - val_loss: 0.4607 - val_accuracy: 0.8442\n",
            "Epoch 4/20\n",
            "7/7 [==============================] - 2s 343ms/step - loss: 0.3591 - accuracy: 0.8909 - val_loss: 0.2587 - val_accuracy: 0.9287\n",
            "Epoch 5/20\n",
            "7/7 [==============================] - 2s 339ms/step - loss: 0.2759 - accuracy: 0.9123 - val_loss: 0.2408 - val_accuracy: 0.9601\n",
            "Epoch 6/20\n",
            "7/7 [==============================] - 2s 344ms/step - loss: 0.1689 - accuracy: 0.9813 - val_loss: 0.1476 - val_accuracy: 0.9686\n",
            "Epoch 7/20\n",
            "7/7 [==============================] - 2s 343ms/step - loss: 0.0947 - accuracy: 0.9852 - val_loss: 0.1020 - val_accuracy: 0.9722\n",
            "Epoch 8/20\n",
            "7/7 [==============================] - 2s 340ms/step - loss: 0.1092 - accuracy: 0.9701 - val_loss: 0.1046 - val_accuracy: 0.9734\n",
            "Epoch 9/20\n",
            "7/7 [==============================] - 2s 344ms/step - loss: 0.0567 - accuracy: 0.9915 - val_loss: 0.0829 - val_accuracy: 0.9758\n",
            "Epoch 10/20\n",
            "7/7 [==============================] - 2s 343ms/step - loss: 0.0405 - accuracy: 0.9927 - val_loss: 0.1026 - val_accuracy: 0.9698\n",
            "Epoch 11/20\n",
            "7/7 [==============================] - 2s 344ms/step - loss: 0.0430 - accuracy: 0.9891 - val_loss: 0.0715 - val_accuracy: 0.9758\n",
            "Epoch 12/20\n",
            "7/7 [==============================] - 2s 344ms/step - loss: 0.0264 - accuracy: 0.9961 - val_loss: 0.0712 - val_accuracy: 0.9734\n",
            "Epoch 13/20\n",
            "7/7 [==============================] - 2s 344ms/step - loss: 0.0197 - accuracy: 0.9967 - val_loss: 0.0810 - val_accuracy: 0.9674\n",
            "Epoch 14/20\n",
            "7/7 [==============================] - 2s 341ms/step - loss: 0.0197 - accuracy: 0.9964 - val_loss: 0.0563 - val_accuracy: 0.9758\n",
            "Epoch 15/20\n",
            "7/7 [==============================] - 2s 344ms/step - loss: 0.0124 - accuracy: 0.9985 - val_loss: 0.0817 - val_accuracy: 0.9710\n",
            "Epoch 16/20\n",
            "7/7 [==============================] - 2s 343ms/step - loss: 0.0114 - accuracy: 0.9973 - val_loss: 0.0673 - val_accuracy: 0.9746\n",
            "Epoch 17/20\n",
            "7/7 [==============================] - 2s 342ms/step - loss: 0.4089 - accuracy: 0.9407 - val_loss: 0.0530 - val_accuracy: 0.9734\n",
            "Epoch 18/20\n",
            "7/7 [==============================] - 2s 341ms/step - loss: 0.0099 - accuracy: 0.9991 - val_loss: 0.0508 - val_accuracy: 0.9758\n",
            "Epoch 19/20\n",
            "7/7 [==============================] - 2s 342ms/step - loss: 0.0077 - accuracy: 0.9994 - val_loss: 0.0510 - val_accuracy: 0.9734\n",
            "Epoch 20/20\n",
            "7/7 [==============================] - 2s 341ms/step - loss: 0.0084 - accuracy: 0.9982 - val_loss: 0.0531 - val_accuracy: 0.9758\n"
          ]
        }
      ]
    },
    {
      "cell_type": "code",
      "metadata": {
        "id": "SfC1t4hNq8VZ",
        "colab": {
          "base_uri": "https://localhost:8080/",
          "height": 312
        },
        "outputId": "b3d8ddbe-4547-4cfb-b52b-c9c0bb5daee4"
      },
      "source": [
        "plt.plot(history.history['accuracy'])\n",
        "plt.plot(history.history['val_accuracy'])\n",
        "plt.title('Model Accuracy of BiLSTM_Rmsprop')\n",
        "plt.ylabel('accuracy')\n",
        "plt.xlabel('epoch')\n",
        "plt.legend(['train', 'test'], loc='upper left')\n",
        "plt.grid()\n",
        "plt.show()\n",
        "plt.savefig(f\"{Visuals}Bi-LSTM-rms-acc-loss.jpeg\")"
      ],
      "execution_count": 31,
      "outputs": [
        {
          "output_type": "display_data",
          "data": {
            "image/png": "[encoded data removed]",
            "text/plain": [
              "<Figure size 432x288 with 1 Axes>"
            ]
          },
          "metadata": {
            "needs_background": "light"
          }
        },
        {
          "output_type": "display_data",
          "data": {
            "text/plain": [
              "<Figure size 432x288 with 0 Axes>"
            ]
          },
          "metadata": {}
        }
      ]
    },
    {
      "cell_type": "markdown",
      "metadata": {
        "id": "ZFaJsMleSCIs"
      },
      "source": [
        "#Confusion Matrix BiLSTM\n"
      ]
    },
    {
      "cell_type": "code",
      "metadata": {
        "id": "3LuS3-WZSCI0"
      },
      "source": [
        "y_predict  = [1 if o>0.5 else 0 for o in model.predict(x_test_features)]"
      ],
      "execution_count": 32,
      "outputs": []
    },
    {
      "cell_type": "code",
      "metadata": {
        "id": "TLUX-7XQSCI0"
      },
      "source": [
        "cf_matrix =confusion_matrix(test_y,y_predict)"
      ],
      "execution_count": 33,
      "outputs": []
    },
    {
      "cell_type": "code",
      "metadata": {
        "id": "8R-JuHugSCI0",
        "colab": {
          "base_uri": "https://localhost:8080/",
          "height": 295
        },
        "outputId": "7e045620-6bb2-4f00-f3b0-1879e56bf544"
      },
      "source": [
        "ax= plt.subplot()\n",
        "sns.heatmap(cf_matrix, annot=True, ax = ax,cmap='Blues',fmt='') #annot=True to annotate cells\n",
        "\n",
        "# labels, title and ticks\n",
        "ax.set_xlabel('Predicted labels')\n",
        "ax.set_ylabel('True labels')\n",
        "ax.set_title('Confusion Matrix of BiLSTM_Rmsprop') \n",
        "ax.xaxis.set_ticklabels(['Not Spam', 'Spam']) \n",
        "ax.yaxis.set_ticklabels(['Not Spam', 'Spam'])\n",
        "plt.savefig(f\"{heatmaps}Bi-LSTM-rms-heatmap.jpeg\")"
      ],
      "execution_count": 34,
      "outputs": [
        {
          "output_type": "display_data",
          "data": {
            "image/png": "[encoded data removed]",
            "text/plain": [
              "<Figure size 432x288 with 2 Axes>"
            ]
          },
          "metadata": {
            "needs_background": "light"
          }
        }
      ]
    },
    {
      "cell_type": "code",
      "metadata": {
        "id": "QJRNLaFhSCI1"
      },
      "source": [
        "tn, fp, fn, tp = confusion_matrix(test_y,y_predict).ravel()"
      ],
      "execution_count": 35,
      "outputs": []
    },
    {
      "cell_type": "code",
      "metadata": {
        "id": "pz1xUVAMSCI1",
        "colab": {
          "base_uri": "https://localhost:8080/"
        },
        "outputId": "200c55af-2af8-43bd-ea90-d1f03dc81d09"
      },
      "source": [
        "print(\"Precision: {:.2f}%\".format(100 * precision_score(test_y, y_predict)))\n",
        "print(\"Recall: {:.2f}%\".format(100 * recall_score(test_y, y_predict)))\n",
        "print(\"F1 Score: {:.2f}%\".format(100 * f1_score(test_y,y_predict)))"
      ],
      "execution_count": 36,
      "outputs": [
        {
          "output_type": "stream",
          "name": "stdout",
          "text": [
            "Precision: 97.30%\n",
            "Recall: 94.43%\n",
            "F1 Score: 95.84%\n"
          ]
        }
      ]
    },
    {
      "cell_type": "code",
      "metadata": {
        "id": "Jxk_14FPSCI1",
        "colab": {
          "base_uri": "https://localhost:8080/"
        },
        "outputId": "7455efa3-f4a8-41b4-c2d6-fb6a174d7a35"
      },
      "source": [
        "f1_score(test_y,y_predict)"
      ],
      "execution_count": 37,
      "outputs": [
        {
          "output_type": "execute_result",
          "data": {
            "text/plain": [
              "0.9584026622296173"
            ]
          },
          "metadata": {},
          "execution_count": 37
        }
      ]
    },
    {
      "cell_type": "code",
      "metadata": {
        "colab": {
          "base_uri": "https://localhost:8080/",
          "height": 312
        },
        "id": "PQteFQPiw5o6",
        "outputId": "9f641a8e-399f-4bb6-ede1-a6f4c928ff08"
      },
      "source": [
        "#AUC\n",
        "auc_bi_lstm = ROC_AUC(test_y, y_predict, \"Bi-LSTM-rms_AUC.jpeg\")"
      ],
      "execution_count": 38,
      "outputs": [
        {
          "output_type": "stream",
          "name": "stdout",
          "text": [
            "AUC: 0.9666516954861891\n"
          ]
        },
        {
          "output_type": "display_data",
          "data": {
            "image/png": "[encoded data removed]",
            "text/plain": [
              "<Figure size 432x288 with 1 Axes>"
            ]
          },
          "metadata": {
            "needs_background": "light"
          }
        }
      ]
    },
    {
      "cell_type": "code",
      "metadata": {
        "id": "6ErH-QUZw5o-"
      },
      "source": [
        "Bi_lstm = {\n",
        "    \"train-acc\" : history.history[\"accuracy\"][len(history.history[\"accuracy\"])-1],\n",
        "    \"test-acc\" : accuracy_score(test_y,y_predict),\n",
        "    \"precision\" : precision_score(test_y, y_predict),\n",
        "    \"recall\" : recall_score(test_y, y_predict),\n",
        "    \"f1-score\" : f1_score(test_y,y_predict),\n",
        "    \"AUC\" : auc_bi_lstm,\n",
        "    \"duration\" : duration_bi_lstm\n",
        "\n",
        "}"
      ],
      "execution_count": 39,
      "outputs": []
    },
    {
      "cell_type": "code",
      "metadata": {
        "colab": {
          "base_uri": "https://localhost:8080/"
        },
        "id": "LMs5jC_Qw5o-",
        "outputId": "a883c328-199c-46a2-fa03-681608899589"
      },
      "source": [
        "!ls\n",
        "model.save(\"drive/MyDrive/Mahboob/Models/Bi_LSTM-rms.h5\")"
      ],
      "execution_count": 40,
      "outputs": [
        {
          "output_type": "stream",
          "name": "stdout",
          "text": [
            "drive  sample_data\n"
          ]
        }
      ]
    },
    {
      "cell_type": "code",
      "metadata": {
        "colab": {
          "base_uri": "https://localhost:8080/"
        },
        "id": "D0B4R6wKw5o-",
        "outputId": "ccee9839-5939-4286-bc3b-a35d38ff4289"
      },
      "source": [
        "Bi_lstm"
      ],
      "execution_count": 41,
      "outputs": [
        {
          "output_type": "execute_result",
          "data": {
            "text/plain": [
              "{'AUC': 0.9666516954861891,\n",
              " 'duration': 85.54,\n",
              " 'f1-score': 0.9584026622296173,\n",
              " 'precision': 0.972972972972973,\n",
              " 'recall': 0.9442622950819672,\n",
              " 'test-acc': 0.9758454106280193,\n",
              " 'train-acc': 0.9981862306594849}"
            ]
          },
          "metadata": {},
          "execution_count": 41
        }
      ]
    },
    {
      "cell_type": "markdown",
      "metadata": {
        "id": "zDyi3yCvIcXq"
      },
      "source": [
        "#**GRU**"
      ]
    },
    {
      "cell_type": "code",
      "metadata": {
        "id": "63n6evOJFIjU",
        "colab": {
          "base_uri": "https://localhost:8080/"
        },
        "outputId": "98ce14c2-a8ad-4ae8-edab-48886b327f18"
      },
      "source": [
        "#GRU\n",
        "model = tf.keras.Sequential()\n",
        "model.add(Embedding(max_feature, embedding_vecor_length, input_length=max_len))\n",
        "# model.add(GRU(units=64, dropout=0.1,recurrent_dropout=0.1))\n",
        "model.add(tf.keras.layers.GRU(64))\n",
        "model.add(Dense(16, activation='relu'))\n",
        "model.add(Dropout(0.1))\n",
        "model.add(Dense(1, activation='sigmoid'))\n",
        "model.compile(loss='binary_crossentropy', optimizer='rmsprop', metrics=['accuracy'])\n",
        "print(model.summary())\n"
      ],
      "execution_count": 42,
      "outputs": [
        {
          "output_type": "stream",
          "name": "stdout",
          "text": [
            "Model: \"sequential_2\"\n",
            "_________________________________________________________________\n",
            "Layer (type)                 Output Shape              Param #   \n",
            "=================================================================\n",
            "embedding_2 (Embedding)      (None, 2000, 32)          1600000   \n",
            "_________________________________________________________________\n",
            "gru (GRU)                    (None, 64)                18816     \n",
            "_________________________________________________________________\n",
            "dense_4 (Dense)              (None, 16)                1040      \n",
            "_________________________________________________________________\n",
            "dropout_2 (Dropout)          (None, 16)                0         \n",
            "_________________________________________________________________\n",
            "dense_5 (Dense)              (None, 1)                 17        \n",
            "=================================================================\n",
            "Total params: 1,619,873\n",
            "Trainable params: 1,619,873\n",
            "Non-trainable params: 0\n",
            "_________________________________________________________________\n",
            "None\n"
          ]
        }
      ]
    },
    {
      "cell_type": "code",
      "metadata": {
        "id": "n_oFHNH6Iyye",
        "colab": {
          "base_uri": "https://localhost:8080/"
        },
        "outputId": "9832d85a-4e06-4643-ec19-59fc2e84e591"
      },
      "source": [
        "# GRU\n",
        "start = perf_counter()\n",
        "history = model.fit(x_train_features, train_y, batch_size=512, epochs=15, validation_split=0.2)\n",
        "duration_gru = perf_counter() - start\n",
        "duration_gru = round(duration_gru,2)\n",
        "gru_history = history "
      ],
      "execution_count": 43,
      "outputs": [
        {
          "output_type": "stream",
          "name": "stdout",
          "text": [
            "Epoch 1/15\n",
            "7/7 [==============================] - 4s 257ms/step - loss: 0.6572 - accuracy: 0.6877 - val_loss: 0.5743 - val_accuracy: 0.7162\n",
            "Epoch 2/15\n",
            "7/7 [==============================] - 1s 187ms/step - loss: 0.5208 - accuracy: 0.7122 - val_loss: 0.4644 - val_accuracy: 0.7862\n",
            "Epoch 3/15\n",
            "7/7 [==============================] - 1s 188ms/step - loss: 0.3994 - accuracy: 0.8050 - val_loss: 0.3507 - val_accuracy: 0.8043\n",
            "Epoch 4/15\n",
            "7/7 [==============================] - 1s 187ms/step - loss: 0.2912 - accuracy: 0.8564 - val_loss: 0.2888 - val_accuracy: 0.8237\n",
            "Epoch 5/15\n",
            "7/7 [==============================] - 1s 187ms/step - loss: 0.2278 - accuracy: 0.9235 - val_loss: 0.2504 - val_accuracy: 0.8684\n",
            "Epoch 6/15\n",
            "7/7 [==============================] - 1s 187ms/step - loss: 0.1926 - accuracy: 0.9737 - val_loss: 0.2476 - val_accuracy: 0.8804\n",
            "Epoch 7/15\n",
            "7/7 [==============================] - 1s 188ms/step - loss: 0.1728 - accuracy: 0.9873 - val_loss: 0.1979 - val_accuracy: 0.9239\n",
            "Epoch 8/15\n",
            "7/7 [==============================] - 1s 187ms/step - loss: 0.1367 - accuracy: 0.9964 - val_loss: 0.1999 - val_accuracy: 0.9614\n",
            "Epoch 9/15\n",
            "7/7 [==============================] - 1s 186ms/step - loss: 0.1065 - accuracy: 0.9979 - val_loss: 0.1218 - val_accuracy: 0.9795\n",
            "Epoch 10/15\n",
            "7/7 [==============================] - 1s 187ms/step - loss: 0.1000 - accuracy: 0.9921 - val_loss: 0.1126 - val_accuracy: 0.9807\n",
            "Epoch 11/15\n",
            "7/7 [==============================] - 1s 187ms/step - loss: 0.0560 - accuracy: 0.9985 - val_loss: 0.1078 - val_accuracy: 0.9795\n",
            "Epoch 12/15\n",
            "7/7 [==============================] - 1s 186ms/step - loss: 0.0403 - accuracy: 0.9973 - val_loss: 0.0821 - val_accuracy: 0.9807\n",
            "Epoch 13/15\n",
            "7/7 [==============================] - 1s 187ms/step - loss: 0.0247 - accuracy: 0.9985 - val_loss: 0.0607 - val_accuracy: 0.9795\n",
            "Epoch 14/15\n",
            "7/7 [==============================] - 1s 187ms/step - loss: 0.0345 - accuracy: 0.9946 - val_loss: 0.0780 - val_accuracy: 0.9686\n",
            "Epoch 15/15\n",
            "7/7 [==============================] - 1s 187ms/step - loss: 0.0175 - accuracy: 0.9973 - val_loss: 0.0583 - val_accuracy: 0.9807\n"
          ]
        }
      ]
    },
    {
      "cell_type": "code",
      "metadata": {
        "id": "VOdg_pHMq-0A",
        "colab": {
          "base_uri": "https://localhost:8080/",
          "height": 312
        },
        "outputId": "4ae723a6-bf86-48d5-906c-090ac48b2170"
      },
      "source": [
        "plt.plot(history.history['accuracy'])\n",
        "plt.plot(history.history['val_accuracy'])\n",
        "plt.title('Model Accuracy of GRU_Rmsprop')\n",
        "plt.ylabel('accuracy')\n",
        "plt.xlabel('epoch')\n",
        "plt.legend(['train', 'test'], loc='upper left')\n",
        "plt.grid()\n",
        "plt.show()\n",
        "plt.savefig(f\"{Visuals}gru-rms-acc-loss.jpeg\")"
      ],
      "execution_count": 44,
      "outputs": [
        {
          "output_type": "display_data",
          "data": {
            "image/png": "[encoded data removed]",
            "text/plain": [
              "<Figure size 432x288 with 1 Axes>"
            ]
          },
          "metadata": {
            "needs_background": "light"
          }
        },
        {
          "output_type": "display_data",
          "data": {
            "text/plain": [
              "<Figure size 432x288 with 0 Axes>"
            ]
          },
          "metadata": {}
        }
      ]
    },
    {
      "cell_type": "markdown",
      "metadata": {
        "id": "rhNLRfN9IhfF"
      },
      "source": [
        "#Confusion Matrix GRU\n"
      ]
    },
    {
      "cell_type": "code",
      "metadata": {
        "id": "gkJQ-yURJg3n"
      },
      "source": [
        "y_predict  = [1 if o>0.5 else 0 for o in model.predict(x_test_features)]"
      ],
      "execution_count": 45,
      "outputs": []
    },
    {
      "cell_type": "code",
      "metadata": {
        "id": "gB21196PJg3o"
      },
      "source": [
        "cf_matrix =confusion_matrix(test_y,y_predict)"
      ],
      "execution_count": 46,
      "outputs": []
    },
    {
      "cell_type": "code",
      "metadata": {
        "id": "47vMs8s-maLQ",
        "colab": {
          "base_uri": "https://localhost:8080/",
          "height": 295
        },
        "outputId": "501eeb2a-eea7-42ed-abcb-befc5d33b1f6"
      },
      "source": [
        "ax= plt.subplot()\n",
        "sns.heatmap(cf_matrix, annot=True, ax = ax,cmap='Blues',fmt='') #annot=True to annotate cells\n",
        "\n",
        "# labels, title and ticks\n",
        "ax.set_xlabel('Predicted labels')\n",
        "ax.set_ylabel('True labels')\n",
        "ax.set_title('Confusion Matrix of GRU_Rmsprop')\n",
        "ax.xaxis.set_ticklabels(['Not Spam', 'Spam'])\n",
        "ax.yaxis.set_ticklabels(['Not Spam', 'Spam'])\n",
        "plt.savefig(f\"{heatmaps}gru-rms-heatmap.jpeg\")"
      ],
      "execution_count": 47,
      "outputs": [
        {
          "output_type": "display_data",
          "data": {
            "image/png": "[encoded data removed]",
            "text/plain": [
              "<Figure size 432x288 with 2 Axes>"
            ]
          },
          "metadata": {
            "needs_background": "light"
          }
        }
      ]
    },
    {
      "cell_type": "code",
      "metadata": {
        "id": "kberNYWIJg3r"
      },
      "source": [
        "tn, fp, fn, tp = confusion_matrix(test_y,y_predict).ravel()"
      ],
      "execution_count": 48,
      "outputs": []
    },
    {
      "cell_type": "code",
      "metadata": {
        "id": "kshhXwFAJg3s",
        "colab": {
          "base_uri": "https://localhost:8080/"
        },
        "outputId": "4e9a623d-abf5-434d-f1a7-566cbb7296a6"
      },
      "source": [
        "print(\"Precision: {:.2f}%\".format(100 * precision_score(test_y, y_predict)))\n",
        "print(\"Recall: {:.2f}%\".format(100 * recall_score(test_y, y_predict)))\n",
        "print(\"F1 Score: {:.2f}%\".format(100 * f1_score(test_y,y_predict)))"
      ],
      "execution_count": 49,
      "outputs": [
        {
          "output_type": "stream",
          "name": "stdout",
          "text": [
            "Precision: 95.68%\n",
            "Recall: 94.43%\n",
            "F1 Score: 95.05%\n"
          ]
        }
      ]
    },
    {
      "cell_type": "code",
      "metadata": {
        "id": "x8pacWZkJg3v",
        "colab": {
          "base_uri": "https://localhost:8080/"
        },
        "outputId": "f6d0641f-b5df-4814-81af-371fbd2919e7"
      },
      "source": [
        "f1_score(test_y,y_predict)"
      ],
      "execution_count": 50,
      "outputs": [
        {
          "output_type": "execute_result",
          "data": {
            "text/plain": [
              "0.9504950495049506"
            ]
          },
          "metadata": {},
          "execution_count": 50
        }
      ]
    },
    {
      "cell_type": "code",
      "metadata": {
        "colab": {
          "base_uri": "https://localhost:8080/",
          "height": 312
        },
        "id": "xi8tTt93ywmO",
        "outputId": "af5d808b-1f04-4336-a1af-f23eccf7defd"
      },
      "source": [
        "#AUC\n",
        "auc_gru = ROC_AUC(test_y, y_predict, \"gru_rms_AUC.jpeg\")"
      ],
      "execution_count": 51,
      "outputs": [
        {
          "output_type": "stream",
          "name": "stdout",
          "text": [
            "AUC: 0.9632270379519426\n"
          ]
        },
        {
          "output_type": "display_data",
          "data": {
            "image/png": "[encoded data removed]",
            "text/plain": [
              "<Figure size 432x288 with 1 Axes>"
            ]
          },
          "metadata": {
            "needs_background": "light"
          }
        }
      ]
    },
    {
      "cell_type": "code",
      "metadata": {
        "id": "WILjUhSwywmP"
      },
      "source": [
        "gru = {\n",
        "    \"train-acc\" : history.history[\"accuracy\"][len(history.history[\"accuracy\"])-1],\n",
        "    \"test-acc\" : accuracy_score(test_y,y_predict),\n",
        "    \"precision\" : precision_score(test_y, y_predict),\n",
        "    \"recall\" : recall_score(test_y, y_predict),\n",
        "    \"f1-score\" : f1_score(test_y,y_predict),\n",
        "    \"AUC\" : auc_gru,\n",
        "    \"duration\" : duration_gru\n",
        "\n",
        "}"
      ],
      "execution_count": 52,
      "outputs": []
    },
    {
      "cell_type": "code",
      "metadata": {
        "colab": {
          "base_uri": "https://localhost:8080/"
        },
        "id": "6IgwC8TaywmP",
        "outputId": "5783a719-5572-4add-af9a-48ffc4c67969"
      },
      "source": [
        "!ls\n",
        "model.save(\"drive/MyDrive/Mahboob/Models/GRU_rms.h5\")"
      ],
      "execution_count": 53,
      "outputs": [
        {
          "output_type": "stream",
          "name": "stdout",
          "text": [
            "drive  sample_data\n"
          ]
        }
      ]
    },
    {
      "cell_type": "code",
      "metadata": {
        "colab": {
          "base_uri": "https://localhost:8080/"
        },
        "id": "bU05FDFSywmQ",
        "outputId": "7a3bc6b5-5d56-4579-ef24-ed268a7237ff"
      },
      "source": [
        "gru"
      ],
      "execution_count": 54,
      "outputs": [
        {
          "output_type": "execute_result",
          "data": {
            "text/plain": [
              "{'AUC': 0.9632270379519426,\n",
              " 'duration': 22.07,\n",
              " 'f1-score': 0.9504950495049506,\n",
              " 'precision': 0.9568106312292359,\n",
              " 'recall': 0.9442622950819672,\n",
              " 'test-acc': 0.9710144927536232,\n",
              " 'train-acc': 0.9972793459892273}"
            ]
          },
          "metadata": {},
          "execution_count": 54
        }
      ]
    },
    {
      "cell_type": "code",
      "metadata": {
        "colab": {
          "base_uri": "https://localhost:8080/"
        },
        "id": "FahRtIEHzH5U",
        "outputId": "87c1e196-8560-47b0-e29b-a6946dea798e"
      },
      "source": [
        "models_metrics = []\n",
        "RMS = {\n",
        "    \"lstm-rms\" : {\n",
        "        \"train-acc\" : 0,\n",
        "        \"test-acc\" : 0,\n",
        "        \"precision\" : 0,\n",
        "        \"recall\" : 0,\n",
        "        \"f1-score\" : 0,\n",
        "        \"AUC\" : 0,\n",
        "        \"duration\" : 0\n",
        "    },\n",
        "    \"Bi_lstm-rms\" : {\n",
        "        \"train-acc\" : 0,\n",
        "        \"test-acc\" : 0,\n",
        "        \"precision\" : 0,\n",
        "        \"recall\" : 0,\n",
        "        \"f1-score\" : 0,\n",
        "        \"AUC\" : 0,\n",
        "        \"duration\" : 0\n",
        "    },\n",
        "    \"gru-rms\" : {\n",
        "        \"train-acc\" : 0,\n",
        "        \"test-acc\" : 0,\n",
        "        \"precision\" : 0,\n",
        "        \"recall\" : 0,\n",
        "        \"f1-score\" : 0,\n",
        "        \"AUC\" : 0,\n",
        "        \"duration\" : 0\n",
        "    }\n",
        "}\n",
        "for (l,b,g) in zip(lstm,Bi_lstm,gru):\n",
        "  RMS[\"lstm-rms\"][l] = lstm[l]\n",
        "  RMS[\"Bi_lstm-rms\"][b] = Bi_lstm[b]\n",
        "  RMS[\"gru-rms\"][g] = gru[g]   \n",
        "\n",
        "RMS \n",
        "\n"
      ],
      "execution_count": 55,
      "outputs": [
        {
          "output_type": "execute_result",
          "data": {
            "text/plain": [
              "{'Bi_lstm-rms': {'AUC': 0.9666516954861891,\n",
              "  'duration': 85.54,\n",
              "  'f1-score': 0.9584026622296173,\n",
              "  'precision': 0.972972972972973,\n",
              "  'recall': 0.9442622950819672,\n",
              "  'test-acc': 0.9758454106280193,\n",
              "  'train-acc': 0.9981862306594849},\n",
              " 'gru-rms': {'AUC': 0.9632270379519426,\n",
              "  'duration': 22.07,\n",
              "  'f1-score': 0.9504950495049506,\n",
              "  'precision': 0.9568106312292359,\n",
              "  'recall': 0.9442622950819672,\n",
              "  'test-acc': 0.9710144927536232,\n",
              "  'train-acc': 0.9972793459892273},\n",
              " 'lstm-rms': {'AUC': 0.9544464406018416,\n",
              "  'duration': 43.25,\n",
              "  'f1-score': 0.9252782193958665,\n",
              "  'precision': 0.8981481481481481,\n",
              "  'recall': 0.9540983606557377,\n",
              "  'test-acc': 0.9545893719806763,\n",
              "  'train-acc': 0.9987908005714417}}"
            ]
          },
          "metadata": {},
          "execution_count": 55
        }
      ]
    },
    {
      "cell_type": "code",
      "metadata": {
        "id": "Q-pgZ38Z_K_a"
      },
      "source": [
        "models_metrics= []\n",
        "for name, model in RMS.items():\n",
        "  # print(name,model)\n",
        "  #print(model[\"y_pred\"].shape)\n",
        "  precision, recall, f1_score_,  = model[\"precision\"], model[\"recall\"], model[\"f1-score\"]\n",
        "  accuracy, lr_auc = model[\"test-acc\"], model[\"AUC\"]\n",
        "  Train_acc, duration = model[\"train-acc\"], model[\"duration\"]\n",
        "  #print(f\"precision : {precision} recall : {recall} f1_score : {f1_score_} accuracy : {accuracy}\")\n",
        "  models_metrics.append([name, precision, recall, f1_score_, Train_acc, accuracy, lr_auc, duration])\n",
        "\n",
        "df_metrics = pd.DataFrame(models_metrics)\n",
        "df_metrics.columns = ['Model', 'Precision', 'Recall', 'f1 score', \"Train Accuracy\", 'Test Accuracy', 'ROC-AUC', 'Train Time (s)']\n",
        "df_metrics.sort_values(by = 'Test Accuracy', ascending = False, inplace=True)\n",
        "df_metrics.reset_index(drop = True, inplace=True)\n",
        "df_metrics.to_csv(f\"{Comparison}RMS_comparison.csv\") "
      ],
      "execution_count": 56,
      "outputs": []
    },
    {
      "cell_type": "code",
      "metadata": {
        "colab": {
          "base_uri": "https://localhost:8080/",
          "height": 142
        },
        "id": "DXxiakh-AU17",
        "outputId": "07472d41-1c69-4ddd-b59e-5512777bf68a"
      },
      "source": [
        "df_metrics"
      ],
      "execution_count": 57,
      "outputs": [
        {
          "output_type": "execute_result",
          "data": {
            "text/html": [
              "<div>\n",
              "<style scoped>\n",
              "    .dataframe tbody tr th:only-of-type {\n",
              "        vertical-align: middle;\n",
              "    }\n",
              "\n",
              "    .dataframe tbody tr th {\n",
              "        vertical-align: top;\n",
              "    }\n",
              "\n",
              "    .dataframe thead th {\n",
              "        text-align: right;\n",
              "    }\n",
              "</style>\n",
              "<table border=\"1\" class=\"dataframe\">\n",
              "  <thead>\n",
              "    <tr style=\"text-align: right;\">\n",
              "      <th></th>\n",
              "      <th>Model</th>\n",
              "      <th>Precision</th>\n",
              "      <th>Recall</th>\n",
              "      <th>f1 score</th>\n",
              "      <th>Train Accuracy</th>\n",
              "      <th>Test Accuracy</th>\n",
              "      <th>ROC-AUC</th>\n",
              "      <th>Train Time (s)</th>\n",
              "    </tr>\n",
              "  </thead>\n",
              "  <tbody>\n",
              "    <tr>\n",
              "      <th>0</th>\n",
              "      <td>Bi_lstm-rms</td>\n",
              "      <td>0.972973</td>\n",
              "      <td>0.944262</td>\n",
              "      <td>0.958403</td>\n",
              "      <td>0.998186</td>\n",
              "      <td>0.975845</td>\n",
              "      <td>0.966652</td>\n",
              "      <td>85.54</td>\n",
              "    </tr>\n",
              "    <tr>\n",
              "      <th>1</th>\n",
              "      <td>gru-rms</td>\n",
              "      <td>0.956811</td>\n",
              "      <td>0.944262</td>\n",
              "      <td>0.950495</td>\n",
              "      <td>0.997279</td>\n",
              "      <td>0.971014</td>\n",
              "      <td>0.963227</td>\n",
              "      <td>22.07</td>\n",
              "    </tr>\n",
              "    <tr>\n",
              "      <th>2</th>\n",
              "      <td>lstm-rms</td>\n",
              "      <td>0.898148</td>\n",
              "      <td>0.954098</td>\n",
              "      <td>0.925278</td>\n",
              "      <td>0.998791</td>\n",
              "      <td>0.954589</td>\n",
              "      <td>0.954446</td>\n",
              "      <td>43.25</td>\n",
              "    </tr>\n",
              "  </tbody>\n",
              "</table>\n",
              "</div>"
            ],
            "text/plain": [
              "         Model  Precision    Recall  ...  Test Accuracy   ROC-AUC  Train Time (s)\n",
              "0  Bi_lstm-rms   0.972973  0.944262  ...       0.975845  0.966652           85.54\n",
              "1      gru-rms   0.956811  0.944262  ...       0.971014  0.963227           22.07\n",
              "2     lstm-rms   0.898148  0.954098  ...       0.954589  0.954446           43.25\n",
              "\n",
              "[3 rows x 8 columns]"
            ]
          },
          "metadata": {},
          "execution_count": 57
        }
      ]
    }
  ]
}
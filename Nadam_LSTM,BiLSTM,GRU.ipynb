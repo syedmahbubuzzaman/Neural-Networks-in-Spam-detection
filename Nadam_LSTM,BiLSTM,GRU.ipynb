{
  "nbformat": 4,
  "nbformat_minor": 0,
  "metadata": {
    "kernelspec": {
      "display_name": "Python 3",
      "language": "python",
      "name": "python3"
    },
    "language_info": {
      "codemirror_mode": {
        "name": "ipython",
        "version": 3
      },
      "file_extension": ".py",
      "mimetype": "text/x-python",
      "name": "python",
      "nbconvert_exporter": "python",
      "pygments_lexer": "ipython3",
      "version": "3.7.6"
    },
    "colab": {
      "name": "Nadam_LSTM,BiLSTM,GRU.ipynb",
      "provenance": [],
      "collapsed_sections": [
        "_wtlTSmaI9ej",
        "aUeSIUGoIyuT",
        "sOgIC9vgIyx5",
        "W5cfcZhuIyyF",
        "NQnP3LyeIyyN",
        "wYBAvFS-IyyT",
        "cNJGhByLIyyZ"
      ],
      "machine_shape": "hm"
    },
    "accelerator": "GPU"
  },
  "cells": [
    {
      "cell_type": "markdown",
      "metadata": {
        "id": "_wtlTSmaI9ej"
      },
      "source": [
        "# Necessary Libraries\n"
      ]
    },
    {
      "cell_type": "code",
      "metadata": {
        "colab": {
          "base_uri": "https://localhost:8080/"
        },
        "id": "2SmAyscwDuKT",
        "outputId": "8bec9afc-607f-4070-e589-5ec32da77c20"
      },
      "source": [
        "from google.colab import drive\n",
        "drive.mount('/content/drive')"
      ],
      "execution_count": 1,
      "outputs": [
        {
          "output_type": "stream",
          "name": "stdout",
          "text": [
            "Mounted at /content/drive\n"
          ]
        }
      ]
    },
    {
      "cell_type": "code",
      "metadata": {
        "id": "UBGPH0VtIyxr",
        "colab": {
          "base_uri": "https://localhost:8080/"
        },
        "outputId": "7a760806-5802-446d-a728-9c942970f5d6"
      },
      "source": [
        "import pandas as pd\n",
        "import re\n",
        "import string\n",
        "import numpy as np\n",
        "import tensorflow as tf\n",
        "import seaborn as sns\n",
        "import matplotlib.pyplot as plt  \n",
        "import io\n",
        "import warnings\n",
        "warnings.filterwarnings(\"ignore\", category=np.VisibleDeprecationWarning)\n",
        "from google.colab import files \n",
        "from sklearn.feature_extraction.stop_words import ENGLISH_STOP_WORDS\n",
        "from sklearn.model_selection import train_test_split\n",
        "from sklearn.preprocessing import LabelEncoder\n",
        "from keras.preprocessing.text import Tokenizer\n",
        "from keras.preprocessing.sequence import pad_sequences\n",
        "from keras.layers import Dense, Input, LSTM, GRU, Embedding, Dropout, Activation\n",
        "from keras.layers import Bidirectional\n",
        "from keras.models import Model\n",
        "# from  matplotlib import pyplot as plt\n",
        "from keras.utils.vis_utils import plot_model\n",
        "from sklearn.metrics import confusion_matrix,f1_score, precision_score,recall_score\n",
        "from sklearn.metrics import roc_curve, auc,accuracy_score\n",
        "# Time and counters\n",
        "from time import perf_counter"
      ],
      "execution_count": 2,
      "outputs": [
        {
          "output_type": "stream",
          "name": "stderr",
          "text": [
            "/usr/local/lib/python3.7/dist-packages/sklearn/utils/deprecation.py:144: FutureWarning: The sklearn.feature_extraction.stop_words module is  deprecated in version 0.22 and will be removed in version 0.24. The corresponding classes / functions should instead be imported from sklearn.feature_extraction.text. Anything that cannot be imported from sklearn.feature_extraction.text is now part of the private API.\n",
            "  warnings.warn(message, FutureWarning)\n"
          ]
        }
      ]
    },
    {
      "cell_type": "markdown",
      "metadata": {
        "id": "aUeSIUGoIyuT"
      },
      "source": [
        "# Reading DataSet"
      ]
    },
    {
      "cell_type": "code",
      "metadata": {
        "id": "wB9EGf7fIyxw"
      },
      "source": [
        "#uploaded = files.upload()"
      ],
      "execution_count": 3,
      "outputs": []
    },
    {
      "cell_type": "code",
      "metadata": {
        "id": "ooRDfvExEkz3"
      },
      "source": [
        "#uploaded = files.upload()\n",
        "dataPath   = \"drive/MyDrive/Mahboob/Dataset/\" \n",
        "heatmaps   = \"drive/MyDrive/Mahboob/Heatmaps/\"\n",
        "Visuals    = \"drive/MyDrive/Mahboob/Visuals/\"\n",
        "Comparison = \"drive/MyDrive/Mahboob/Comparison/\"\n",
        "Model      = \"drive/MyDrive/Mahboob/Models/\"\n",
        "\n",
        "def plot_graphs(history, metric):\n",
        "    plt.plot(history.history[metric])\n",
        "    plt.plot(history.history['val_'+metric], '')\n",
        "    plt.xlabel(\"Epochs\")\n",
        "    plt.ylabel(metric)\n",
        "    plt.legend([metric, 'val_'+metric])\n",
        "\n",
        "\n",
        "def ROC_AUC(y_test, y_pred, fname):\n",
        "    # evluate true positive rate and false positive rate using sklearn builtin function\n",
        "    lr_fpr, lr_tpr, _ = roc_curve(y_test, y_pred)\n",
        "    # find area under curve score\n",
        "    lr_auc = auc(lr_fpr, lr_tpr)\n",
        "\n",
        "    # display auc score\n",
        "    print(\"AUC:\", lr_auc)\n",
        "    # plot linear line with no learning\n",
        "    plt.plot([0, 1], [0, 1], 'k--')\n",
        "    # plot tpr and fpr ratio\n",
        "    plt.plot(lr_fpr, lr_tpr, marker='.', label='lr (auc = %0.3f)' % lr_auc)\n",
        "    # assign labels\n",
        "    plt.xlabel('False positive rate')\n",
        "    plt.ylabel('True positive rate')\n",
        "    plt.title('Receiver Operating Characterisics')\n",
        "    plt.legend(loc='lower right')\n",
        "    plt.savefig(f\"{Visuals}{fname}\")\n",
        "    # plt.savefig(f\"{fname}.jpeg\")\n",
        "    return lr_auc\n",
        "\n",
        "def get_Metrics(y_test, y_pred, average=\"macro\"):\n",
        "    \n",
        "    lr_fpr, lr_tpr, _ = roc_curve(y_test, y_pred)\n",
        "    # find area under curve score\n",
        "    lr_auc = auc(lr_fpr, lr_tpr)\n",
        "    precision = precision_score(y_test, y_pred, average = average)\n",
        "    recall = recall_score(y_test, y_pred, average = average)\n",
        "    f1_score_ = f1_score(y_test, y_pred, average = average)\n",
        "    accuracy = accuracy_score(y_test, y_pred)\n",
        "    #print(f\"precision : {precision} recall : {recall} f1_score : {f1_score_} accuracy : {accuracy}\")\n",
        "    return precision, recall, f1_score_, accuracy, lr_auc\n"
      ],
      "execution_count": 4,
      "outputs": []
    },
    {
      "cell_type": "code",
      "metadata": {
        "id": "zWG8DrwIIyxy",
        "colab": {
          "base_uri": "https://localhost:8080/",
          "height": 204
        },
        "outputId": "3dafedaa-0ae7-490c-b12f-dfe07636a61a"
      },
      "source": [
        "\n",
        "data = pd.read_csv(f\"{dataPath}spam(madeof).csv\")\n",
        "data.head()"
      ],
      "execution_count": 5,
      "outputs": [
        {
          "output_type": "execute_result",
          "data": {
            "text/html": [
              "<div>\n",
              "<style scoped>\n",
              "    .dataframe tbody tr th:only-of-type {\n",
              "        vertical-align: middle;\n",
              "    }\n",
              "\n",
              "    .dataframe tbody tr th {\n",
              "        vertical-align: top;\n",
              "    }\n",
              "\n",
              "    .dataframe thead th {\n",
              "        text-align: right;\n",
              "    }\n",
              "</style>\n",
              "<table border=\"1\" class=\"dataframe\">\n",
              "  <thead>\n",
              "    <tr style=\"text-align: right;\">\n",
              "      <th></th>\n",
              "      <th>v1</th>\n",
              "      <th>v2</th>\n",
              "    </tr>\n",
              "  </thead>\n",
              "  <tbody>\n",
              "    <tr>\n",
              "      <th>0</th>\n",
              "      <td>ham</td>\n",
              "      <td>Subject: enron methanol ; meter # : 988291\\nth...</td>\n",
              "    </tr>\n",
              "    <tr>\n",
              "      <th>1</th>\n",
              "      <td>ham</td>\n",
              "      <td>Subject: hpl nom for january 9 , 2001\\r\\n( see...</td>\n",
              "    </tr>\n",
              "    <tr>\n",
              "      <th>2</th>\n",
              "      <td>ham</td>\n",
              "      <td>Subject: neon retreat\\r\\nho ho ho , we ' re ar...</td>\n",
              "    </tr>\n",
              "    <tr>\n",
              "      <th>3</th>\n",
              "      <td>spam</td>\n",
              "      <td>Subject: photoshop , windows , office . cheap ...</td>\n",
              "    </tr>\n",
              "    <tr>\n",
              "      <th>4</th>\n",
              "      <td>ham</td>\n",
              "      <td>Subject: re : indian springs\\r\\nthis deal is t...</td>\n",
              "    </tr>\n",
              "  </tbody>\n",
              "</table>\n",
              "</div>"
            ],
            "text/plain": [
              "     v1                                                 v2\n",
              "0   ham  Subject: enron methanol ; meter # : 988291\\nth...\n",
              "1   ham  Subject: hpl nom for january 9 , 2001\\r\\n( see...\n",
              "2   ham  Subject: neon retreat\\r\\nho ho ho , we ' re ar...\n",
              "3  spam  Subject: photoshop , windows , office . cheap ...\n",
              "4   ham  Subject: re : indian springs\\r\\nthis deal is t..."
            ]
          },
          "metadata": {},
          "execution_count": 5
        }
      ]
    },
    {
      "cell_type": "code",
      "metadata": {
        "id": "XDo-2eunIyx2"
      },
      "source": [
        "data[\"spam\"] = data.v1\n",
        "data[\"text\"] = data.v2"
      ],
      "execution_count": 6,
      "outputs": []
    },
    {
      "cell_type": "markdown",
      "metadata": {
        "id": "sOgIC9vgIyx5"
      },
      "source": [
        "# Splitting data"
      ]
    },
    {
      "cell_type": "code",
      "metadata": {
        "id": "CKqqW3y0Iyx5"
      },
      "source": [
        "emails_train, emails_test, target_train, target_test = train_test_split(data.text, data.spam, test_size = 0.2) "
      ],
      "execution_count": 7,
      "outputs": []
    },
    {
      "cell_type": "code",
      "metadata": {
        "id": "FhaVY-xSIyx8",
        "colab": {
          "base_uri": "https://localhost:8080/"
        },
        "outputId": "bad8d45b-b89e-47e6-a740-f59f9341cbc0"
      },
      "source": [
        "data.info"
      ],
      "execution_count": 8,
      "outputs": [
        {
          "output_type": "execute_result",
          "data": {
            "text/plain": [
              "<bound method DataFrame.info of         v1  ...                                               text\n",
              "0      ham  ...  Subject: enron methanol ; meter # : 988291\\nth...\n",
              "1      ham  ...  Subject: hpl nom for january 9 , 2001\\r\\n( see...\n",
              "2      ham  ...  Subject: neon retreat\\r\\nho ho ho , we ' re ar...\n",
              "3     spam  ...  Subject: photoshop , windows , office . cheap ...\n",
              "4      ham  ...  Subject: re : indian springs\\r\\nthis deal is t...\n",
              "...    ...  ...                                                ...\n",
              "5166   ham  ...  Subject: put the 10 on the ft\\r\\nthe transport...\n",
              "5167   ham  ...  Subject: 3 / 4 / 2000 and following noms\\r\\nhp...\n",
              "5168   ham  ...  Subject: calpine daily gas nomination\\r\\n>\\r\\n...\n",
              "5169   ham  ...  Subject: industrial worksheets for august 2000...\n",
              "5170  spam  ...  Subject: important online banking alert\\r\\ndea...\n",
              "\n",
              "[5171 rows x 4 columns]>"
            ]
          },
          "metadata": {},
          "execution_count": 8
        }
      ]
    },
    {
      "cell_type": "code",
      "metadata": {
        "id": "u_7DJm1kIyx-",
        "colab": {
          "base_uri": "https://localhost:8080/"
        },
        "outputId": "17155497-68c9-43de-eb58-bc83f2c483e5"
      },
      "source": [
        "emails_train.shape"
      ],
      "execution_count": 9,
      "outputs": [
        {
          "output_type": "execute_result",
          "data": {
            "text/plain": [
              "(4136,)"
            ]
          },
          "metadata": {},
          "execution_count": 9
        }
      ]
    },
    {
      "cell_type": "code",
      "metadata": {
        "id": "63xgS10UhEkX",
        "colab": {
          "base_uri": "https://localhost:8080/",
          "height": 173
        },
        "outputId": "7d8adaec-fabb-44da-ccb9-c8b9df78971b"
      },
      "source": [
        "data.describe()\n"
      ],
      "execution_count": 10,
      "outputs": [
        {
          "output_type": "execute_result",
          "data": {
            "text/html": [
              "<div>\n",
              "<style scoped>\n",
              "    .dataframe tbody tr th:only-of-type {\n",
              "        vertical-align: middle;\n",
              "    }\n",
              "\n",
              "    .dataframe tbody tr th {\n",
              "        vertical-align: top;\n",
              "    }\n",
              "\n",
              "    .dataframe thead th {\n",
              "        text-align: right;\n",
              "    }\n",
              "</style>\n",
              "<table border=\"1\" class=\"dataframe\">\n",
              "  <thead>\n",
              "    <tr style=\"text-align: right;\">\n",
              "      <th></th>\n",
              "      <th>v1</th>\n",
              "      <th>v2</th>\n",
              "      <th>spam</th>\n",
              "      <th>text</th>\n",
              "    </tr>\n",
              "  </thead>\n",
              "  <tbody>\n",
              "    <tr>\n",
              "      <th>count</th>\n",
              "      <td>5171</td>\n",
              "      <td>5171</td>\n",
              "      <td>5171</td>\n",
              "      <td>5171</td>\n",
              "    </tr>\n",
              "    <tr>\n",
              "      <th>unique</th>\n",
              "      <td>2</td>\n",
              "      <td>4993</td>\n",
              "      <td>2</td>\n",
              "      <td>4993</td>\n",
              "    </tr>\n",
              "    <tr>\n",
              "      <th>top</th>\n",
              "      <td>ham</td>\n",
              "      <td>Subject: calpine daily gas nomination\\r\\n&gt;\\r\\n...</td>\n",
              "      <td>ham</td>\n",
              "      <td>Subject: calpine daily gas nomination\\r\\n&gt;\\r\\n...</td>\n",
              "    </tr>\n",
              "    <tr>\n",
              "      <th>freq</th>\n",
              "      <td>3672</td>\n",
              "      <td>20</td>\n",
              "      <td>3672</td>\n",
              "      <td>20</td>\n",
              "    </tr>\n",
              "  </tbody>\n",
              "</table>\n",
              "</div>"
            ],
            "text/plain": [
              "          v1  ...                                               text\n",
              "count   5171  ...                                               5171\n",
              "unique     2  ...                                               4993\n",
              "top      ham  ...  Subject: calpine daily gas nomination\\r\\n>\\r\\n...\n",
              "freq    3672  ...                                                 20\n",
              "\n",
              "[4 rows x 4 columns]"
            ]
          },
          "metadata": {},
          "execution_count": 10
        }
      ]
    },
    {
      "cell_type": "code",
      "metadata": {
        "id": "CxUkV9h1hwJG",
        "colab": {
          "base_uri": "https://localhost:8080/",
          "height": 32
        },
        "outputId": "37ad21ad-d2fd-4892-f34d-861869bbf4d3"
      },
      "source": [
        "data.corr()\n"
      ],
      "execution_count": 11,
      "outputs": [
        {
          "output_type": "execute_result",
          "data": {
            "text/html": [
              "<div>\n",
              "<style scoped>\n",
              "    .dataframe tbody tr th:only-of-type {\n",
              "        vertical-align: middle;\n",
              "    }\n",
              "\n",
              "    .dataframe tbody tr th {\n",
              "        vertical-align: top;\n",
              "    }\n",
              "\n",
              "    .dataframe thead th {\n",
              "        text-align: right;\n",
              "    }\n",
              "</style>\n",
              "<table border=\"1\" class=\"dataframe\">\n",
              "  <thead>\n",
              "    <tr style=\"text-align: right;\">\n",
              "      <th></th>\n",
              "    </tr>\n",
              "  </thead>\n",
              "  <tbody>\n",
              "  </tbody>\n",
              "</table>\n",
              "</div>"
            ],
            "text/plain": [
              "Empty DataFrame\n",
              "Columns: []\n",
              "Index: []"
            ]
          },
          "metadata": {},
          "execution_count": 11
        }
      ]
    },
    {
      "cell_type": "markdown",
      "metadata": {
        "id": "W5cfcZhuIyyF"
      },
      "source": [
        "# Preprocessing"
      ]
    },
    {
      "cell_type": "code",
      "metadata": {
        "id": "UVDFx5cIIyyF"
      },
      "source": [
        "def remove_hyperlink(word):\n",
        "    return  re.sub(r'http\\S+', '', word)\n",
        "\n",
        "def to_lower(word):\n",
        "    result = word.lower()\n",
        "    return result\n",
        "\n",
        "def remove_number(word):\n",
        "    result = re.sub(r'\\d+', '', word)\n",
        "    return result\n",
        "\n",
        "def remove_punctuation(word):\n",
        "    result = word.translate(str.maketrans(dict.fromkeys(string.punctuation)))\n",
        "    return result\n",
        "\n",
        "def remove_whitespace(word):\n",
        "    result = word.strip()\n",
        "    return result\n",
        "\n",
        "def replace_newline(word):\n",
        "    return word.replace('\\n','')\n",
        "\n",
        "\n",
        "\n",
        "def clean_up_pipeline(sentence):\n",
        "    cleaning_utils = [remove_hyperlink,\n",
        "                      replace_newline,\n",
        "                      to_lower,\n",
        "                      remove_number,\n",
        "                      remove_punctuation,\n",
        "                      remove_whitespace]\n",
        "    for o in cleaning_utils:\n",
        "        sentence = o(sentence)\n",
        "    return sentence\n",
        "\n",
        "x_train = [clean_up_pipeline(o) for o in emails_train]\n",
        "x_test = [clean_up_pipeline(o) for o in emails_test]\n",
        "\n",
        "#x_train[0]"
      ],
      "execution_count": 12,
      "outputs": []
    },
    {
      "cell_type": "code",
      "metadata": {
        "id": "J6m0KYITIyyI"
      },
      "source": [
        "le = LabelEncoder()\n",
        "train_y = le.fit_transform(target_train.values)\n",
        "test_y = le.transform(target_test.values)"
      ],
      "execution_count": 13,
      "outputs": []
    },
    {
      "cell_type": "code",
      "metadata": {
        "id": "p8nTaChYIyyK",
        "colab": {
          "base_uri": "https://localhost:8080/"
        },
        "outputId": "5f39d864-34c0-442d-f07a-9f502658ec16"
      },
      "source": [
        "train_y\n"
      ],
      "execution_count": 14,
      "outputs": [
        {
          "output_type": "execute_result",
          "data": {
            "text/plain": [
              "array([0, 0, 1, ..., 0, 0, 0])"
            ]
          },
          "metadata": {},
          "execution_count": 14
        }
      ]
    },
    {
      "cell_type": "markdown",
      "metadata": {
        "id": "NQnP3LyeIyyN"
      },
      "source": [
        "# Tokenize"
      ]
    },
    {
      "cell_type": "code",
      "metadata": {
        "id": "hRfyW-pHIyyN"
      },
      "source": [
        "## some config values \n",
        "embed_size = 100 # how big is each word vector\n",
        "max_feature = 50000 # how many unique words to use (i.e num rows in embedding vector)\n",
        "max_len = 2000 # max number of words in a question to use"
      ],
      "execution_count": 15,
      "outputs": []
    },
    {
      "cell_type": "code",
      "metadata": {
        "id": "4pU9YkDwIyyQ"
      },
      "source": [
        "tokenizer = Tokenizer(num_words=max_feature)\n",
        "\n",
        "tokenizer.fit_on_texts(x_train)\n",
        "\n",
        "x_train_features = np.array(tokenizer.texts_to_sequences(x_train))\n",
        "x_test_features = np.array(tokenizer.texts_to_sequences(x_test))\n",
        "\n",
        "#x_train_features[0]"
      ],
      "execution_count": 16,
      "outputs": []
    },
    {
      "cell_type": "markdown",
      "metadata": {
        "id": "wYBAvFS-IyyT"
      },
      "source": [
        "# Padding"
      ]
    },
    {
      "cell_type": "code",
      "metadata": {
        "id": "J9qrzRgtIyyU",
        "colab": {
          "base_uri": "https://localhost:8080/"
        },
        "outputId": "74bdcecb-e078-45a3-a2da-ecb0b64989f9"
      },
      "source": [
        "x_train_features = pad_sequences(x_train_features,maxlen=max_len)\n",
        "x_test_features = pad_sequences(x_test_features,maxlen=max_len)\n",
        "x_train_features[0]"
      ],
      "execution_count": 17,
      "outputs": [
        {
          "output_type": "execute_result",
          "data": {
            "text/plain": [
              "array([  0,   0,   0, ...,  73,  48, 351], dtype=int32)"
            ]
          },
          "metadata": {},
          "execution_count": 17
        }
      ]
    },
    {
      "cell_type": "markdown",
      "metadata": {
        "id": "cNJGhByLIyyZ"
      },
      "source": [
        "# Model"
      ]
    },
    {
      "cell_type": "code",
      "metadata": {
        "id": "2ppV2YhHIyyZ"
      },
      "source": [
        "embedding_vecor_length = 32"
      ],
      "execution_count": 18,
      "outputs": []
    },
    {
      "cell_type": "markdown",
      "metadata": {
        "id": "EGKQnWl1H5BT"
      },
      "source": [
        "#**LSTM** "
      ]
    },
    {
      "cell_type": "code",
      "metadata": {
        "id": "TF3nPL7lEjhE",
        "colab": {
          "base_uri": "https://localhost:8080/"
        },
        "outputId": "81e4cce6-ca6a-48ba-bb6f-ad54dd83da99"
      },
      "source": [
        "# LSTM\n",
        "model = tf.keras.Sequential()\n",
        "model.add(Embedding(max_feature, embedding_vecor_length, input_length=max_len))\n",
        "model.add(tf.keras.layers.LSTM(64))\n",
        "model.add(Dense(16, activation='relu'))\n",
        "model.add(Dropout(0.1))\n",
        "model.add(Dense(1, activation='sigmoid'))\n",
        "model.compile(loss='binary_crossentropy', optimizer='nadam', metrics=['accuracy'])\n",
        "print(model.summary())"
      ],
      "execution_count": 19,
      "outputs": [
        {
          "output_type": "stream",
          "name": "stdout",
          "text": [
            "Model: \"sequential\"\n",
            "_________________________________________________________________\n",
            "Layer (type)                 Output Shape              Param #   \n",
            "=================================================================\n",
            "embedding (Embedding)        (None, 2000, 32)          1600000   \n",
            "_________________________________________________________________\n",
            "lstm (LSTM)                  (None, 64)                24832     \n",
            "_________________________________________________________________\n",
            "dense (Dense)                (None, 16)                1040      \n",
            "_________________________________________________________________\n",
            "dropout (Dropout)            (None, 16)                0         \n",
            "_________________________________________________________________\n",
            "dense_1 (Dense)              (None, 1)                 17        \n",
            "=================================================================\n",
            "Total params: 1,625,889\n",
            "Trainable params: 1,625,889\n",
            "Non-trainable params: 0\n",
            "_________________________________________________________________\n",
            "None\n"
          ]
        }
      ]
    },
    {
      "cell_type": "code",
      "metadata": {
        "id": "ztrrJ4CMEqg8",
        "colab": {
          "base_uri": "https://localhost:8080/"
        },
        "outputId": "f709a62a-18cc-4bca-de81-10bd63dbb9bb"
      },
      "source": [
        "# LSTM\n",
        "start = perf_counter()\n",
        "history = model.fit(x_train_features, train_y, batch_size=512, epochs=15, validation_split=0.2)\n",
        "duration_lstm = perf_counter() - start\n",
        "duration_lstm = round(duration_lstm,2)\n",
        "lstm_history = history "
      ],
      "execution_count": 20,
      "outputs": [
        {
          "output_type": "stream",
          "name": "stdout",
          "text": [
            "Epoch 1/15\n",
            "7/7 [==============================] - 7s 240ms/step - loss: 0.6880 - accuracy: 0.6654 - val_loss: 0.6757 - val_accuracy: 0.6969\n",
            "Epoch 2/15\n",
            "7/7 [==============================] - 1s 179ms/step - loss: 0.6384 - accuracy: 0.7143 - val_loss: 0.5966 - val_accuracy: 0.6969\n",
            "Epoch 3/15\n",
            "7/7 [==============================] - 1s 177ms/step - loss: 0.5427 - accuracy: 0.7146 - val_loss: 0.5412 - val_accuracy: 0.6993\n",
            "Epoch 4/15\n",
            "7/7 [==============================] - 1s 177ms/step - loss: 0.4272 - accuracy: 0.7285 - val_loss: 0.6624 - val_accuracy: 0.7077\n",
            "Epoch 5/15\n",
            "7/7 [==============================] - 1s 177ms/step - loss: 0.4594 - accuracy: 0.9232 - val_loss: 0.3738 - val_accuracy: 0.8829\n",
            "Epoch 6/15\n",
            "7/7 [==============================] - 1s 176ms/step - loss: 0.2843 - accuracy: 0.9432 - val_loss: 0.2733 - val_accuracy: 0.8937\n",
            "Epoch 7/15\n",
            "7/7 [==============================] - 1s 176ms/step - loss: 0.1834 - accuracy: 0.9773 - val_loss: 0.1997 - val_accuracy: 0.9457\n",
            "Epoch 8/15\n",
            "7/7 [==============================] - 1s 177ms/step - loss: 0.1169 - accuracy: 0.9909 - val_loss: 0.1419 - val_accuracy: 0.9589\n",
            "Epoch 9/15\n",
            "7/7 [==============================] - 1s 177ms/step - loss: 0.0783 - accuracy: 0.9891 - val_loss: 0.1182 - val_accuracy: 0.9614\n",
            "Epoch 10/15\n",
            "7/7 [==============================] - 1s 177ms/step - loss: 0.0495 - accuracy: 0.9967 - val_loss: 0.6108 - val_accuracy: 0.7959\n",
            "Epoch 11/15\n",
            "7/7 [==============================] - 1s 176ms/step - loss: 0.1260 - accuracy: 0.9722 - val_loss: 0.1123 - val_accuracy: 0.9674\n",
            "Epoch 12/15\n",
            "7/7 [==============================] - 1s 177ms/step - loss: 0.0433 - accuracy: 0.9973 - val_loss: 0.0897 - val_accuracy: 0.9662\n",
            "Epoch 13/15\n",
            "7/7 [==============================] - 1s 178ms/step - loss: 0.0274 - accuracy: 0.9970 - val_loss: 0.0854 - val_accuracy: 0.9662\n",
            "Epoch 14/15\n",
            "7/7 [==============================] - 1s 177ms/step - loss: 0.0251 - accuracy: 0.9940 - val_loss: 0.0894 - val_accuracy: 0.9626\n",
            "Epoch 15/15\n",
            "7/7 [==============================] - 1s 176ms/step - loss: 0.0172 - accuracy: 0.9982 - val_loss: 0.0869 - val_accuracy: 0.9662\n"
          ]
        }
      ]
    },
    {
      "cell_type": "code",
      "metadata": {
        "id": "UVGEuvoUF3mO",
        "colab": {
          "base_uri": "https://localhost:8080/",
          "height": 312
        },
        "outputId": "e4b756ed-3e37-450a-8baa-cc86460d4bf4"
      },
      "source": [
        "plt.plot(history.history['accuracy'])\n",
        "plt.plot(history.history['val_accuracy'])\n",
        "plt.title('Model Accuracy of LSTM_Nadam')\n",
        "plt.ylabel('accuracy')\n",
        "plt.xlabel('epoch')\n",
        "plt.legend(['train', 'test'], loc='upper left')\n",
        "plt.grid()\n",
        "plt.show()\n",
        "plt.savefig(f\"{Visuals}LSTM-nadam-acc-loss.jpeg\")"
      ],
      "execution_count": 21,
      "outputs": [
        {
          "output_type": "display_data",
          "data": {
            "image/png": "[encoded data removed]",
            "text/plain": [
              "<Figure size 432x288 with 1 Axes>"
            ]
          },
          "metadata": {
            "needs_background": "light"
          }
        },
        {
          "output_type": "display_data",
          "data": {
            "text/plain": [
              "<Figure size 432x288 with 0 Axes>"
            ]
          },
          "metadata": {}
        }
      ]
    },
    {
      "cell_type": "markdown",
      "metadata": {
        "id": "UK4HggdMSN0k"
      },
      "source": [
        "#Confusion Matrix"
      ]
    },
    {
      "cell_type": "code",
      "metadata": {
        "id": "wkPCZtzCSN0l"
      },
      "source": [
        "y_predict  = [1 if o>0.5 else 0 for o in model.predict(x_test_features)]"
      ],
      "execution_count": 22,
      "outputs": []
    },
    {
      "cell_type": "code",
      "metadata": {
        "id": "nat5MWCLSN0l"
      },
      "source": [
        "cf_matrix =confusion_matrix(test_y,y_predict)"
      ],
      "execution_count": 23,
      "outputs": []
    },
    {
      "cell_type": "code",
      "metadata": {
        "id": "j1yJD0g-SN0l",
        "colab": {
          "base_uri": "https://localhost:8080/",
          "height": 295
        },
        "outputId": "bd182a97-12d7-489e-e695-e5444197b406"
      },
      "source": [
        "ax= plt.subplot()\n",
        "sns.heatmap(cf_matrix, annot=True, ax = ax,cmap='Blues',fmt='') #annot=True to annotate cells\n",
        "\n",
        "# labels, title and ticks\n",
        "ax.set_xlabel('Predicted labels')\n",
        "ax.set_ylabel('True labels')\n",
        "ax.set_title('Confusion Matrix of LSTM_Nadam')\n",
        "ax.xaxis.set_ticklabels(['Not Spam', 'Spam'])\n",
        "ax.yaxis.set_ticklabels(['Not Spam', 'Spam'])\n",
        "plt.savefig(f\"{heatmaps}LSTM-nadam-heatmap.jpeg\")"
      ],
      "execution_count": 24,
      "outputs": [
        {
          "output_type": "display_data",
          "data": {
            "image/png": "[encoded data removed]",
            "text/plain": [
              "<Figure size 432x288 with 2 Axes>"
            ]
          },
          "metadata": {
            "needs_background": "light"
          }
        }
      ]
    },
    {
      "cell_type": "code",
      "metadata": {
        "id": "c1r63-vBSN0m"
      },
      "source": [
        "tn, fp, fn, tp = confusion_matrix(test_y,y_predict).ravel()"
      ],
      "execution_count": 25,
      "outputs": []
    },
    {
      "cell_type": "code",
      "metadata": {
        "id": "2_DNkSELSN0m",
        "colab": {
          "base_uri": "https://localhost:8080/"
        },
        "outputId": "bd71cc69-1b3e-48de-98a4-d8bec84daae7"
      },
      "source": [
        "print(\"Precision: {:.2f}%\".format(100 * precision_score(test_y, y_predict)))\n",
        "print(\"Recall: {:.2f}%\".format(100 * recall_score(test_y, y_predict)))\n",
        "print(\"F1 Score: {:.2f}%\".format(100 * f1_score(test_y,y_predict)))"
      ],
      "execution_count": 26,
      "outputs": [
        {
          "output_type": "stream",
          "name": "stdout",
          "text": [
            "Precision: 98.29%\n",
            "Recall: 95.05%\n",
            "F1 Score: 96.64%\n"
          ]
        }
      ]
    },
    {
      "cell_type": "code",
      "metadata": {
        "id": "HjkQwf8USN0m",
        "colab": {
          "base_uri": "https://localhost:8080/"
        },
        "outputId": "f4481d52-1cc6-4377-9532-9095ade51ee6"
      },
      "source": [
        "f1_score(test_y,y_predict)"
      ],
      "execution_count": 27,
      "outputs": [
        {
          "output_type": "execute_result",
          "data": {
            "text/plain": [
              "0.9664429530201342"
            ]
          },
          "metadata": {},
          "execution_count": 27
        }
      ]
    },
    {
      "cell_type": "code",
      "metadata": {
        "colab": {
          "base_uri": "https://localhost:8080/",
          "height": 312
        },
        "id": "PITJtCMMuhB-",
        "outputId": "af935b61-f662-40bd-84c5-18d4a7baa8c8"
      },
      "source": [
        "#AUC\n",
        "auc_lstm = ROC_AUC(test_y, y_predict, \"LSTM_nadam_AUC.jpeg\")"
      ],
      "execution_count": 28,
      "outputs": [
        {
          "output_type": "stream",
          "name": "stdout",
          "text": [
            "AUC: 0.9718322242060272\n"
          ]
        },
        {
          "output_type": "display_data",
          "data": {
            "image/png": "[encoded data removed]",
            "text/plain": [
              "<Figure size 432x288 with 1 Axes>"
            ]
          },
          "metadata": {
            "needs_background": "light"
          }
        }
      ]
    },
    {
      "cell_type": "code",
      "metadata": {
        "id": "-ajQ0RxktA9n"
      },
      "source": [
        "lstm = {\n",
        "    \"train-acc\" : history.history[\"accuracy\"][len(history.history[\"accuracy\"])-1],\n",
        "    \"test-acc\" : accuracy_score(test_y,y_predict),\n",
        "    \"precision\" : precision_score(test_y, y_predict),\n",
        "    \"recall\" : recall_score(test_y, y_predict),\n",
        "    \"f1-score\" : f1_score(test_y,y_predict),\n",
        "    \"AUC\" : auc_lstm,\n",
        "    \"duration\" : duration_lstm\n",
        "\n",
        "}"
      ],
      "execution_count": 29,
      "outputs": []
    },
    {
      "cell_type": "code",
      "metadata": {
        "colab": {
          "base_uri": "https://localhost:8080/"
        },
        "id": "Zm_FkJKstBJq",
        "outputId": "9e4f456b-4f85-48e3-9684-3f5bcbe3389d"
      },
      "source": [
        "!ls\n",
        "model.save(\"drive/MyDrive/Mahboob/Models/LSTM_nadam.h5\")"
      ],
      "execution_count": 30,
      "outputs": [
        {
          "output_type": "stream",
          "name": "stdout",
          "text": [
            "drive  sample_data\n"
          ]
        }
      ]
    },
    {
      "cell_type": "code",
      "metadata": {
        "colab": {
          "base_uri": "https://localhost:8080/"
        },
        "id": "tliUrJvHvbcH",
        "outputId": "25937ebc-1267-43f0-db28-c87d8746c06b"
      },
      "source": [
        "lstm"
      ],
      "execution_count": 31,
      "outputs": [
        {
          "output_type": "execute_result",
          "data": {
            "text/plain": [
              "{'AUC': 0.9718322242060272,\n",
              " 'duration': 24.03,\n",
              " 'f1-score': 0.9664429530201342,\n",
              " 'precision': 0.9829351535836177,\n",
              " 'recall': 0.9504950495049505,\n",
              " 'test-acc': 0.9806763285024155,\n",
              " 'train-acc': 0.9981862306594849}"
            ]
          },
          "metadata": {},
          "execution_count": 31
        }
      ]
    },
    {
      "cell_type": "markdown",
      "metadata": {
        "id": "7HIDKUA1IV46"
      },
      "source": [
        "#**Bi-LSTM**"
      ]
    },
    {
      "cell_type": "code",
      "metadata": {
        "id": "_ndWlmktHei7",
        "colab": {
          "base_uri": "https://localhost:8080/"
        },
        "outputId": "eae66726-faac-454d-9b4b-bb40afed71f8"
      },
      "source": [
        "# Bilstm\n",
        "model = tf.keras.Sequential()\n",
        "model.add(Embedding(max_feature, embedding_vecor_length, input_length=max_len))\n",
        "model.add(Bidirectional(tf.keras.layers.LSTM(64)))\n",
        "model.add(Dense(16, activation='relu'))\n",
        "model.add(Dropout(0.1))\n",
        "model.add(Dense(1, activation='sigmoid'))\n",
        "model.compile(loss='binary_crossentropy', optimizer='nadam', metrics=['accuracy'])\n",
        "print(model.summary())"
      ],
      "execution_count": 32,
      "outputs": [
        {
          "output_type": "stream",
          "name": "stdout",
          "text": [
            "Model: \"sequential_1\"\n",
            "_________________________________________________________________\n",
            "Layer (type)                 Output Shape              Param #   \n",
            "=================================================================\n",
            "embedding_1 (Embedding)      (None, 2000, 32)          1600000   \n",
            "_________________________________________________________________\n",
            "bidirectional (Bidirectional (None, 128)               49664     \n",
            "_________________________________________________________________\n",
            "dense_2 (Dense)              (None, 16)                2064      \n",
            "_________________________________________________________________\n",
            "dropout_1 (Dropout)          (None, 16)                0         \n",
            "_________________________________________________________________\n",
            "dense_3 (Dense)              (None, 1)                 17        \n",
            "=================================================================\n",
            "Total params: 1,651,745\n",
            "Trainable params: 1,651,745\n",
            "Non-trainable params: 0\n",
            "_________________________________________________________________\n",
            "None\n"
          ]
        }
      ]
    },
    {
      "cell_type": "code",
      "metadata": {
        "id": "Q2DY1Ga1Hj1L",
        "colab": {
          "base_uri": "https://localhost:8080/"
        },
        "outputId": "1271e684-556d-4cbd-9d7d-13435b10990b"
      },
      "source": [
        "# BiLSTM\n",
        "start = perf_counter()\n",
        "history = model.fit(x_train_features, train_y, batch_size=512, epochs=20, validation_split=0.2)\n",
        "duration_bi_lstm = perf_counter() - start\n",
        "duration_bi_lstm = round(duration_bi_lstm,2)\n",
        "bi_lstm_history = history \n"
      ],
      "execution_count": 33,
      "outputs": [
        {
          "output_type": "stream",
          "name": "stdout",
          "text": [
            "Epoch 1/20\n",
            "7/7 [==============================] - 6s 426ms/step - loss: 0.6601 - accuracy: 0.7143 - val_loss: 0.6133 - val_accuracy: 0.6969\n",
            "Epoch 2/20\n",
            "7/7 [==============================] - 2s 333ms/step - loss: 0.6231 - accuracy: 0.7143 - val_loss: 0.5301 - val_accuracy: 0.6969\n",
            "Epoch 3/20\n",
            "7/7 [==============================] - 2s 334ms/step - loss: 0.5178 - accuracy: 0.7146 - val_loss: 0.4647 - val_accuracy: 0.6981\n",
            "Epoch 4/20\n",
            "7/7 [==============================] - 2s 337ms/step - loss: 0.3692 - accuracy: 0.7494 - val_loss: 0.3462 - val_accuracy: 0.8128\n",
            "Epoch 5/20\n",
            "7/7 [==============================] - 2s 334ms/step - loss: 0.3668 - accuracy: 0.9308 - val_loss: 0.3326 - val_accuracy: 0.8949\n",
            "Epoch 6/20\n",
            "7/7 [==============================] - 2s 336ms/step - loss: 0.2486 - accuracy: 0.9686 - val_loss: 0.2585 - val_accuracy: 0.9118\n",
            "Epoch 7/20\n",
            "7/7 [==============================] - 2s 335ms/step - loss: 0.1715 - accuracy: 0.9858 - val_loss: 0.1835 - val_accuracy: 0.9577\n",
            "Epoch 8/20\n",
            "7/7 [==============================] - 2s 334ms/step - loss: 0.0887 - accuracy: 0.9921 - val_loss: 0.1200 - val_accuracy: 0.9638\n",
            "Epoch 9/20\n",
            "7/7 [==============================] - 2s 336ms/step - loss: 0.1157 - accuracy: 0.9613 - val_loss: 0.1316 - val_accuracy: 0.9541\n",
            "Epoch 10/20\n",
            "7/7 [==============================] - 2s 334ms/step - loss: 0.0581 - accuracy: 0.9915 - val_loss: 0.0976 - val_accuracy: 0.9698\n",
            "Epoch 11/20\n",
            "7/7 [==============================] - 2s 335ms/step - loss: 0.0331 - accuracy: 0.9973 - val_loss: 0.0857 - val_accuracy: 0.9674\n",
            "Epoch 12/20\n",
            "7/7 [==============================] - 2s 336ms/step - loss: 0.0231 - accuracy: 0.9976 - val_loss: 0.0805 - val_accuracy: 0.9710\n",
            "Epoch 13/20\n",
            "7/7 [==============================] - 2s 335ms/step - loss: 0.0166 - accuracy: 0.9985 - val_loss: 0.0793 - val_accuracy: 0.9698\n",
            "Epoch 14/20\n",
            "7/7 [==============================] - 2s 334ms/step - loss: 0.0192 - accuracy: 0.9952 - val_loss: 0.0962 - val_accuracy: 0.9601\n",
            "Epoch 15/20\n",
            "7/7 [==============================] - 2s 335ms/step - loss: 0.0186 - accuracy: 0.9949 - val_loss: 0.0856 - val_accuracy: 0.9674\n",
            "Epoch 16/20\n",
            "7/7 [==============================] - 2s 336ms/step - loss: 0.0139 - accuracy: 0.9967 - val_loss: 0.0810 - val_accuracy: 0.9686\n",
            "Epoch 17/20\n",
            "7/7 [==============================] - 2s 334ms/step - loss: 0.0117 - accuracy: 0.9985 - val_loss: 0.0775 - val_accuracy: 0.9698\n",
            "Epoch 18/20\n",
            "7/7 [==============================] - 2s 334ms/step - loss: 0.0089 - accuracy: 0.9991 - val_loss: 0.0751 - val_accuracy: 0.9710\n",
            "Epoch 19/20\n",
            "7/7 [==============================] - 2s 335ms/step - loss: 0.0074 - accuracy: 0.9991 - val_loss: 0.0750 - val_accuracy: 0.9686\n",
            "Epoch 20/20\n",
            "7/7 [==============================] - 2s 335ms/step - loss: 0.0063 - accuracy: 0.9994 - val_loss: 0.0753 - val_accuracy: 0.9698\n"
          ]
        }
      ]
    },
    {
      "cell_type": "code",
      "metadata": {
        "id": "SfC1t4hNq8VZ",
        "colab": {
          "base_uri": "https://localhost:8080/",
          "height": 312
        },
        "outputId": "ba898f32-1589-477b-95bf-c826c66e1b11"
      },
      "source": [
        "plt.plot(history.history['accuracy'])\n",
        "plt.plot(history.history['val_accuracy'])\n",
        "plt.title('Model Accuracy of BiLSTM_Nadam')\n",
        "plt.ylabel('accuracy')\n",
        "plt.xlabel('epoch')\n",
        "plt.legend(['train', 'test'], loc='upper left')\n",
        "plt.grid()\n",
        "plt.show()\n",
        "plt.savefig(f\"{Visuals}Bi-LSTM-nadam-acc-loss.jpeg\")"
      ],
      "execution_count": 34,
      "outputs": [
        {
          "output_type": "display_data",
          "data": {
            "image/png": "[encoded data removed]",
            "text/plain": [
              "<Figure size 432x288 with 1 Axes>"
            ]
          },
          "metadata": {
            "needs_background": "light"
          }
        },
        {
          "output_type": "display_data",
          "data": {
            "text/plain": [
              "<Figure size 432x288 with 0 Axes>"
            ]
          },
          "metadata": {}
        }
      ]
    },
    {
      "cell_type": "markdown",
      "metadata": {
        "id": "ZFaJsMleSCIs"
      },
      "source": [
        "#Confusion Matrix BiLSTM\n"
      ]
    },
    {
      "cell_type": "code",
      "metadata": {
        "id": "3LuS3-WZSCI0"
      },
      "source": [
        "y_predict  = [1 if o>0.5 else 0 for o in model.predict(x_test_features)]"
      ],
      "execution_count": 35,
      "outputs": []
    },
    {
      "cell_type": "code",
      "metadata": {
        "id": "TLUX-7XQSCI0"
      },
      "source": [
        "cf_matrix =confusion_matrix(test_y,y_predict)"
      ],
      "execution_count": 36,
      "outputs": []
    },
    {
      "cell_type": "code",
      "metadata": {
        "id": "8R-JuHugSCI0",
        "colab": {
          "base_uri": "https://localhost:8080/",
          "height": 295
        },
        "outputId": "0ea8a5f0-ad08-40f1-d1bb-66072b629755"
      },
      "source": [
        "ax= plt.subplot()\n",
        "sns.heatmap(cf_matrix, annot=True, ax = ax,cmap='Blues',fmt='') #annot=True to annotate cells\n",
        "\n",
        "# labels, title and ticks\n",
        "ax.set_xlabel('Predicted labels')\n",
        "ax.set_ylabel('True labels')\n",
        "ax.set_title('Confusion Matrix of BiLSTM_Nadam') \n",
        "ax.xaxis.set_ticklabels(['Not Spam', 'Spam']) \n",
        "ax.yaxis.set_ticklabels(['Not Spam', 'Spam'])\n",
        "plt.savefig(f\"{heatmaps}Bi-LSTM-nadam-heatmap.jpeg\")"
      ],
      "execution_count": 37,
      "outputs": [
        {
          "output_type": "display_data",
          "data": {
            "image/png": "[encoded data removed]",
            "text/plain": [
              "<Figure size 432x288 with 2 Axes>"
            ]
          },
          "metadata": {
            "needs_background": "light"
          }
        }
      ]
    },
    {
      "cell_type": "code",
      "metadata": {
        "id": "QJRNLaFhSCI1"
      },
      "source": [
        "tn, fp, fn, tp = confusion_matrix(test_y,y_predict).ravel()"
      ],
      "execution_count": 38,
      "outputs": []
    },
    {
      "cell_type": "code",
      "metadata": {
        "id": "pz1xUVAMSCI1",
        "colab": {
          "base_uri": "https://localhost:8080/"
        },
        "outputId": "c668a332-a88d-4fb3-d4b0-ecf88debb125"
      },
      "source": [
        "print(\"Precision: {:.2f}%\".format(100 * precision_score(test_y, y_predict)))\n",
        "print(\"Recall: {:.2f}%\".format(100 * recall_score(test_y, y_predict)))\n",
        "print(\"F1 Score: {:.2f}%\".format(100 * f1_score(test_y,y_predict)))"
      ],
      "execution_count": 39,
      "outputs": [
        {
          "output_type": "stream",
          "name": "stdout",
          "text": [
            "Precision: 97.65%\n",
            "Recall: 96.04%\n",
            "F1 Score: 96.84%\n"
          ]
        }
      ]
    },
    {
      "cell_type": "code",
      "metadata": {
        "id": "Jxk_14FPSCI1",
        "colab": {
          "base_uri": "https://localhost:8080/"
        },
        "outputId": "60ece3d2-bcf2-465a-e176-9eec57f483e3"
      },
      "source": [
        "f1_score(test_y,y_predict)"
      ],
      "execution_count": 40,
      "outputs": [
        {
          "output_type": "execute_result",
          "data": {
            "text/plain": [
              "0.9683860232945091"
            ]
          },
          "metadata": {},
          "execution_count": 40
        }
      ]
    },
    {
      "cell_type": "code",
      "metadata": {
        "colab": {
          "base_uri": "https://localhost:8080/",
          "height": 312
        },
        "id": "PQteFQPiw5o6",
        "outputId": "6de17951-4f59-4fc2-90df-b3262c448e06"
      },
      "source": [
        "#AUC\n",
        "auc_bi_lstm = ROC_AUC(test_y, y_predict, \"Bi-LSTM-nadam_AUC.jpeg\")"
      ],
      "execution_count": 41,
      "outputs": [
        {
          "output_type": "stream",
          "name": "stdout",
          "text": [
            "AUC: 0.9754165990369529\n"
          ]
        },
        {
          "output_type": "display_data",
          "data": {
            "image/png": "[encoded data removed]",
            "text/plain": [
              "<Figure size 432x288 with 1 Axes>"
            ]
          },
          "metadata": {
            "needs_background": "light"
          }
        }
      ]
    },
    {
      "cell_type": "code",
      "metadata": {
        "id": "6ErH-QUZw5o-"
      },
      "source": [
        "Bi_lstm = {\n",
        "    \"train-acc\" : history.history[\"accuracy\"][len(history.history[\"accuracy\"])-1],\n",
        "    \"test-acc\" : accuracy_score(test_y,y_predict),\n",
        "    \"precision\" : precision_score(test_y, y_predict),\n",
        "    \"recall\" : recall_score(test_y, y_predict),\n",
        "    \"f1-score\" : f1_score(test_y,y_predict),\n",
        "    \"AUC\" : auc_bi_lstm,\n",
        "    \"duration\" : duration_bi_lstm\n",
        "\n",
        "}"
      ],
      "execution_count": 42,
      "outputs": []
    },
    {
      "cell_type": "code",
      "metadata": {
        "colab": {
          "base_uri": "https://localhost:8080/"
        },
        "id": "LMs5jC_Qw5o-",
        "outputId": "bfc1b398-9c7b-4c91-f69d-470ffd50bb8d"
      },
      "source": [
        "!ls\n",
        "model.save(\"drive/MyDrive/Mahboob/Models/Bi_LSTM-nadam.h5\")"
      ],
      "execution_count": 43,
      "outputs": [
        {
          "output_type": "stream",
          "name": "stdout",
          "text": [
            "drive  sample_data\n"
          ]
        }
      ]
    },
    {
      "cell_type": "code",
      "metadata": {
        "colab": {
          "base_uri": "https://localhost:8080/"
        },
        "id": "D0B4R6wKw5o-",
        "outputId": "fc7df236-679a-4b82-b670-e1efd0220162"
      },
      "source": [
        "Bi_lstm"
      ],
      "execution_count": 44,
      "outputs": [
        {
          "output_type": "execute_result",
          "data": {
            "text/plain": [
              "{'AUC': 0.9754165990369529,\n",
              " 'duration': 49.98,\n",
              " 'f1-score': 0.9683860232945091,\n",
              " 'precision': 0.9765100671140939,\n",
              " 'recall': 0.9603960396039604,\n",
              " 'test-acc': 0.9816425120772947,\n",
              " 'train-acc': 0.9993954300880432}"
            ]
          },
          "metadata": {},
          "execution_count": 44
        }
      ]
    },
    {
      "cell_type": "markdown",
      "metadata": {
        "id": "zDyi3yCvIcXq"
      },
      "source": [
        "#**GRU**"
      ]
    },
    {
      "cell_type": "code",
      "metadata": {
        "id": "63n6evOJFIjU",
        "colab": {
          "base_uri": "https://localhost:8080/"
        },
        "outputId": "18f2a5ad-f4ed-42c4-8c37-e7ac0fedcd2a"
      },
      "source": [
        "#GRU\n",
        "model = tf.keras.Sequential()\n",
        "model.add(Embedding(max_feature, embedding_vecor_length, input_length=max_len))\n",
        "# model.add(GRU(units=64, dropout=0.1,recurrent_dropout=0.1))\n",
        "model.add(tf.keras.layers.GRU(64))\n",
        "model.add(Dense(16, activation='relu'))\n",
        "model.add(Dropout(0.1))\n",
        "model.add(Dense(1, activation='sigmoid'))\n",
        "model.compile(loss='binary_crossentropy', optimizer='nadam', metrics=['accuracy'])\n",
        "print(model.summary())\n"
      ],
      "execution_count": 45,
      "outputs": [
        {
          "output_type": "stream",
          "name": "stdout",
          "text": [
            "Model: \"sequential_2\"\n",
            "_________________________________________________________________\n",
            "Layer (type)                 Output Shape              Param #   \n",
            "=================================================================\n",
            "embedding_2 (Embedding)      (None, 2000, 32)          1600000   \n",
            "_________________________________________________________________\n",
            "gru (GRU)                    (None, 64)                18816     \n",
            "_________________________________________________________________\n",
            "dense_4 (Dense)              (None, 16)                1040      \n",
            "_________________________________________________________________\n",
            "dropout_2 (Dropout)          (None, 16)                0         \n",
            "_________________________________________________________________\n",
            "dense_5 (Dense)              (None, 1)                 17        \n",
            "=================================================================\n",
            "Total params: 1,619,873\n",
            "Trainable params: 1,619,873\n",
            "Non-trainable params: 0\n",
            "_________________________________________________________________\n",
            "None\n"
          ]
        }
      ]
    },
    {
      "cell_type": "code",
      "metadata": {
        "id": "n_oFHNH6Iyye",
        "colab": {
          "base_uri": "https://localhost:8080/"
        },
        "outputId": "c5028026-350e-4b16-ac4d-fb87899fe5dc"
      },
      "source": [
        "# GRU\n",
        "start = perf_counter()\n",
        "history = model.fit(x_train_features, train_y, batch_size=512, epochs=15, validation_split=0.2)\n",
        "duration_gru = perf_counter() - start\n",
        "duration_gru = round(duration_gru,2)\n",
        "gru_history = history "
      ],
      "execution_count": 46,
      "outputs": [
        {
          "output_type": "stream",
          "name": "stdout",
          "text": [
            "Epoch 1/15\n",
            "7/7 [==============================] - 3s 229ms/step - loss: 0.6809 - accuracy: 0.7025 - val_loss: 0.6634 - val_accuracy: 0.6969\n",
            "Epoch 2/15\n",
            "7/7 [==============================] - 1s 180ms/step - loss: 0.6362 - accuracy: 0.7143 - val_loss: 0.5939 - val_accuracy: 0.6969\n",
            "Epoch 3/15\n",
            "7/7 [==============================] - 1s 180ms/step - loss: 0.5282 - accuracy: 0.7149 - val_loss: 0.4709 - val_accuracy: 0.7005\n",
            "Epoch 4/15\n",
            "7/7 [==============================] - 1s 181ms/step - loss: 0.5050 - accuracy: 0.7579 - val_loss: 0.3861 - val_accuracy: 0.7705\n",
            "Epoch 5/15\n",
            "7/7 [==============================] - 1s 181ms/step - loss: 0.2942 - accuracy: 0.8482 - val_loss: 0.3069 - val_accuracy: 0.8164\n",
            "Epoch 6/15\n",
            "7/7 [==============================] - 1s 181ms/step - loss: 0.2156 - accuracy: 0.9338 - val_loss: 0.2639 - val_accuracy: 0.8671\n",
            "Epoch 7/15\n",
            "7/7 [==============================] - 1s 181ms/step - loss: 0.1685 - accuracy: 0.9755 - val_loss: 0.2200 - val_accuracy: 0.9094\n",
            "Epoch 8/15\n",
            "7/7 [==============================] - 1s 181ms/step - loss: 0.1289 - accuracy: 0.9888 - val_loss: 0.1774 - val_accuracy: 0.9275\n",
            "Epoch 9/15\n",
            "7/7 [==============================] - 1s 181ms/step - loss: 0.0916 - accuracy: 0.9930 - val_loss: 0.1657 - val_accuracy: 0.9481\n",
            "Epoch 10/15\n",
            "7/7 [==============================] - 1s 180ms/step - loss: 0.0624 - accuracy: 0.9958 - val_loss: 0.1387 - val_accuracy: 0.9601\n",
            "Epoch 11/15\n",
            "7/7 [==============================] - 1s 181ms/step - loss: 0.0439 - accuracy: 0.9964 - val_loss: 0.1103 - val_accuracy: 0.9662\n",
            "Epoch 12/15\n",
            "7/7 [==============================] - 1s 181ms/step - loss: 0.0286 - accuracy: 0.9976 - val_loss: 0.1009 - val_accuracy: 0.9710\n",
            "Epoch 13/15\n",
            "7/7 [==============================] - 1s 181ms/step - loss: 0.0216 - accuracy: 0.9985 - val_loss: 0.0964 - val_accuracy: 0.9722\n",
            "Epoch 14/15\n",
            "7/7 [==============================] - 1s 180ms/step - loss: 0.0171 - accuracy: 0.9988 - val_loss: 0.1110 - val_accuracy: 0.9734\n",
            "Epoch 15/15\n",
            "7/7 [==============================] - 1s 180ms/step - loss: 0.0105 - accuracy: 0.9994 - val_loss: 0.1155 - val_accuracy: 0.9698\n"
          ]
        }
      ]
    },
    {
      "cell_type": "code",
      "metadata": {
        "id": "VOdg_pHMq-0A",
        "colab": {
          "base_uri": "https://localhost:8080/",
          "height": 312
        },
        "outputId": "8c7d3047-ed8b-48c3-e8ca-c1547b26c0bd"
      },
      "source": [
        "plt.plot(history.history['accuracy'])\n",
        "plt.plot(history.history['val_accuracy'])\n",
        "plt.title('Model Accuracy of GRU_Nadam')\n",
        "plt.ylabel('accuracy')\n",
        "plt.xlabel('epoch')\n",
        "plt.legend(['train', 'test'], loc='upper left')\n",
        "plt.grid()\n",
        "plt.show()\n",
        "plt.savefig(f\"{Visuals}gru-nadam-acc-loss.jpeg\")"
      ],
      "execution_count": 47,
      "outputs": [
        {
          "output_type": "display_data",
          "data": {
            "image/png": "[encoded data removed]",
            "text/plain": [
              "<Figure size 432x288 with 1 Axes>"
            ]
          },
          "metadata": {
            "needs_background": "light"
          }
        },
        {
          "output_type": "display_data",
          "data": {
            "text/plain": [
              "<Figure size 432x288 with 0 Axes>"
            ]
          },
          "metadata": {}
        }
      ]
    },
    {
      "cell_type": "markdown",
      "metadata": {
        "id": "rhNLRfN9IhfF"
      },
      "source": [
        "#Confusion Matrix GRU\n"
      ]
    },
    {
      "cell_type": "code",
      "metadata": {
        "id": "gkJQ-yURJg3n"
      },
      "source": [
        "y_predict  = [1 if o>0.5 else 0 for o in model.predict(x_test_features)]"
      ],
      "execution_count": 48,
      "outputs": []
    },
    {
      "cell_type": "code",
      "metadata": {
        "id": "gB21196PJg3o"
      },
      "source": [
        "cf_matrix =confusion_matrix(test_y,y_predict)"
      ],
      "execution_count": 49,
      "outputs": []
    },
    {
      "cell_type": "code",
      "metadata": {
        "id": "47vMs8s-maLQ",
        "colab": {
          "base_uri": "https://localhost:8080/",
          "height": 295
        },
        "outputId": "1309a25a-2ef3-44dc-965c-95a9d01673a6"
      },
      "source": [
        "ax= plt.subplot()\n",
        "sns.heatmap(cf_matrix, annot=True, ax = ax,cmap='Blues',fmt='') #annot=True to annotate cells\n",
        "\n",
        "# labels, title and ticks\n",
        "ax.set_xlabel('Predicted labels')\n",
        "ax.set_ylabel('True labels')\n",
        "ax.set_title('Confusion Matrix of GRU_Nadam') \n",
        "ax.xaxis.set_ticklabels(['Not Spam', 'Spam']) \n",
        "ax.yaxis.set_ticklabels(['Not Spam', 'Spam'])\n",
        "plt.savefig(f\"{heatmaps}gru-nadam-heatmap.jpeg\")"
      ],
      "execution_count": 50,
      "outputs": [
        {
          "output_type": "display_data",
          "data": {
            "image/png": "[encoded data removed]",
            "text/plain": [
              "<Figure size 432x288 with 2 Axes>"
            ]
          },
          "metadata": {
            "needs_background": "light"
          }
        }
      ]
    },
    {
      "cell_type": "code",
      "metadata": {
        "id": "kberNYWIJg3r"
      },
      "source": [
        "tn, fp, fn, tp = confusion_matrix(test_y,y_predict).ravel()"
      ],
      "execution_count": 51,
      "outputs": []
    },
    {
      "cell_type": "code",
      "metadata": {
        "id": "kshhXwFAJg3s",
        "colab": {
          "base_uri": "https://localhost:8080/"
        },
        "outputId": "a5ebe52d-7c57-42ed-979c-817c2a9a5e2b"
      },
      "source": [
        "print(\"Precision: {:.2f}%\".format(100 * precision_score(test_y, y_predict)))\n",
        "print(\"Recall: {:.2f}%\".format(100 * recall_score(test_y, y_predict)))\n",
        "print(\"F1 Score: {:.2f}%\".format(100 * f1_score(test_y,y_predict)))"
      ],
      "execution_count": 52,
      "outputs": [
        {
          "output_type": "stream",
          "name": "stdout",
          "text": [
            "Precision: 98.30%\n",
            "Recall: 95.38%\n",
            "F1 Score: 96.82%\n"
          ]
        }
      ]
    },
    {
      "cell_type": "code",
      "metadata": {
        "id": "x8pacWZkJg3v",
        "colab": {
          "base_uri": "https://localhost:8080/"
        },
        "outputId": "0cab6a97-7126-4fc5-bc7f-20508868ff13"
      },
      "source": [
        "f1_score(test_y,y_predict)"
      ],
      "execution_count": 53,
      "outputs": [
        {
          "output_type": "execute_result",
          "data": {
            "text/plain": [
              "0.9681742043551089"
            ]
          },
          "metadata": {},
          "execution_count": 53
        }
      ]
    },
    {
      "cell_type": "code",
      "metadata": {
        "colab": {
          "base_uri": "https://localhost:8080/",
          "height": 312
        },
        "id": "xi8tTt93ywmO",
        "outputId": "e48df648-afec-49ca-8e32-af2c588ec095"
      },
      "source": [
        "#AUC\n",
        "auc_gru = ROC_AUC(test_y, y_predict, \"gru_nadam_AUC.jpeg\")"
      ],
      "execution_count": 54,
      "outputs": [
        {
          "output_type": "stream",
          "name": "stdout",
          "text": [
            "AUC: 0.9734823892225289\n"
          ]
        },
        {
          "output_type": "display_data",
          "data": {
            "image/png": "[encoded data removed]",
            "text/plain": [
              "<Figure size 432x288 with 1 Axes>"
            ]
          },
          "metadata": {
            "needs_background": "light"
          }
        }
      ]
    },
    {
      "cell_type": "code",
      "metadata": {
        "id": "WILjUhSwywmP"
      },
      "source": [
        "gru = {\n",
        "    \"train-acc\" : history.history[\"accuracy\"][len(history.history[\"accuracy\"])-1],\n",
        "    \"test-acc\" : accuracy_score(test_y,y_predict),\n",
        "    \"precision\" : precision_score(test_y, y_predict),\n",
        "    \"recall\" : recall_score(test_y, y_predict),\n",
        "    \"f1-score\" : f1_score(test_y,y_predict),\n",
        "    \"AUC\" : auc_gru,\n",
        "    \"duration\" : duration_gru\n",
        "\n",
        "}"
      ],
      "execution_count": 55,
      "outputs": []
    },
    {
      "cell_type": "code",
      "metadata": {
        "colab": {
          "base_uri": "https://localhost:8080/"
        },
        "id": "6IgwC8TaywmP",
        "outputId": "768e4db6-7228-4363-903e-59ea43dc2b27"
      },
      "source": [
        "!ls\n",
        "model.save(\"drive/MyDrive/Mahboob/Models/GRU_nadam.h5\")"
      ],
      "execution_count": 56,
      "outputs": [
        {
          "output_type": "stream",
          "name": "stdout",
          "text": [
            "drive  sample_data\n"
          ]
        }
      ]
    },
    {
      "cell_type": "code",
      "metadata": {
        "colab": {
          "base_uri": "https://localhost:8080/"
        },
        "id": "bU05FDFSywmQ",
        "outputId": "a671bb37-f563-43cb-95c6-d3f6b750972f"
      },
      "source": [
        "gru"
      ],
      "execution_count": 57,
      "outputs": [
        {
          "output_type": "execute_result",
          "data": {
            "text/plain": [
              "{'AUC': 0.9734823892225289,\n",
              " 'duration': 20.86,\n",
              " 'f1-score': 0.9681742043551089,\n",
              " 'precision': 0.9829931972789115,\n",
              " 'recall': 0.9537953795379538,\n",
              " 'test-acc': 0.9816425120772947,\n",
              " 'train-acc': 0.9993954300880432}"
            ]
          },
          "metadata": {},
          "execution_count": 57
        }
      ]
    },
    {
      "cell_type": "code",
      "metadata": {
        "colab": {
          "base_uri": "https://localhost:8080/"
        },
        "id": "FahRtIEHzH5U",
        "outputId": "08868117-9d97-4868-c6ce-548580b7462f"
      },
      "source": [
        "models_metrics = []\n",
        "Nadam = {\n",
        "    \"lstm-nadam\" : {\n",
        "        \"train-acc\" : 0,\n",
        "        \"test-acc\" : 0,\n",
        "        \"precision\" : 0,\n",
        "        \"recall\" : 0,\n",
        "        \"f1-score\" : 0,\n",
        "        \"AUC\" : 0,\n",
        "        \"duration\" : 0\n",
        "    },\n",
        "    \"Bi_lstm-nadam\" : {\n",
        "        \"train-acc\" : 0,\n",
        "        \"test-acc\" : 0,\n",
        "        \"precision\" : 0,\n",
        "        \"recall\" : 0,\n",
        "        \"f1-score\" : 0,\n",
        "        \"AUC\" : 0,\n",
        "        \"duration\" : 0\n",
        "    },\n",
        "    \"gru-nadam\" : {\n",
        "        \"train-acc\" : 0,\n",
        "        \"test-acc\" : 0,\n",
        "        \"precision\" : 0,\n",
        "        \"recall\" : 0,\n",
        "        \"f1-score\" : 0,\n",
        "        \"AUC\" : 0,\n",
        "        \"duration\" : 0\n",
        "    }\n",
        "}\n",
        "for (l,b,g) in zip(lstm,Bi_lstm,gru):\n",
        "  Nadam[\"lstm-nadam\"][l] = lstm[l]\n",
        "  Nadam[\"Bi_lstm-nadam\"][b] = Bi_lstm[b]\n",
        "  Nadam[\"gru-nadam\"][g] = gru[g]   \n",
        "\n",
        "Nadam \n",
        "\n"
      ],
      "execution_count": 58,
      "outputs": [
        {
          "output_type": "execute_result",
          "data": {
            "text/plain": [
              "{'Bi_lstm-nadam': {'AUC': 0.9754165990369529,\n",
              "  'duration': 49.98,\n",
              "  'f1-score': 0.9683860232945091,\n",
              "  'precision': 0.9765100671140939,\n",
              "  'recall': 0.9603960396039604,\n",
              "  'test-acc': 0.9816425120772947,\n",
              "  'train-acc': 0.9993954300880432},\n",
              " 'gru-nadam': {'AUC': 0.9734823892225289,\n",
              "  'duration': 20.86,\n",
              "  'f1-score': 0.9681742043551089,\n",
              "  'precision': 0.9829931972789115,\n",
              "  'recall': 0.9537953795379538,\n",
              "  'test-acc': 0.9816425120772947,\n",
              "  'train-acc': 0.9993954300880432},\n",
              " 'lstm-nadam': {'AUC': 0.9718322242060272,\n",
              "  'duration': 24.03,\n",
              "  'f1-score': 0.9664429530201342,\n",
              "  'precision': 0.9829351535836177,\n",
              "  'recall': 0.9504950495049505,\n",
              "  'test-acc': 0.9806763285024155,\n",
              "  'train-acc': 0.9981862306594849}}"
            ]
          },
          "metadata": {},
          "execution_count": 58
        }
      ]
    },
    {
      "cell_type": "code",
      "metadata": {
        "id": "Q-pgZ38Z_K_a"
      },
      "source": [
        "models_metrics= []\n",
        "for name, model in Nadam.items():\n",
        "  # print(name,model)\n",
        "  #print(model[\"y_pred\"].shape)\n",
        "  precision, recall, f1_score_,  = model[\"precision\"], model[\"recall\"], model[\"f1-score\"]\n",
        "  accuracy, lr_auc = model[\"test-acc\"], model[\"AUC\"]\n",
        "  Train_acc, duration = model[\"train-acc\"], model[\"duration\"]\n",
        "  #print(f\"precision : {precision} recall : {recall} f1_score : {f1_score_} accuracy : {accuracy}\")\n",
        "  models_metrics.append([name, precision, recall, f1_score_, Train_acc, accuracy, lr_auc, duration])\n",
        "\n",
        "df_metrics = pd.DataFrame(models_metrics)\n",
        "df_metrics.columns = ['Model', 'Precision', 'Recall', 'f1 score', \"Train Accuracy\", 'Test Accuracy', 'ROC-AUC', 'Train Time (s)']\n",
        "df_metrics.sort_values(by = 'Test Accuracy', ascending = False, inplace=True)\n",
        "df_metrics.reset_index(drop = True, inplace=True)\n",
        "df_metrics.to_csv(f\"{Comparison}Nadam_comparison.csv\") "
      ],
      "execution_count": 59,
      "outputs": []
    },
    {
      "cell_type": "code",
      "metadata": {
        "colab": {
          "base_uri": "https://localhost:8080/",
          "height": 142
        },
        "id": "DXxiakh-AU17",
        "outputId": "c12c8875-5cee-4c6f-c2fa-89efb953b6ff"
      },
      "source": [
        "df_metrics"
      ],
      "execution_count": 60,
      "outputs": [
        {
          "output_type": "execute_result",
          "data": {
            "text/html": [
              "<div>\n",
              "<style scoped>\n",
              "    .dataframe tbody tr th:only-of-type {\n",
              "        vertical-align: middle;\n",
              "    }\n",
              "\n",
              "    .dataframe tbody tr th {\n",
              "        vertical-align: top;\n",
              "    }\n",
              "\n",
              "    .dataframe thead th {\n",
              "        text-align: right;\n",
              "    }\n",
              "</style>\n",
              "<table border=\"1\" class=\"dataframe\">\n",
              "  <thead>\n",
              "    <tr style=\"text-align: right;\">\n",
              "      <th></th>\n",
              "      <th>Model</th>\n",
              "      <th>Precision</th>\n",
              "      <th>Recall</th>\n",
              "      <th>f1 score</th>\n",
              "      <th>Train Accuracy</th>\n",
              "      <th>Test Accuracy</th>\n",
              "      <th>ROC-AUC</th>\n",
              "      <th>Train Time (s)</th>\n",
              "    </tr>\n",
              "  </thead>\n",
              "  <tbody>\n",
              "    <tr>\n",
              "      <th>0</th>\n",
              "      <td>Bi_lstm-nadam</td>\n",
              "      <td>0.976510</td>\n",
              "      <td>0.960396</td>\n",
              "      <td>0.968386</td>\n",
              "      <td>0.999395</td>\n",
              "      <td>0.981643</td>\n",
              "      <td>0.975417</td>\n",
              "      <td>49.98</td>\n",
              "    </tr>\n",
              "    <tr>\n",
              "      <th>1</th>\n",
              "      <td>gru-nadam</td>\n",
              "      <td>0.982993</td>\n",
              "      <td>0.953795</td>\n",
              "      <td>0.968174</td>\n",
              "      <td>0.999395</td>\n",
              "      <td>0.981643</td>\n",
              "      <td>0.973482</td>\n",
              "      <td>20.86</td>\n",
              "    </tr>\n",
              "    <tr>\n",
              "      <th>2</th>\n",
              "      <td>lstm-nadam</td>\n",
              "      <td>0.982935</td>\n",
              "      <td>0.950495</td>\n",
              "      <td>0.966443</td>\n",
              "      <td>0.998186</td>\n",
              "      <td>0.980676</td>\n",
              "      <td>0.971832</td>\n",
              "      <td>24.03</td>\n",
              "    </tr>\n",
              "  </tbody>\n",
              "</table>\n",
              "</div>"
            ],
            "text/plain": [
              "           Model  Precision    Recall  ...  Test Accuracy   ROC-AUC  Train Time (s)\n",
              "0  Bi_lstm-nadam   0.976510  0.960396  ...       0.981643  0.975417           49.98\n",
              "1      gru-nadam   0.982993  0.953795  ...       0.981643  0.973482           20.86\n",
              "2     lstm-nadam   0.982935  0.950495  ...       0.980676  0.971832           24.03\n",
              "\n",
              "[3 rows x 8 columns]"
            ]
          },
          "metadata": {},
          "execution_count": 60
        }
      ]
    }
  ]
}